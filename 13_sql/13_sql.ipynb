{
 "cells": [
  {
   "cell_type": "markdown",
   "id": "2dcf5085",
   "metadata": {},
   "source": [
    "# Содержание <a class=\"anchor\" id=\"begining\"></a>"
   ]
  },
  {
   "cell_type": "markdown",
   "id": "dcc1d941",
   "metadata": {
    "toc": true
   },
   "source": [
    "<h1><span class=\"tocSkip\"></span></h1>\n",
    "<div class=\"toc\"><ul class=\"toc-item\"><li><span><a href=\"#Содержание-\" data-toc-modified-id=\"Содержание--1\"><span class=\"toc-item-num\">1&nbsp;&nbsp;</span>Содержание <a class=\"anchor\" id=\"begining\" rel=\"nofollow\"></a></a></span></li><li><span><a href=\"#Анализ-БД-крупного-сервиса-для-чтения-книг-по-подписке\" data-toc-modified-id=\"Анализ-БД-крупного-сервиса-для-чтения-книг-по-подписке-2\"><span class=\"toc-item-num\">2&nbsp;&nbsp;</span>Анализ БД крупного сервиса для чтения книг по подписке</a></span></li><li><span><a href=\"#Обзор-данных\" data-toc-modified-id=\"Обзор-данных-3\"><span class=\"toc-item-num\">3&nbsp;&nbsp;</span>Обзор данных</a></span></li><li><span><a href=\"#Задача-1.-Подсчет-книг,--вышедших-после-1-января-2000-года\" data-toc-modified-id=\"Задача-1.-Подсчет-книг,--вышедших-после-1-января-2000-года-4\"><span class=\"toc-item-num\">4&nbsp;&nbsp;</span>Задача 1. Подсчет книг,  вышедших после 1 января 2000 года</a></span><ul class=\"toc-item\"><li><span><a href=\"#Вывод\" data-toc-modified-id=\"Вывод-4.1\"><span class=\"toc-item-num\">4.1&nbsp;&nbsp;</span>Вывод</a></span></li></ul></li><li><span><a href=\"#Задача-2.-Подсчет-количества-обзоров-и-средней-оценки-каждой-книги\" data-toc-modified-id=\"Задача-2.-Подсчет-количества-обзоров-и-средней-оценки-каждой-книги-5\"><span class=\"toc-item-num\">5&nbsp;&nbsp;</span>Задача 2. Подсчет количества обзоров и средней оценки каждой книги</a></span><ul class=\"toc-item\"><li><span><a href=\"#Вывод\" data-toc-modified-id=\"Вывод-5.1\"><span class=\"toc-item-num\">5.1&nbsp;&nbsp;</span>Вывод</a></span></li></ul></li><li><span><a href=\"#Задача-3.-Определить-издательство,-которое-выпустило-наибольшее-число-книг-толще-50-страниц\" data-toc-modified-id=\"Задача-3.-Определить-издательство,-которое-выпустило-наибольшее-число-книг-толще-50-страниц-6\"><span class=\"toc-item-num\">6&nbsp;&nbsp;</span>Задача 3. Определить издательство, которое выпустило наибольшее число книг толще 50 страниц</a></span><ul class=\"toc-item\"><li><span><a href=\"#Вывод\" data-toc-modified-id=\"Вывод-6.1\"><span class=\"toc-item-num\">6.1&nbsp;&nbsp;</span>Вывод</a></span></li></ul></li><li><span><a href=\"#Задача-4.-Определить-автора-с-самой-высокой-средней-оценкой-книг-(среди-книг-с-50-и-более-оценками)\" data-toc-modified-id=\"Задача-4.-Определить-автора-с-самой-высокой-средней-оценкой-книг-(среди-книг-с-50-и-более-оценками)-7\"><span class=\"toc-item-num\">7&nbsp;&nbsp;</span>Задача 4. Определить автора с самой высокой средней оценкой книг (среди книг с 50 и более оценками)</a></span><ul class=\"toc-item\"><li><span><a href=\"#Вывод\" data-toc-modified-id=\"Вывод-7.1\"><span class=\"toc-item-num\">7.1&nbsp;&nbsp;</span>Вывод</a></span></li></ul></li><li><span><a href=\"#Задача-5.-Посчитать-среднее-количество-обзоров-от-пользователей,-которые-поставили-больше-50-оценок\" data-toc-modified-id=\"Задача-5.-Посчитать-среднее-количество-обзоров-от-пользователей,-которые-поставили-больше-50-оценок-8\"><span class=\"toc-item-num\">8&nbsp;&nbsp;</span>Задача 5. Посчитать среднее количество обзоров от пользователей, которые поставили больше 50 оценок</a></span><ul class=\"toc-item\"><li><span><a href=\"#Вывод\" data-toc-modified-id=\"Вывод-8.1\"><span class=\"toc-item-num\">8.1&nbsp;&nbsp;</span>Вывод</a></span></li></ul></li><li><span><a href=\"#Общий-вывод\" data-toc-modified-id=\"Общий-вывод-9\"><span class=\"toc-item-num\">9&nbsp;&nbsp;</span>Общий вывод</a></span></li></ul></div>"
   ]
  },
  {
   "cell_type": "markdown",
   "id": "d4d91916",
   "metadata": {},
   "source": [
    "# Анализ БД крупного сервиса для чтения книг по подписке"
   ]
  },
  {
   "cell_type": "markdown",
   "id": "1ad9a54e",
   "metadata": {},
   "source": [
    "**Цель исследования** - проанализировать базу данных, чтобы помочь сформулировать ценностное предложение для нового продукта.\n",
    "\n",
    "\n",
    "**Задачи:**\n",
    "\n",
    "- Посчитать, сколько книг вышло после 1 января 2000 года;\n",
    "- Для каждой книги расчитать количество обзоров и среднюю оценку;\n",
    "- Определить издательство, которое выпустило наибольшее число книг толще 50 страниц — так можно исключить из анализа брошюры;\n",
    "- Определить автора с самой высокой средней оценкой книг  (среди книг с 50 и более оценками);\n",
    "- Посчитать среднее количество обзоров от пользователей, которые поставили больше 50 оценок."
   ]
  },
  {
   "cell_type": "markdown",
   "id": "b86055a2",
   "metadata": {},
   "source": [
    "![](https://raw.githubusercontent.com/sashasepp/da_projects/main/13_sql/db.png)"
   ]
  },
  {
   "cell_type": "markdown",
   "id": "77a481f6",
   "metadata": {},
   "source": [
    "# Обзор данных "
   ]
  },
  {
   "cell_type": "markdown",
   "id": "0922d01d",
   "metadata": {},
   "source": [
    "[К содержанию](#begining)"
   ]
  },
  {
   "cell_type": "code",
   "execution_count": 1,
   "id": "043ab67c",
   "metadata": {},
   "outputs": [],
   "source": [
    "import pandas as pd\n",
    "from sqlalchemy import create_engine"
   ]
  },
  {
   "cell_type": "code",
   "execution_count": 2,
   "id": "fba88b9f",
   "metadata": {},
   "outputs": [],
   "source": [
    "# устанавливаем параметры подключения к БД\n",
    "\n",
    "db_config = {'user': '*****', # имя пользователя\n",
    "'pwd': '*****',, # пароль\n",
    "'host': '*****',,\n",
    "'port': '*****',, # порт подключения\n",
    "'db': ''*****','} # название базы данных\n",
    "\n",
    "connection_string = 'postgresql://{}:{}@{}:{}/{}'.format(db_config['user'], db_config['pwd'], db_config['host'], db_config['port'],\n",
    "db_config['db'])\n",
    "\n",
    "# сохраняем коннектор\n",
    "engine = create_engine(connection_string, connect_args={'sslmode':'require'})"
   ]
  },
  {
   "cell_type": "markdown",
   "id": "88fa2bb7",
   "metadata": {},
   "source": [
    "Посмотрим какие таблицы и данные есть в нашем распоряжении"
   ]
  },
  {
   "cell_type": "code",
   "execution_count": 3,
   "id": "5d4b5bf4",
   "metadata": {},
   "outputs": [
    {
     "data": {
      "text/html": [
       "<div>\n",
       "<style scoped>\n",
       "    .dataframe tbody tr th:only-of-type {\n",
       "        vertical-align: middle;\n",
       "    }\n",
       "\n",
       "    .dataframe tbody tr th {\n",
       "        vertical-align: top;\n",
       "    }\n",
       "\n",
       "    .dataframe thead th {\n",
       "        text-align: right;\n",
       "    }\n",
       "</style>\n",
       "<table border=\"1\" class=\"dataframe\">\n",
       "  <thead>\n",
       "    <tr style=\"text-align: right;\">\n",
       "      <th></th>\n",
       "      <th>book_id</th>\n",
       "      <th>author_id</th>\n",
       "      <th>title</th>\n",
       "      <th>num_pages</th>\n",
       "      <th>publication_date</th>\n",
       "      <th>publisher_id</th>\n",
       "    </tr>\n",
       "  </thead>\n",
       "  <tbody>\n",
       "    <tr>\n",
       "      <th>0</th>\n",
       "      <td>1</td>\n",
       "      <td>546</td>\n",
       "      <td>'Salem's Lot</td>\n",
       "      <td>594</td>\n",
       "      <td>2005-11-01</td>\n",
       "      <td>93</td>\n",
       "    </tr>\n",
       "    <tr>\n",
       "      <th>1</th>\n",
       "      <td>2</td>\n",
       "      <td>465</td>\n",
       "      <td>1 000 Places to See Before You Die</td>\n",
       "      <td>992</td>\n",
       "      <td>2003-05-22</td>\n",
       "      <td>336</td>\n",
       "    </tr>\n",
       "    <tr>\n",
       "      <th>2</th>\n",
       "      <td>3</td>\n",
       "      <td>407</td>\n",
       "      <td>13 Little Blue Envelopes (Little Blue Envelope...</td>\n",
       "      <td>322</td>\n",
       "      <td>2010-12-21</td>\n",
       "      <td>135</td>\n",
       "    </tr>\n",
       "    <tr>\n",
       "      <th>3</th>\n",
       "      <td>4</td>\n",
       "      <td>82</td>\n",
       "      <td>1491: New Revelations of the Americas Before C...</td>\n",
       "      <td>541</td>\n",
       "      <td>2006-10-10</td>\n",
       "      <td>309</td>\n",
       "    </tr>\n",
       "    <tr>\n",
       "      <th>4</th>\n",
       "      <td>5</td>\n",
       "      <td>125</td>\n",
       "      <td>1776</td>\n",
       "      <td>386</td>\n",
       "      <td>2006-07-04</td>\n",
       "      <td>268</td>\n",
       "    </tr>\n",
       "  </tbody>\n",
       "</table>\n",
       "</div>"
      ],
      "text/plain": [
       "   book_id  author_id                                              title  \\\n",
       "0        1        546                                       'Salem's Lot   \n",
       "1        2        465                 1 000 Places to See Before You Die   \n",
       "2        3        407  13 Little Blue Envelopes (Little Blue Envelope...   \n",
       "3        4         82  1491: New Revelations of the Americas Before C...   \n",
       "4        5        125                                               1776   \n",
       "\n",
       "   num_pages publication_date  publisher_id  \n",
       "0        594       2005-11-01            93  \n",
       "1        992       2003-05-22           336  \n",
       "2        322       2010-12-21           135  \n",
       "3        541       2006-10-10           309  \n",
       "4        386       2006-07-04           268  "
      ]
     },
     "execution_count": 3,
     "metadata": {},
     "output_type": "execute_result"
    }
   ],
   "source": [
    "#запрос\n",
    "query = '''\n",
    "SELECT *\n",
    "FROM books\n",
    "LIMIT 5;\n",
    "'''\n",
    "\n",
    "# вывод таблицы books\n",
    "pd.io.sql.read_sql(query, con = engine)"
   ]
  },
  {
   "cell_type": "code",
   "execution_count": 4,
   "id": "aa35f9aa",
   "metadata": {},
   "outputs": [
    {
     "data": {
      "text/html": [
       "<div>\n",
       "<style scoped>\n",
       "    .dataframe tbody tr th:only-of-type {\n",
       "        vertical-align: middle;\n",
       "    }\n",
       "\n",
       "    .dataframe tbody tr th {\n",
       "        vertical-align: top;\n",
       "    }\n",
       "\n",
       "    .dataframe thead th {\n",
       "        text-align: right;\n",
       "    }\n",
       "</style>\n",
       "<table border=\"1\" class=\"dataframe\">\n",
       "  <thead>\n",
       "    <tr style=\"text-align: right;\">\n",
       "      <th></th>\n",
       "      <th>author_id</th>\n",
       "      <th>author</th>\n",
       "    </tr>\n",
       "  </thead>\n",
       "  <tbody>\n",
       "    <tr>\n",
       "      <th>0</th>\n",
       "      <td>1</td>\n",
       "      <td>A.S. Byatt</td>\n",
       "    </tr>\n",
       "    <tr>\n",
       "      <th>1</th>\n",
       "      <td>2</td>\n",
       "      <td>Aesop/Laura Harris/Laura Gibbs</td>\n",
       "    </tr>\n",
       "    <tr>\n",
       "      <th>2</th>\n",
       "      <td>3</td>\n",
       "      <td>Agatha Christie</td>\n",
       "    </tr>\n",
       "    <tr>\n",
       "      <th>3</th>\n",
       "      <td>4</td>\n",
       "      <td>Alan Brennert</td>\n",
       "    </tr>\n",
       "    <tr>\n",
       "      <th>4</th>\n",
       "      <td>5</td>\n",
       "      <td>Alan Moore/David   Lloyd</td>\n",
       "    </tr>\n",
       "  </tbody>\n",
       "</table>\n",
       "</div>"
      ],
      "text/plain": [
       "   author_id                          author\n",
       "0          1                      A.S. Byatt\n",
       "1          2  Aesop/Laura Harris/Laura Gibbs\n",
       "2          3                 Agatha Christie\n",
       "3          4                   Alan Brennert\n",
       "4          5        Alan Moore/David   Lloyd"
      ]
     },
     "execution_count": 4,
     "metadata": {},
     "output_type": "execute_result"
    }
   ],
   "source": [
    "#запрос\n",
    "query = '''\n",
    "SELECT *\n",
    "FROM authors\n",
    "LIMIT 5;\n",
    "'''\n",
    "\n",
    "# вывод таблицы authors\n",
    "pd.io.sql.read_sql(query, con = engine)"
   ]
  },
  {
   "cell_type": "code",
   "execution_count": 5,
   "id": "3dcc17b8",
   "metadata": {},
   "outputs": [
    {
     "data": {
      "text/html": [
       "<div>\n",
       "<style scoped>\n",
       "    .dataframe tbody tr th:only-of-type {\n",
       "        vertical-align: middle;\n",
       "    }\n",
       "\n",
       "    .dataframe tbody tr th {\n",
       "        vertical-align: top;\n",
       "    }\n",
       "\n",
       "    .dataframe thead th {\n",
       "        text-align: right;\n",
       "    }\n",
       "</style>\n",
       "<table border=\"1\" class=\"dataframe\">\n",
       "  <thead>\n",
       "    <tr style=\"text-align: right;\">\n",
       "      <th></th>\n",
       "      <th>rating_id</th>\n",
       "      <th>book_id</th>\n",
       "      <th>username</th>\n",
       "      <th>rating</th>\n",
       "    </tr>\n",
       "  </thead>\n",
       "  <tbody>\n",
       "    <tr>\n",
       "      <th>0</th>\n",
       "      <td>1</td>\n",
       "      <td>1</td>\n",
       "      <td>ryanfranco</td>\n",
       "      <td>4</td>\n",
       "    </tr>\n",
       "    <tr>\n",
       "      <th>1</th>\n",
       "      <td>2</td>\n",
       "      <td>1</td>\n",
       "      <td>grantpatricia</td>\n",
       "      <td>2</td>\n",
       "    </tr>\n",
       "    <tr>\n",
       "      <th>2</th>\n",
       "      <td>3</td>\n",
       "      <td>1</td>\n",
       "      <td>brandtandrea</td>\n",
       "      <td>5</td>\n",
       "    </tr>\n",
       "    <tr>\n",
       "      <th>3</th>\n",
       "      <td>4</td>\n",
       "      <td>2</td>\n",
       "      <td>lorichen</td>\n",
       "      <td>3</td>\n",
       "    </tr>\n",
       "    <tr>\n",
       "      <th>4</th>\n",
       "      <td>5</td>\n",
       "      <td>2</td>\n",
       "      <td>mariokeller</td>\n",
       "      <td>2</td>\n",
       "    </tr>\n",
       "  </tbody>\n",
       "</table>\n",
       "</div>"
      ],
      "text/plain": [
       "   rating_id  book_id       username  rating\n",
       "0          1        1     ryanfranco       4\n",
       "1          2        1  grantpatricia       2\n",
       "2          3        1   brandtandrea       5\n",
       "3          4        2       lorichen       3\n",
       "4          5        2    mariokeller       2"
      ]
     },
     "execution_count": 5,
     "metadata": {},
     "output_type": "execute_result"
    }
   ],
   "source": [
    "#запрос\n",
    "query = '''\n",
    "SELECT *\n",
    "FROM ratings\n",
    "LIMIT 5;\n",
    "'''\n",
    "\n",
    "# вывод таблицы ratings\n",
    "pd.io.sql.read_sql(query, con = engine)"
   ]
  },
  {
   "cell_type": "code",
   "execution_count": 6,
   "id": "561e9f09",
   "metadata": {},
   "outputs": [
    {
     "data": {
      "text/html": [
       "<div>\n",
       "<style scoped>\n",
       "    .dataframe tbody tr th:only-of-type {\n",
       "        vertical-align: middle;\n",
       "    }\n",
       "\n",
       "    .dataframe tbody tr th {\n",
       "        vertical-align: top;\n",
       "    }\n",
       "\n",
       "    .dataframe thead th {\n",
       "        text-align: right;\n",
       "    }\n",
       "</style>\n",
       "<table border=\"1\" class=\"dataframe\">\n",
       "  <thead>\n",
       "    <tr style=\"text-align: right;\">\n",
       "      <th></th>\n",
       "      <th>review_id</th>\n",
       "      <th>book_id</th>\n",
       "      <th>username</th>\n",
       "      <th>text</th>\n",
       "    </tr>\n",
       "  </thead>\n",
       "  <tbody>\n",
       "    <tr>\n",
       "      <th>0</th>\n",
       "      <td>1</td>\n",
       "      <td>1</td>\n",
       "      <td>brandtandrea</td>\n",
       "      <td>Mention society tell send professor analysis. ...</td>\n",
       "    </tr>\n",
       "    <tr>\n",
       "      <th>1</th>\n",
       "      <td>2</td>\n",
       "      <td>1</td>\n",
       "      <td>ryanfranco</td>\n",
       "      <td>Foot glass pretty audience hit themselves. Amo...</td>\n",
       "    </tr>\n",
       "    <tr>\n",
       "      <th>2</th>\n",
       "      <td>3</td>\n",
       "      <td>2</td>\n",
       "      <td>lorichen</td>\n",
       "      <td>Listen treat keep worry. Miss husband tax but ...</td>\n",
       "    </tr>\n",
       "    <tr>\n",
       "      <th>3</th>\n",
       "      <td>4</td>\n",
       "      <td>3</td>\n",
       "      <td>johnsonamanda</td>\n",
       "      <td>Finally month interesting blue could nature cu...</td>\n",
       "    </tr>\n",
       "    <tr>\n",
       "      <th>4</th>\n",
       "      <td>5</td>\n",
       "      <td>3</td>\n",
       "      <td>scotttamara</td>\n",
       "      <td>Nation purpose heavy give wait song will. List...</td>\n",
       "    </tr>\n",
       "  </tbody>\n",
       "</table>\n",
       "</div>"
      ],
      "text/plain": [
       "   review_id  book_id       username  \\\n",
       "0          1        1   brandtandrea   \n",
       "1          2        1     ryanfranco   \n",
       "2          3        2       lorichen   \n",
       "3          4        3  johnsonamanda   \n",
       "4          5        3    scotttamara   \n",
       "\n",
       "                                                text  \n",
       "0  Mention society tell send professor analysis. ...  \n",
       "1  Foot glass pretty audience hit themselves. Amo...  \n",
       "2  Listen treat keep worry. Miss husband tax but ...  \n",
       "3  Finally month interesting blue could nature cu...  \n",
       "4  Nation purpose heavy give wait song will. List...  "
      ]
     },
     "execution_count": 6,
     "metadata": {},
     "output_type": "execute_result"
    }
   ],
   "source": [
    "#запрос\n",
    "query = '''\n",
    "SELECT *\n",
    "FROM reviews\n",
    "LIMIT 5;\n",
    "'''\n",
    "\n",
    "# вывод таблицы reviews\n",
    "pd.io.sql.read_sql(query, con = engine)"
   ]
  },
  {
   "cell_type": "code",
   "execution_count": 7,
   "id": "54beb091",
   "metadata": {},
   "outputs": [
    {
     "data": {
      "text/html": [
       "<div>\n",
       "<style scoped>\n",
       "    .dataframe tbody tr th:only-of-type {\n",
       "        vertical-align: middle;\n",
       "    }\n",
       "\n",
       "    .dataframe tbody tr th {\n",
       "        vertical-align: top;\n",
       "    }\n",
       "\n",
       "    .dataframe thead th {\n",
       "        text-align: right;\n",
       "    }\n",
       "</style>\n",
       "<table border=\"1\" class=\"dataframe\">\n",
       "  <thead>\n",
       "    <tr style=\"text-align: right;\">\n",
       "      <th></th>\n",
       "      <th>publisher_id</th>\n",
       "      <th>publisher</th>\n",
       "    </tr>\n",
       "  </thead>\n",
       "  <tbody>\n",
       "    <tr>\n",
       "      <th>0</th>\n",
       "      <td>1</td>\n",
       "      <td>Ace</td>\n",
       "    </tr>\n",
       "    <tr>\n",
       "      <th>1</th>\n",
       "      <td>2</td>\n",
       "      <td>Ace Book</td>\n",
       "    </tr>\n",
       "    <tr>\n",
       "      <th>2</th>\n",
       "      <td>3</td>\n",
       "      <td>Ace Books</td>\n",
       "    </tr>\n",
       "    <tr>\n",
       "      <th>3</th>\n",
       "      <td>4</td>\n",
       "      <td>Ace Hardcover</td>\n",
       "    </tr>\n",
       "    <tr>\n",
       "      <th>4</th>\n",
       "      <td>5</td>\n",
       "      <td>Addison Wesley Publishing Company</td>\n",
       "    </tr>\n",
       "  </tbody>\n",
       "</table>\n",
       "</div>"
      ],
      "text/plain": [
       "   publisher_id                          publisher\n",
       "0             1                                Ace\n",
       "1             2                           Ace Book\n",
       "2             3                          Ace Books\n",
       "3             4                      Ace Hardcover\n",
       "4             5  Addison Wesley Publishing Company"
      ]
     },
     "execution_count": 7,
     "metadata": {},
     "output_type": "execute_result"
    }
   ],
   "source": [
    "#запрос\n",
    "query = '''\n",
    "SELECT *\n",
    "FROM publishers\n",
    "LIMIT 5;\n",
    "'''\n",
    "\n",
    "# вывод таблицы publishers\n",
    "pd.io.sql.read_sql(query, con = engine)"
   ]
  },
  {
   "cell_type": "markdown",
   "id": "af9ebec3",
   "metadata": {},
   "source": [
    "**Описание данных**\n",
    "\n",
    "\n",
    "**Таблица `books`**\n",
    "\n",
    "Содержит данные о книгах:\n",
    "\n",
    "- `book_id` — идентификатор книги;\n",
    "- `author_id` — идентификатор автора;\n",
    "- `title` — название книги;\n",
    "- `num_pages` — количество страниц;\n",
    "- `publication_date` — дата публикации книги;\n",
    "- `publisher_id` — идентификатор издателя.\n",
    "\n",
    "**Таблица `authors`**\n",
    "\n",
    "Содержит данные об авторах:\n",
    "\n",
    "- `author_id` — идентификатор автора;\n",
    "- `author` — имя автора.\n",
    "\n",
    "**Таблица `publishers`**\n",
    "\n",
    "Содержит данные об издательствах:\n",
    "\n",
    "- `publisher_id` — идентификатор издательства;\n",
    "- `publisher` — название издательства;\n",
    "\n",
    "**Таблица `ratings`**\n",
    "\n",
    "Содержит данные о пользовательских оценках книг:\n",
    "\n",
    "- `rating_id` — идентификатор оценки;\n",
    "- `book_id` — идентификатор книги;\n",
    "- `username` — имя пользователя, оставившего оценку;\n",
    "- `rating` — оценка книги.\n",
    "\n",
    "**Таблица `reviews`**\n",
    "\n",
    "Содержит данные о пользовательских обзорах на книги:\n",
    "\n",
    "- `review_id` — идентификатор обзора;\n",
    "- `book_id` — идентификатор книги;\n",
    "- `username` — имя пользователя, написавшего обзор;\n",
    "- `text` — текст обзора."
   ]
  },
  {
   "cell_type": "markdown",
   "id": "efe187c8",
   "metadata": {},
   "source": [
    "# Задача 1. Подсчет книг,  вышедших после 1 января 2000 года"
   ]
  },
  {
   "cell_type": "markdown",
   "id": "fcb7113c",
   "metadata": {},
   "source": [
    "[К содержанию](#begining)"
   ]
  },
  {
   "cell_type": "code",
   "execution_count": 13,
   "id": "6af2fa56",
   "metadata": {},
   "outputs": [
    {
     "data": {
      "text/plain": [
       "821"
      ]
     },
     "metadata": {},
     "output_type": "display_data"
    },
    {
     "name": "stdout",
     "output_type": "stream",
     "text": [
      "После после 1 января 2000 года вышлa 821 книгa\n"
     ]
    }
   ],
   "source": [
    "#запрос\n",
    "query = '''\n",
    "SELECT COUNT(*)\n",
    "FROM books\n",
    "WHERE publication_date >= '2000-01-01';\n",
    "'''\n",
    "\n",
    "# вывод результата\n",
    "number_of_books =  pd.io.sql.read_sql(query, con = engine).iloc[0, 0]\n",
    "display(number_of_books)\n",
    "print(f'После после 1 января 2000 года вышлa {number_of_books} книгa')"
   ]
  },
  {
   "cell_type": "markdown",
   "id": "680c90c7",
   "metadata": {},
   "source": [
    "## Вывод\n",
    "\n",
    "В нашем сервисе достаточное количество современной литературы для наших подписчиков - есть из чего выбирать"
   ]
  },
  {
   "cell_type": "markdown",
   "id": "2ba896ea",
   "metadata": {},
   "source": [
    "# Задача 2. Подсчет количества обзоров и средней оценки каждой книги"
   ]
  },
  {
   "cell_type": "markdown",
   "id": "4987f75a",
   "metadata": {},
   "source": [
    "[К содержанию](#begining)"
   ]
  },
  {
   "cell_type": "code",
   "execution_count": 9,
   "id": "db3b6c23",
   "metadata": {},
   "outputs": [
    {
     "data": {
      "text/html": [
       "<div>\n",
       "<style scoped>\n",
       "    .dataframe tbody tr th:only-of-type {\n",
       "        vertical-align: middle;\n",
       "    }\n",
       "\n",
       "    .dataframe tbody tr th {\n",
       "        vertical-align: top;\n",
       "    }\n",
       "\n",
       "    .dataframe thead th {\n",
       "        text-align: right;\n",
       "    }\n",
       "</style>\n",
       "<table border=\"1\" class=\"dataframe\">\n",
       "  <thead>\n",
       "    <tr style=\"text-align: right;\">\n",
       "      <th></th>\n",
       "      <th>book</th>\n",
       "      <th>reviews</th>\n",
       "      <th>av_rating</th>\n",
       "    </tr>\n",
       "  </thead>\n",
       "  <tbody>\n",
       "    <tr>\n",
       "      <th>0</th>\n",
       "      <td>The Body in the Library (Miss Marple  #3)</td>\n",
       "      <td>2.0</td>\n",
       "      <td>4.500000</td>\n",
       "    </tr>\n",
       "    <tr>\n",
       "      <th>1</th>\n",
       "      <td>Galápagos</td>\n",
       "      <td>2.0</td>\n",
       "      <td>4.500000</td>\n",
       "    </tr>\n",
       "    <tr>\n",
       "      <th>2</th>\n",
       "      <td>A Tree Grows in Brooklyn</td>\n",
       "      <td>5.0</td>\n",
       "      <td>4.250000</td>\n",
       "    </tr>\n",
       "    <tr>\n",
       "      <th>3</th>\n",
       "      <td>Undaunted Courage: The Pioneering First Missio...</td>\n",
       "      <td>2.0</td>\n",
       "      <td>4.000000</td>\n",
       "    </tr>\n",
       "    <tr>\n",
       "      <th>4</th>\n",
       "      <td>The Prophet</td>\n",
       "      <td>4.0</td>\n",
       "      <td>4.285714</td>\n",
       "    </tr>\n",
       "    <tr>\n",
       "      <th>...</th>\n",
       "      <td>...</td>\n",
       "      <td>...</td>\n",
       "      <td>...</td>\n",
       "    </tr>\n",
       "    <tr>\n",
       "      <th>995</th>\n",
       "      <td>The Cat in the Hat and Other Dr. Seuss Favorites</td>\n",
       "      <td>NaN</td>\n",
       "      <td>5.000000</td>\n",
       "    </tr>\n",
       "    <tr>\n",
       "      <th>996</th>\n",
       "      <td>Anne Rice's The Vampire Lestat: A Graphic Novel</td>\n",
       "      <td>NaN</td>\n",
       "      <td>3.666667</td>\n",
       "    </tr>\n",
       "    <tr>\n",
       "      <th>997</th>\n",
       "      <td>Essential Tales and Poems</td>\n",
       "      <td>NaN</td>\n",
       "      <td>4.000000</td>\n",
       "    </tr>\n",
       "    <tr>\n",
       "      <th>998</th>\n",
       "      <td>Leonardo's Notebooks</td>\n",
       "      <td>NaN</td>\n",
       "      <td>4.000000</td>\n",
       "    </tr>\n",
       "    <tr>\n",
       "      <th>999</th>\n",
       "      <td>The Natural Way to Draw</td>\n",
       "      <td>NaN</td>\n",
       "      <td>3.000000</td>\n",
       "    </tr>\n",
       "  </tbody>\n",
       "</table>\n",
       "<p>1000 rows × 3 columns</p>\n",
       "</div>"
      ],
      "text/plain": [
       "                                                  book  reviews  av_rating\n",
       "0            The Body in the Library (Miss Marple  #3)      2.0   4.500000\n",
       "1                                            Galápagos      2.0   4.500000\n",
       "2                             A Tree Grows in Brooklyn      5.0   4.250000\n",
       "3    Undaunted Courage: The Pioneering First Missio...      2.0   4.000000\n",
       "4                                          The Prophet      4.0   4.285714\n",
       "..                                                 ...      ...        ...\n",
       "995   The Cat in the Hat and Other Dr. Seuss Favorites      NaN   5.000000\n",
       "996    Anne Rice's The Vampire Lestat: A Graphic Novel      NaN   3.666667\n",
       "997                          Essential Tales and Poems      NaN   4.000000\n",
       "998                               Leonardo's Notebooks      NaN   4.000000\n",
       "999                            The Natural Way to Draw      NaN   3.000000\n",
       "\n",
       "[1000 rows x 3 columns]"
      ]
     },
     "execution_count": 9,
     "metadata": {},
     "output_type": "execute_result"
    }
   ],
   "source": [
    "#запрос\n",
    "query = '''\n",
    "WITH \n",
    "rev AS(SELECT book_id,\n",
    "       COUNT(review_id) AS reviews\n",
    "       FROM reviews\n",
    "       GROUP BY book_id),\n",
    "\n",
    "rat AS (SELECT book_id,\n",
    "        AVG(rating) AS av_rating\n",
    "        FROM ratings\n",
    "        GROUP BY book_id)\n",
    "\n",
    "\n",
    "SELECT b.title AS book,\n",
    "       rev.reviews,\n",
    "       rat.av_rating\n",
    "FROM books AS b\n",
    "LEFT JOIN rev ON b.book_id = rev.book_id\n",
    "LEFT JOIN rat ON b.book_id = rat.book_id;\n",
    "'''\n",
    "\n",
    "# вывод результата\n",
    "books_rating_reviews =  pd.io.sql.read_sql(query, con = engine)\n",
    "books_rating_reviews"
   ]
  },
  {
   "cell_type": "markdown",
   "id": "1a8ca0c8",
   "metadata": {},
   "source": [
    "## Вывод\n",
    "\n",
    "В нашем сервисе достаточное количество обзоров и оценок для того, чтобы нашим подписчикам было проше сделать свой выбор "
   ]
  },
  {
   "cell_type": "markdown",
   "id": "7de64480",
   "metadata": {},
   "source": [
    "# Задача 3. Определить издательство, которое выпустило наибольшее число книг толще 50 страниц"
   ]
  },
  {
   "cell_type": "markdown",
   "id": "f30ead20",
   "metadata": {},
   "source": [
    "[К содержанию](#begining)"
   ]
  },
  {
   "cell_type": "code",
   "execution_count": 10,
   "id": "9a62faf9",
   "metadata": {},
   "outputs": [
    {
     "data": {
      "text/html": [
       "<div>\n",
       "<style scoped>\n",
       "    .dataframe tbody tr th:only-of-type {\n",
       "        vertical-align: middle;\n",
       "    }\n",
       "\n",
       "    .dataframe tbody tr th {\n",
       "        vertical-align: top;\n",
       "    }\n",
       "\n",
       "    .dataframe thead th {\n",
       "        text-align: right;\n",
       "    }\n",
       "</style>\n",
       "<table border=\"1\" class=\"dataframe\">\n",
       "  <thead>\n",
       "    <tr style=\"text-align: right;\">\n",
       "      <th></th>\n",
       "      <th>publisher</th>\n",
       "      <th>num_books</th>\n",
       "    </tr>\n",
       "  </thead>\n",
       "  <tbody>\n",
       "    <tr>\n",
       "      <th>0</th>\n",
       "      <td>Penguin Books</td>\n",
       "      <td>42</td>\n",
       "    </tr>\n",
       "  </tbody>\n",
       "</table>\n",
       "</div>"
      ],
      "text/plain": [
       "       publisher  num_books\n",
       "0  Penguin Books         42"
      ]
     },
     "metadata": {},
     "output_type": "display_data"
    },
    {
     "name": "stdout",
     "output_type": "stream",
     "text": [
      "Больше всего книг толще 50 стр. у издательства Penguin Books, которое выпустило 42 книги\n"
     ]
    }
   ],
   "source": [
    "#запрос\n",
    "query = '''\n",
    "WITH \n",
    "b AS(SELECT book_id,\n",
    "            publisher_id\n",
    "     FROM books\n",
    "     WHERE num_pages > 50)\n",
    "\n",
    "\n",
    "SELECT p.publisher,\n",
    "       COUNT(b.book_id) AS num_books\n",
    "FROM publishers AS p\n",
    "LEFT JOIN b ON p.publisher_id = b.publisher_id\n",
    "GROUP BY p.publisher_id\n",
    "ORDER BY num_books DESC\n",
    "LIMIT 1;\n",
    "'''\n",
    "\n",
    "# вывод результата\n",
    "top_publisher =  pd.io.sql.read_sql(query, con = engine)\n",
    "display(top_publisher)\n",
    "print(f'Больше всего книг толще 50 стр. у издательства {top_publisher.iloc[0, 0]}, которое выпустило {top_publisher.iloc[0, 1]} книги')"
   ]
  },
  {
   "cell_type": "markdown",
   "id": "66eb598c",
   "metadata": {},
   "source": [
    "## Вывод\n",
    "\n",
    "Наиболее плодотворное сотрудничество у нас налажено с издательством Penguin Books"
   ]
  },
  {
   "cell_type": "markdown",
   "id": "1e15857e",
   "metadata": {},
   "source": [
    "# Задача 4. Определить автора с самой высокой средней оценкой книг (среди книг с 50 и более оценками)"
   ]
  },
  {
   "cell_type": "markdown",
   "id": "97dd7ac5",
   "metadata": {},
   "source": [
    "[К содержанию](#begining)"
   ]
  },
  {
   "cell_type": "code",
   "execution_count": 11,
   "id": "bf4e4abe",
   "metadata": {
    "scrolled": true
   },
   "outputs": [
    {
     "data": {
      "text/html": [
       "<div>\n",
       "<style scoped>\n",
       "    .dataframe tbody tr th:only-of-type {\n",
       "        vertical-align: middle;\n",
       "    }\n",
       "\n",
       "    .dataframe tbody tr th {\n",
       "        vertical-align: top;\n",
       "    }\n",
       "\n",
       "    .dataframe thead th {\n",
       "        text-align: right;\n",
       "    }\n",
       "</style>\n",
       "<table border=\"1\" class=\"dataframe\">\n",
       "  <thead>\n",
       "    <tr style=\"text-align: right;\">\n",
       "      <th></th>\n",
       "      <th>author</th>\n",
       "      <th>avg_rating</th>\n",
       "    </tr>\n",
       "  </thead>\n",
       "  <tbody>\n",
       "    <tr>\n",
       "      <th>0</th>\n",
       "      <td>J.K. Rowling/Mary GrandPré</td>\n",
       "      <td>4.287097</td>\n",
       "    </tr>\n",
       "  </tbody>\n",
       "</table>\n",
       "</div>"
      ],
      "text/plain": [
       "                       author  avg_rating\n",
       "0  J.K. Rowling/Mary GrandPré    4.287097"
      ]
     },
     "metadata": {},
     "output_type": "display_data"
    },
    {
     "name": "stdout",
     "output_type": "stream",
     "text": [
      "Автор с самой высокой средней оценкой книг - J.K. Rowling/Mary GrandPré, средняя оценка ее книг: 4.287096774193548\n"
     ]
    }
   ],
   "source": [
    "#запрос\n",
    "query = '''\n",
    "WITH\n",
    "\n",
    "rat AS(SELECT book_id,\n",
    "              rating\n",
    "     FROM ratings\n",
    "     WHERE book_id IN (SELECT b.book_id\n",
    "                       FROM books AS b\n",
    "                       LEFT JOIN ratings AS r ON b.book_id = r.book_id\n",
    "                       GROUP BY b.book_id\n",
    "                       HAVING COUNT(r.rating_id) >= 50))\n",
    "\n",
    "\n",
    "SELECT a.author,\n",
    "       AVG(rat.rating) AS avg_rating\n",
    "FROM rat\n",
    "LEFT JOIN books AS b ON rat.book_id = b.book_id\n",
    "LEFT JOIN authors AS a ON b.author_id = a.author_id\n",
    "GROUP BY a.author_id\n",
    "ORDER BY avg_rating DESC\n",
    "LIMIT 1;\n",
    "'''\n",
    "\n",
    "# вывод результата\n",
    "top_author =  pd.io.sql.read_sql(query, con = engine)\n",
    "display(top_author)\n",
    "print(f'Автор с самой высокой средней оценкой книг - {top_author.iloc[0, 0]}, средняя оценка ее книг: {top_author.iloc[0, 1]}')"
   ]
  },
  {
   "cell_type": "markdown",
   "id": "c8bc8936",
   "metadata": {},
   "source": [
    "## Вывод\n",
    "\n",
    "Видимо, человечество до сих пор не смогло придумать ничего более захватывающего внимание читателей, чем книги о Гарри Поттере"
   ]
  },
  {
   "cell_type": "markdown",
   "id": "fe87c2cf",
   "metadata": {},
   "source": [
    "# Задача 5. Посчитать среднее количество обзоров от пользователей, которые поставили больше 50 оценок"
   ]
  },
  {
   "cell_type": "markdown",
   "id": "2628b204",
   "metadata": {},
   "source": [
    "[К содержанию](#begining)"
   ]
  },
  {
   "cell_type": "code",
   "execution_count": 12,
   "id": "7e7a3769",
   "metadata": {},
   "outputs": [
    {
     "data": {
      "text/html": [
       "<div>\n",
       "<style scoped>\n",
       "    .dataframe tbody tr th:only-of-type {\n",
       "        vertical-align: middle;\n",
       "    }\n",
       "\n",
       "    .dataframe tbody tr th {\n",
       "        vertical-align: top;\n",
       "    }\n",
       "\n",
       "    .dataframe thead th {\n",
       "        text-align: right;\n",
       "    }\n",
       "</style>\n",
       "<table border=\"1\" class=\"dataframe\">\n",
       "  <thead>\n",
       "    <tr style=\"text-align: right;\">\n",
       "      <th></th>\n",
       "      <th>avg_reviews</th>\n",
       "    </tr>\n",
       "  </thead>\n",
       "  <tbody>\n",
       "    <tr>\n",
       "      <th>0</th>\n",
       "      <td>24.333333</td>\n",
       "    </tr>\n",
       "  </tbody>\n",
       "</table>\n",
       "</div>"
      ],
      "text/plain": [
       "   avg_reviews\n",
       "0    24.333333"
      ]
     },
     "metadata": {},
     "output_type": "display_data"
    },
    {
     "name": "stdout",
     "output_type": "stream",
     "text": [
      "Cреднее количество обзоров от пользователей, которые поставили больше 50 оценок: 24.333333333333332\n"
     ]
    }
   ],
   "source": [
    "#запрос\n",
    "query = '''\n",
    "WITH\n",
    "\n",
    "rev AS(SELECT username,\n",
    "              COUNT(review_id) AS reviews\n",
    "     FROM reviews\n",
    "     WHERE username IN (SELECT username\n",
    "                       FROM ratings\n",
    "                       GROUP BY username\n",
    "                       HAVING COUNT(rating_id) > 50)\n",
    "     GROUP BY username)\n",
    "\n",
    "\n",
    "SELECT AVG(reviews) AS avg_reviews\n",
    "FROM rev\n",
    "'''\n",
    "\n",
    "# вывод результата\n",
    "avg_reviews =  pd.io.sql.read_sql(query, con = engine)\n",
    "display(avg_reviews)\n",
    "print(f'Cреднее количество обзоров от пользователей, которые поставили больше 50 оценок: {avg_reviews.iloc[0, 0]}')"
   ]
  },
  {
   "cell_type": "markdown",
   "id": "5f4765c0",
   "metadata": {},
   "source": [
    "## Вывод\n",
    "\n",
    "Наши критики достаточно опытны в плане рекомендации контента, и подписчики при выборе книг могут смело опираться на их советы"
   ]
  },
  {
   "cell_type": "markdown",
   "id": "2dcacf9a",
   "metadata": {},
   "source": [
    "# Общий вывод"
   ]
  },
  {
   "cell_type": "markdown",
   "id": "ddf29d3e",
   "metadata": {},
   "source": [
    "[К содержанию](#begining)"
   ]
  },
  {
   "cell_type": "markdown",
   "id": "68d159d7",
   "metadata": {},
   "source": [
    "По итогам анализа базы данных было установлено:\n",
    "\n",
    "1. 821 книга из нашего каталога была выпущена после 2000 года. Таким образом, в нашем сервисе вполне достаточное количество современной литературы и нашим подписчикам точно есть из чего выбирать\n",
    "\n",
    "\n",
    "2. После подсчета количества обзоров и средней оценки каждой книги можно утверждать, что в нашем сервисе достаточное количество обзоров и оценок для того, чтобы нашим подписчикам было проше сделать свой выбор\n",
    "\n",
    "\n",
    "3. В нашем каталоге больше всего книг толще 50 стр. у издательства Penguin Books, которое выпустило 42 книги. С ними у нас налажено наиболее плодотворное сотрудничество\n",
    "\n",
    "\n",
    "4. Автор с самой высокой средней оценкой книг - Джоан Роулинг (около 4,3), что позволяет говорить, что книги о Гарри Поттере по-прежнему одни из самых любимых у наших подписчиков\n",
    "\n",
    "\n",
    "\n",
    "5. Наконец, среднее количество обзоров от пользователей, которые поставили больше 50 оценок: 24.3. Таким образом, наши критики достаточно опытны в плане рекомендации контента, и подписчики при выборе книг могут смело опираться на их советы"
   ]
  }
 ],
 "metadata": {
  "ExecuteTimeLog": [
   {
    "duration": 616,
    "start_time": "2022-10-13T11:52:57.506Z"
   },
   {
    "duration": 10193,
    "start_time": "2022-10-13T11:52:58.125Z"
   },
   {
    "duration": 65,
    "start_time": "2022-10-13T11:53:08.320Z"
   },
   {
    "duration": 17,
    "start_time": "2022-10-13T11:53:08.389Z"
   },
   {
    "duration": 13,
    "start_time": "2022-10-13T11:53:08.409Z"
   },
   {
    "duration": 14,
    "start_time": "2022-10-13T11:53:08.423Z"
   },
   {
    "duration": 12,
    "start_time": "2022-10-13T11:53:08.439Z"
   },
   {
    "duration": 10,
    "start_time": "2022-10-13T11:53:08.452Z"
   },
   {
    "duration": 32,
    "start_time": "2022-10-13T11:53:08.489Z"
   },
   {
    "duration": 18,
    "start_time": "2022-10-13T11:53:08.524Z"
   },
   {
    "duration": 24,
    "start_time": "2022-10-13T11:53:08.544Z"
   },
   {
    "duration": 23,
    "start_time": "2022-10-13T11:53:08.570Z"
   },
   {
    "duration": 37,
    "start_time": "2022-10-13T11:57:18.227Z"
   },
   {
    "duration": 18,
    "start_time": "2022-10-13T11:57:22.317Z"
   }
  ],
  "kernelspec": {
   "display_name": "Python 3 (ipykernel)",
   "language": "python",
   "name": "python3"
  },
  "language_info": {
   "codemirror_mode": {
    "name": "ipython",
    "version": 3
   },
   "file_extension": ".py",
   "mimetype": "text/x-python",
   "name": "python",
   "nbconvert_exporter": "python",
   "pygments_lexer": "ipython3",
   "version": "3.9.7"
  },
  "toc": {
   "base_numbering": 1,
   "nav_menu": {},
   "number_sections": true,
   "sideBar": true,
   "skip_h1_title": false,
   "title_cell": "",
   "title_sidebar": "Contents",
   "toc_cell": true,
   "toc_position": {
    "height": "calc(100% - 180px)",
    "left": "10px",
    "top": "150px",
    "width": "165px"
   },
   "toc_section_display": true,
   "toc_window_display": true
  }
 },
 "nbformat": 4,
 "nbformat_minor": 5
}
