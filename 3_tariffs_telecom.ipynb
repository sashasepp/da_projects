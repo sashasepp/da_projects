{
 "cells": [
  {
   "cell_type": "markdown",
   "id": "bcee3c35",
   "metadata": {},
   "source": [
    "# Содержание <a class=\"anchor\" id=\"begining\"></a>"
   ]
  },
  {
   "cell_type": "markdown",
   "id": "a9015cd5",
   "metadata": {
    "toc": true
   },
   "source": [
    "<h1><span class=\"tocSkip\"></span></h1>\n",
    "<div class=\"toc\"><ul class=\"toc-item\"><li><span><a href=\"#Содержание-\" data-toc-modified-id=\"Содержание--1\"><span class=\"toc-item-num\">1&nbsp;&nbsp;</span>Содержание <a class=\"anchor\" id=\"begining\" rel=\"nofollow\"></a></a></span></li><li><span><a href=\"#Определение-перспективного-тарифа-для-телеком-компании\" data-toc-modified-id=\"Определение-перспективного-тарифа-для-телеком-компании-2\"><span class=\"toc-item-num\">2&nbsp;&nbsp;</span>Определение перспективного тарифа для телеком-компании</a></span></li><li><span><a href=\"#Изучение-данных-из-файла-\" data-toc-modified-id=\"Изучение-данных-из-файла--3\"><span class=\"toc-item-num\">3&nbsp;&nbsp;</span>Изучение данных из файла <a class=\"anchor\" id=\"chapter1\" rel=\"nofollow\"></a></a></span><ul class=\"toc-item\"><li><span><a href=\"#Вывод-\" data-toc-modified-id=\"Вывод--3.1\"><span class=\"toc-item-num\">3.1&nbsp;&nbsp;</span>Вывод <a class=\"anchor\" id=\"con1\" rel=\"nofollow\"></a></a></span></li></ul></li><li><span><a href=\"#Подготовка-данных-\" data-toc-modified-id=\"Подготовка-данных--4\"><span class=\"toc-item-num\">4&nbsp;&nbsp;</span>Подготовка данных <a class=\"anchor\" id=\"chapter2\" rel=\"nofollow\"></a></a></span><ul class=\"toc-item\"><li><span><a href=\"#Изменение-типов-данных-\" data-toc-modified-id=\"Изменение-типов-данных--4.1\"><span class=\"toc-item-num\">4.1&nbsp;&nbsp;</span>Изменение типов данных <a class=\"anchor\" id=\"chapter2.1\" rel=\"nofollow\"></a></a></span></li><li><span><a href=\"#Подготовка-пользовательских-данных-\" data-toc-modified-id=\"Подготовка-пользовательских-данных--4.2\"><span class=\"toc-item-num\">4.2&nbsp;&nbsp;</span>Подготовка пользовательских данных <a class=\"anchor\" id=\"chapter2.2\" rel=\"nofollow\"></a></a></span></li><li><span><a href=\"#Вывод-\" data-toc-modified-id=\"Вывод--4.3\"><span class=\"toc-item-num\">4.3&nbsp;&nbsp;</span>Вывод <a class=\"anchor\" id=\"con2\" rel=\"nofollow\"></a></a></span></li></ul></li><li><span><a href=\"#Анализ-и-описание-данных-\" data-toc-modified-id=\"Анализ-и-описание-данных--5\"><span class=\"toc-item-num\">5&nbsp;&nbsp;</span>Анализ и описание данных <a class=\"anchor\" id=\"chapter3\" rel=\"nofollow\"></a></a></span><ul class=\"toc-item\"><li><span><a href=\"#Сравнительный-анализ-израсходованных-минут--\" data-toc-modified-id=\"Сравнительный-анализ-израсходованных-минут---5.1\"><span class=\"toc-item-num\">5.1&nbsp;&nbsp;</span>Сравнительный анализ израсходованных минут  <a class=\"anchor\" id=\"chapter3.1\" rel=\"nofollow\"></a></a></span></li><li><span><a href=\"#Сравнительный-анализ-количества-сообщений--\" data-toc-modified-id=\"Сравнительный-анализ-количества-сообщений---5.2\"><span class=\"toc-item-num\">5.2&nbsp;&nbsp;</span>Сравнительный анализ количества сообщений  <a class=\"anchor\" id=\"chapter3.2\" rel=\"nofollow\"></a></a></span></li><li><span><a href=\"#Сравнительный-анализ-интернет-трафика-\" data-toc-modified-id=\"Сравнительный-анализ-интернет-трафика--5.3\"><span class=\"toc-item-num\">5.3&nbsp;&nbsp;</span>Сравнительный анализ интернет-трафика <a class=\"anchor\" id=\"chapter3.3\" rel=\"nofollow\"></a></a></span></li><li><span><a href=\"#Клиенты-и-общая-выручка-\" data-toc-modified-id=\"Клиенты-и-общая-выручка--5.4\"><span class=\"toc-item-num\">5.4&nbsp;&nbsp;</span>Клиенты и общая выручка <a class=\"anchor\" id=\"chapter3.3\" rel=\"nofollow\"></a></a></span></li><li><span><a href=\"#Вывод-\" data-toc-modified-id=\"Вывод--5.5\"><span class=\"toc-item-num\">5.5&nbsp;&nbsp;</span>Вывод <a class=\"anchor\" id=\"con3\" rel=\"nofollow\"></a></a></span></li></ul></li><li><span><a href=\"#Проверка-гипотез-\" data-toc-modified-id=\"Проверка-гипотез--6\"><span class=\"toc-item-num\">6&nbsp;&nbsp;</span>Проверка гипотез <a class=\"anchor\" id=\"chapter4\" rel=\"nofollow\"></a></a></span><ul class=\"toc-item\"><li><span><a href=\"#Гипотеза-№1:-средняя-выручка-пользователей-тарифов-«Ультра»-и-«Смарт»-различается-\" data-toc-modified-id=\"Гипотеза-№1:-средняя-выручка-пользователей-тарифов-«Ультра»-и-«Смарт»-различается--6.1\"><span class=\"toc-item-num\">6.1&nbsp;&nbsp;</span>Гипотеза №1: средняя выручка пользователей тарифов «Ультра» и «Смарт» различается <a class=\"anchor\" id=\"chapter4.1\" rel=\"nofollow\"></a></a></span></li><li><span><a href=\"#Гипотеза-№2:-Средняя-выручка-пользователей-из-Москвы-отличается-от-выручки-пользователей-из-других-регионов-\" data-toc-modified-id=\"Гипотеза-№2:-Средняя-выручка-пользователей-из-Москвы-отличается-от-выручки-пользователей-из-других-регионов--6.2\"><span class=\"toc-item-num\">6.2&nbsp;&nbsp;</span>Гипотеза №2: Средняя выручка пользователей из Москвы отличается от выручки пользователей из других регионов <a class=\"anchor\" id=\"chapter4.2\" rel=\"nofollow\"></a></a></span></li><li><span><a href=\"#Вывод-\" data-toc-modified-id=\"Вывод--6.3\"><span class=\"toc-item-num\">6.3&nbsp;&nbsp;</span>Вывод <a class=\"anchor\" id=\"con4\" rel=\"nofollow\"></a></a></span></li></ul></li><li><span><a href=\"#Итоги-исследования-\" data-toc-modified-id=\"Итоги-исследования--7\"><span class=\"toc-item-num\">7&nbsp;&nbsp;</span>Итоги исследования <a class=\"anchor\" id=\"chapter5\" rel=\"nofollow\"></a></a></span><ul class=\"toc-item\"><li><span><a href=\"#Общий-вывод-\" data-toc-modified-id=\"Общий-вывод--7.1\"><span class=\"toc-item-num\">7.1&nbsp;&nbsp;</span>Общий вывод <a class=\"anchor\" id=\"con5\" rel=\"nofollow\"></a></a></span></li></ul></li></ul></div>"
   ]
  },
  {
   "cell_type": "markdown",
   "id": "1b521ef7",
   "metadata": {},
   "source": [
    "# Определение перспективного тарифа для телеком-компании"
   ]
  },
  {
   "cell_type": "markdown",
   "id": "840f17d4",
   "metadata": {},
   "source": [
    "Клиентам предлагают два тарифных плана: «Смарт» и «Ультра».\n",
    "\n",
    "\n",
    " Нужно проанализировать поведение клиентов и сделать вывод — какой тариф лучше на основе данных о сообщениях, звонках и интернет-трафике пользователей.\n",
    "\n",
    "\n",
    "**Цель исследования** - определить, какой тариф приносит больше денег. \n",
    "\n",
    "**Гипотезы, требующие проверки:**\n",
    "\n",
    "* средняя выручка пользователей тарифов «Ультра» и «Смарт» различаются;\n",
    "\n",
    "\n",
    "* средняя выручка пользователей из Москвы отличается от выручки пользователей из других регионов."
   ]
  },
  {
   "cell_type": "markdown",
   "id": "846276cc",
   "metadata": {},
   "source": [
    "**Ход исследования**\n",
    " \n",
    " Исследование пройдёт в четыре этапа:\n",
    " 1. Обзор данных.\n",
    " 2. Подготовка данных.\n",
    " 3. Анализ и описание данных. \n",
    " 4. Проверка гипотез."
   ]
  },
  {
   "cell_type": "markdown",
   "id": "3236a022",
   "metadata": {},
   "source": [
    "# Изучение данных из файла <a class=\"anchor\" id=\"chapter1\"></a>"
   ]
  },
  {
   "cell_type": "markdown",
   "id": "998c699b",
   "metadata": {},
   "source": [
    "[К содержанию](#begining)"
   ]
  },
  {
   "cell_type": "markdown",
   "id": "34493823",
   "metadata": {},
   "source": [
    "Предварительно ознакомимся с данными из каждой таблицы"
   ]
  },
  {
   "cell_type": "code",
   "execution_count": 1,
   "id": "6c753741",
   "metadata": {},
   "outputs": [],
   "source": [
    "import pandas as pd\n",
    "import matplotlib.pyplot as plt\n",
    "import seaborn as sns\n",
    "from scipy import stats as st\n",
    "import numpy as np\n",
    "import warnings\n",
    "warnings.filterwarnings('ignore')"
   ]
  },
  {
   "cell_type": "code",
   "execution_count": 2,
   "id": "2da2cab9",
   "metadata": {},
   "outputs": [],
   "source": [
    "calls = pd.read_csv('calls.csv')"
   ]
  },
  {
   "cell_type": "code",
   "execution_count": 3,
   "id": "b0eaf205",
   "metadata": {},
   "outputs": [],
   "source": [
    "internet = pd.read_csv('internet.csv')"
   ]
  },
  {
   "cell_type": "code",
   "execution_count": 4,
   "id": "be485b6f",
   "metadata": {},
   "outputs": [],
   "source": [
    "messages = pd.read_csv('messages.csv')"
   ]
  },
  {
   "cell_type": "code",
   "execution_count": 5,
   "id": "ac4a2f7e",
   "metadata": {},
   "outputs": [],
   "source": [
    "tariffs = pd.read_csv('tariffs.csv')"
   ]
  },
  {
   "cell_type": "code",
   "execution_count": 6,
   "id": "4b16892f",
   "metadata": {},
   "outputs": [],
   "source": [
    "users = pd.read_csv('users.csv')"
   ]
  },
  {
   "cell_type": "markdown",
   "id": "f230a6ab",
   "metadata": {},
   "source": [
    "Для начала взглянем на таблицу с пользователями"
   ]
  },
  {
   "cell_type": "code",
   "execution_count": 7,
   "id": "a6e33ec7",
   "metadata": {},
   "outputs": [
    {
     "name": "stdout",
     "output_type": "stream",
     "text": [
      "<class 'pandas.core.frame.DataFrame'>\n",
      "RangeIndex: 500 entries, 0 to 499\n",
      "Data columns (total 8 columns):\n",
      " #   Column      Non-Null Count  Dtype \n",
      "---  ------      --------------  ----- \n",
      " 0   user_id     500 non-null    int64 \n",
      " 1   age         500 non-null    int64 \n",
      " 2   churn_date  38 non-null     object\n",
      " 3   city        500 non-null    object\n",
      " 4   first_name  500 non-null    object\n",
      " 5   last_name   500 non-null    object\n",
      " 6   reg_date    500 non-null    object\n",
      " 7   tariff      500 non-null    object\n",
      "dtypes: int64(2), object(6)\n",
      "memory usage: 31.4+ KB\n"
     ]
    }
   ],
   "source": [
    "users.info()"
   ]
  },
  {
   "cell_type": "code",
   "execution_count": 8,
   "id": "8068a436",
   "metadata": {},
   "outputs": [
    {
     "data": {
      "text/html": [
       "<div>\n",
       "<style scoped>\n",
       "    .dataframe tbody tr th:only-of-type {\n",
       "        vertical-align: middle;\n",
       "    }\n",
       "\n",
       "    .dataframe tbody tr th {\n",
       "        vertical-align: top;\n",
       "    }\n",
       "\n",
       "    .dataframe thead th {\n",
       "        text-align: right;\n",
       "    }\n",
       "</style>\n",
       "<table border=\"1\" class=\"dataframe\">\n",
       "  <thead>\n",
       "    <tr style=\"text-align: right;\">\n",
       "      <th></th>\n",
       "      <th>user_id</th>\n",
       "      <th>age</th>\n",
       "      <th>churn_date</th>\n",
       "      <th>city</th>\n",
       "      <th>first_name</th>\n",
       "      <th>last_name</th>\n",
       "      <th>reg_date</th>\n",
       "      <th>tariff</th>\n",
       "    </tr>\n",
       "  </thead>\n",
       "  <tbody>\n",
       "    <tr>\n",
       "      <th>0</th>\n",
       "      <td>1000</td>\n",
       "      <td>52</td>\n",
       "      <td>NaN</td>\n",
       "      <td>Краснодар</td>\n",
       "      <td>Рафаил</td>\n",
       "      <td>Верещагин</td>\n",
       "      <td>2018-05-25</td>\n",
       "      <td>ultra</td>\n",
       "    </tr>\n",
       "    <tr>\n",
       "      <th>1</th>\n",
       "      <td>1001</td>\n",
       "      <td>41</td>\n",
       "      <td>NaN</td>\n",
       "      <td>Москва</td>\n",
       "      <td>Иван</td>\n",
       "      <td>Ежов</td>\n",
       "      <td>2018-11-01</td>\n",
       "      <td>smart</td>\n",
       "    </tr>\n",
       "    <tr>\n",
       "      <th>2</th>\n",
       "      <td>1002</td>\n",
       "      <td>59</td>\n",
       "      <td>NaN</td>\n",
       "      <td>Стерлитамак</td>\n",
       "      <td>Евгений</td>\n",
       "      <td>Абрамович</td>\n",
       "      <td>2018-06-17</td>\n",
       "      <td>smart</td>\n",
       "    </tr>\n",
       "    <tr>\n",
       "      <th>3</th>\n",
       "      <td>1003</td>\n",
       "      <td>23</td>\n",
       "      <td>NaN</td>\n",
       "      <td>Москва</td>\n",
       "      <td>Белла</td>\n",
       "      <td>Белякова</td>\n",
       "      <td>2018-08-17</td>\n",
       "      <td>ultra</td>\n",
       "    </tr>\n",
       "    <tr>\n",
       "      <th>4</th>\n",
       "      <td>1004</td>\n",
       "      <td>68</td>\n",
       "      <td>NaN</td>\n",
       "      <td>Новокузнецк</td>\n",
       "      <td>Татьяна</td>\n",
       "      <td>Авдеенко</td>\n",
       "      <td>2018-05-14</td>\n",
       "      <td>ultra</td>\n",
       "    </tr>\n",
       "  </tbody>\n",
       "</table>\n",
       "</div>"
      ],
      "text/plain": [
       "   user_id  age churn_date         city first_name  last_name    reg_date  \\\n",
       "0     1000   52        NaN    Краснодар     Рафаил  Верещагин  2018-05-25   \n",
       "1     1001   41        NaN       Москва       Иван       Ежов  2018-11-01   \n",
       "2     1002   59        NaN  Стерлитамак    Евгений  Абрамович  2018-06-17   \n",
       "3     1003   23        NaN       Москва      Белла   Белякова  2018-08-17   \n",
       "4     1004   68        NaN  Новокузнецк    Татьяна   Авдеенко  2018-05-14   \n",
       "\n",
       "  tariff  \n",
       "0  ultra  \n",
       "1  smart  \n",
       "2  smart  \n",
       "3  ultra  \n",
       "4  ultra  "
      ]
     },
     "execution_count": 8,
     "metadata": {},
     "output_type": "execute_result"
    }
   ],
   "source": [
    "users.head()"
   ]
  },
  {
   "cell_type": "markdown",
   "id": "621f5e10",
   "metadata": {},
   "source": [
    "**Описание данных**\n",
    "\n",
    "Таблица users (информация о пользователях):\n",
    "* `user_id` — уникальный идентификатор пользователя\n",
    "* `first_name` — имя пользователя\n",
    "* `last_name` — фамилия пользователя\n",
    "* `age` — возраст пользователя (годы)\n",
    "* `reg_date` — дата подключения тарифа (день, месяц, год)\n",
    "* `churn_date` — дата прекращения пользования тарифом (если значение пропущено, то тариф ещё действовал на момент выгрузки данных)\n",
    "* `city` — город проживания пользователя\n",
    "* `tariff` — название тарифного плана"
   ]
  },
  {
   "cell_type": "markdown",
   "id": "35a596b3",
   "metadata": {},
   "source": [
    "Видим, что здесь есть несоответствие типа данных в столбце `reg_date`. Также присутстсвует много пропусков в столбце `churn_date`, но это как раз нормально - значит у пользователя действующий тариф. А вот 38 юзеров уже прекратили пользоваться тарифом. Выходит, что данные по ним у нас есть не за все месяцы.  Учитывая, что в дальнейшем нам понадобится группировка данных по месяцам, пользователи, прекратившие пользоваться услугами связи могут исказить дальнейшие выводы."
   ]
  },
  {
   "cell_type": "markdown",
   "id": "de17a2af",
   "metadata": {},
   "source": [
    "Теперь рассмотрим таблицу с информацией о звонках"
   ]
  },
  {
   "cell_type": "code",
   "execution_count": 9,
   "id": "27f10a48",
   "metadata": {},
   "outputs": [
    {
     "name": "stdout",
     "output_type": "stream",
     "text": [
      "<class 'pandas.core.frame.DataFrame'>\n",
      "RangeIndex: 202607 entries, 0 to 202606\n",
      "Data columns (total 4 columns):\n",
      " #   Column     Non-Null Count   Dtype  \n",
      "---  ------     --------------   -----  \n",
      " 0   id         202607 non-null  object \n",
      " 1   call_date  202607 non-null  object \n",
      " 2   duration   202607 non-null  float64\n",
      " 3   user_id    202607 non-null  int64  \n",
      "dtypes: float64(1), int64(1), object(2)\n",
      "memory usage: 6.2+ MB\n"
     ]
    }
   ],
   "source": [
    "calls.info()"
   ]
  },
  {
   "cell_type": "code",
   "execution_count": 10,
   "id": "cd56110d",
   "metadata": {
    "scrolled": true
   },
   "outputs": [
    {
     "data": {
      "text/html": [
       "<div>\n",
       "<style scoped>\n",
       "    .dataframe tbody tr th:only-of-type {\n",
       "        vertical-align: middle;\n",
       "    }\n",
       "\n",
       "    .dataframe tbody tr th {\n",
       "        vertical-align: top;\n",
       "    }\n",
       "\n",
       "    .dataframe thead th {\n",
       "        text-align: right;\n",
       "    }\n",
       "</style>\n",
       "<table border=\"1\" class=\"dataframe\">\n",
       "  <thead>\n",
       "    <tr style=\"text-align: right;\">\n",
       "      <th></th>\n",
       "      <th>id</th>\n",
       "      <th>call_date</th>\n",
       "      <th>duration</th>\n",
       "      <th>user_id</th>\n",
       "    </tr>\n",
       "  </thead>\n",
       "  <tbody>\n",
       "    <tr>\n",
       "      <th>0</th>\n",
       "      <td>1000_0</td>\n",
       "      <td>2018-07-25</td>\n",
       "      <td>0.00</td>\n",
       "      <td>1000</td>\n",
       "    </tr>\n",
       "    <tr>\n",
       "      <th>1</th>\n",
       "      <td>1000_1</td>\n",
       "      <td>2018-08-17</td>\n",
       "      <td>0.00</td>\n",
       "      <td>1000</td>\n",
       "    </tr>\n",
       "    <tr>\n",
       "      <th>2</th>\n",
       "      <td>1000_2</td>\n",
       "      <td>2018-06-11</td>\n",
       "      <td>2.85</td>\n",
       "      <td>1000</td>\n",
       "    </tr>\n",
       "    <tr>\n",
       "      <th>3</th>\n",
       "      <td>1000_3</td>\n",
       "      <td>2018-09-21</td>\n",
       "      <td>13.80</td>\n",
       "      <td>1000</td>\n",
       "    </tr>\n",
       "    <tr>\n",
       "      <th>4</th>\n",
       "      <td>1000_4</td>\n",
       "      <td>2018-12-15</td>\n",
       "      <td>5.18</td>\n",
       "      <td>1000</td>\n",
       "    </tr>\n",
       "  </tbody>\n",
       "</table>\n",
       "</div>"
      ],
      "text/plain": [
       "       id   call_date  duration  user_id\n",
       "0  1000_0  2018-07-25      0.00     1000\n",
       "1  1000_1  2018-08-17      0.00     1000\n",
       "2  1000_2  2018-06-11      2.85     1000\n",
       "3  1000_3  2018-09-21     13.80     1000\n",
       "4  1000_4  2018-12-15      5.18     1000"
      ]
     },
     "execution_count": 10,
     "metadata": {},
     "output_type": "execute_result"
    }
   ],
   "source": [
    "calls.head()"
   ]
  },
  {
   "cell_type": "markdown",
   "id": "3993393a",
   "metadata": {},
   "source": [
    "**Описание данных**\n",
    "\n",
    "* `id` — уникальный номер звонка\n",
    "* `call_date` — дата звонка\n",
    "* `duration` — длительность звонка в минутах\n",
    "* `user_id` — идентификатор пользователя, сделавшего звонок\n",
    "\n",
    "**Примечание**\n",
    "\n",
    "\n",
    "«Мегалайн» всегда округляет секунды до минут, а мегабайты — до гигабайт. Каждый звонок округляется отдельно: даже если он длился всего 1 секунду, будет засчитан как 1 минута."
   ]
  },
  {
   "cell_type": "markdown",
   "id": "cee971de",
   "metadata": {},
   "source": [
    "Видим несоответствие типа данных в столбце `call_date` - его нужно перевести в `datetime`. Учитывая примечание, также целесообразно привести значения в столбце `duration` к `int` с округлением в большую сторону. \n",
    "\n",
    "Также в таблице присутствуют звонки с нулевой продолжительностью. Однако это не ошибка: нулями обозначены пропущенные звонки, поэтому не будем их удалять."
   ]
  },
  {
   "cell_type": "markdown",
   "id": "1a9e132e",
   "metadata": {},
   "source": [
    "Ознакомимся с таблицей сообщений"
   ]
  },
  {
   "cell_type": "code",
   "execution_count": 11,
   "id": "941e27bb",
   "metadata": {},
   "outputs": [
    {
     "name": "stdout",
     "output_type": "stream",
     "text": [
      "<class 'pandas.core.frame.DataFrame'>\n",
      "RangeIndex: 123036 entries, 0 to 123035\n",
      "Data columns (total 3 columns):\n",
      " #   Column        Non-Null Count   Dtype \n",
      "---  ------        --------------   ----- \n",
      " 0   id            123036 non-null  object\n",
      " 1   message_date  123036 non-null  object\n",
      " 2   user_id       123036 non-null  int64 \n",
      "dtypes: int64(1), object(2)\n",
      "memory usage: 2.8+ MB\n"
     ]
    }
   ],
   "source": [
    "messages.info()"
   ]
  },
  {
   "cell_type": "code",
   "execution_count": 12,
   "id": "33e4483e",
   "metadata": {},
   "outputs": [
    {
     "data": {
      "text/html": [
       "<div>\n",
       "<style scoped>\n",
       "    .dataframe tbody tr th:only-of-type {\n",
       "        vertical-align: middle;\n",
       "    }\n",
       "\n",
       "    .dataframe tbody tr th {\n",
       "        vertical-align: top;\n",
       "    }\n",
       "\n",
       "    .dataframe thead th {\n",
       "        text-align: right;\n",
       "    }\n",
       "</style>\n",
       "<table border=\"1\" class=\"dataframe\">\n",
       "  <thead>\n",
       "    <tr style=\"text-align: right;\">\n",
       "      <th></th>\n",
       "      <th>id</th>\n",
       "      <th>message_date</th>\n",
       "      <th>user_id</th>\n",
       "    </tr>\n",
       "  </thead>\n",
       "  <tbody>\n",
       "    <tr>\n",
       "      <th>0</th>\n",
       "      <td>1000_0</td>\n",
       "      <td>2018-06-27</td>\n",
       "      <td>1000</td>\n",
       "    </tr>\n",
       "    <tr>\n",
       "      <th>1</th>\n",
       "      <td>1000_1</td>\n",
       "      <td>2018-10-08</td>\n",
       "      <td>1000</td>\n",
       "    </tr>\n",
       "    <tr>\n",
       "      <th>2</th>\n",
       "      <td>1000_2</td>\n",
       "      <td>2018-08-04</td>\n",
       "      <td>1000</td>\n",
       "    </tr>\n",
       "    <tr>\n",
       "      <th>3</th>\n",
       "      <td>1000_3</td>\n",
       "      <td>2018-06-16</td>\n",
       "      <td>1000</td>\n",
       "    </tr>\n",
       "    <tr>\n",
       "      <th>4</th>\n",
       "      <td>1000_4</td>\n",
       "      <td>2018-12-05</td>\n",
       "      <td>1000</td>\n",
       "    </tr>\n",
       "  </tbody>\n",
       "</table>\n",
       "</div>"
      ],
      "text/plain": [
       "       id message_date  user_id\n",
       "0  1000_0   2018-06-27     1000\n",
       "1  1000_1   2018-10-08     1000\n",
       "2  1000_2   2018-08-04     1000\n",
       "3  1000_3   2018-06-16     1000\n",
       "4  1000_4   2018-12-05     1000"
      ]
     },
     "execution_count": 12,
     "metadata": {},
     "output_type": "execute_result"
    }
   ],
   "source": [
    "messages.head()"
   ]
  },
  {
   "cell_type": "markdown",
   "id": "93b174ba",
   "metadata": {},
   "source": [
    "**Описание данных**\n",
    "\n",
    "* `id` — уникальный номер сообщения\n",
    "* `message_date` — дата сообщения\n",
    "* `user_id` — идентификатор пользователя, отправившего сообщение"
   ]
  },
  {
   "cell_type": "markdown",
   "id": "e115448f",
   "metadata": {},
   "source": [
    "Здесь также требуется привести столбец `message_date` к `datetime`"
   ]
  },
  {
   "cell_type": "markdown",
   "id": "e9c44637",
   "metadata": {},
   "source": [
    "Перейдем к таблице с интернет-сессиями"
   ]
  },
  {
   "cell_type": "code",
   "execution_count": 13,
   "id": "2c12cae8",
   "metadata": {},
   "outputs": [
    {
     "name": "stdout",
     "output_type": "stream",
     "text": [
      "<class 'pandas.core.frame.DataFrame'>\n",
      "RangeIndex: 149396 entries, 0 to 149395\n",
      "Data columns (total 5 columns):\n",
      " #   Column        Non-Null Count   Dtype  \n",
      "---  ------        --------------   -----  \n",
      " 0   Unnamed: 0    149396 non-null  int64  \n",
      " 1   id            149396 non-null  object \n",
      " 2   mb_used       149396 non-null  float64\n",
      " 3   session_date  149396 non-null  object \n",
      " 4   user_id       149396 non-null  int64  \n",
      "dtypes: float64(1), int64(2), object(2)\n",
      "memory usage: 5.7+ MB\n"
     ]
    }
   ],
   "source": [
    "internet.info()"
   ]
  },
  {
   "cell_type": "code",
   "execution_count": 14,
   "id": "3aafab90",
   "metadata": {},
   "outputs": [
    {
     "data": {
      "text/html": [
       "<div>\n",
       "<style scoped>\n",
       "    .dataframe tbody tr th:only-of-type {\n",
       "        vertical-align: middle;\n",
       "    }\n",
       "\n",
       "    .dataframe tbody tr th {\n",
       "        vertical-align: top;\n",
       "    }\n",
       "\n",
       "    .dataframe thead th {\n",
       "        text-align: right;\n",
       "    }\n",
       "</style>\n",
       "<table border=\"1\" class=\"dataframe\">\n",
       "  <thead>\n",
       "    <tr style=\"text-align: right;\">\n",
       "      <th></th>\n",
       "      <th>Unnamed: 0</th>\n",
       "      <th>id</th>\n",
       "      <th>mb_used</th>\n",
       "      <th>session_date</th>\n",
       "      <th>user_id</th>\n",
       "    </tr>\n",
       "  </thead>\n",
       "  <tbody>\n",
       "    <tr>\n",
       "      <th>0</th>\n",
       "      <td>0</td>\n",
       "      <td>1000_0</td>\n",
       "      <td>112.95</td>\n",
       "      <td>2018-11-25</td>\n",
       "      <td>1000</td>\n",
       "    </tr>\n",
       "    <tr>\n",
       "      <th>1</th>\n",
       "      <td>1</td>\n",
       "      <td>1000_1</td>\n",
       "      <td>1052.81</td>\n",
       "      <td>2018-09-07</td>\n",
       "      <td>1000</td>\n",
       "    </tr>\n",
       "    <tr>\n",
       "      <th>2</th>\n",
       "      <td>2</td>\n",
       "      <td>1000_2</td>\n",
       "      <td>1197.26</td>\n",
       "      <td>2018-06-25</td>\n",
       "      <td>1000</td>\n",
       "    </tr>\n",
       "    <tr>\n",
       "      <th>3</th>\n",
       "      <td>3</td>\n",
       "      <td>1000_3</td>\n",
       "      <td>550.27</td>\n",
       "      <td>2018-08-22</td>\n",
       "      <td>1000</td>\n",
       "    </tr>\n",
       "    <tr>\n",
       "      <th>4</th>\n",
       "      <td>4</td>\n",
       "      <td>1000_4</td>\n",
       "      <td>302.56</td>\n",
       "      <td>2018-09-24</td>\n",
       "      <td>1000</td>\n",
       "    </tr>\n",
       "  </tbody>\n",
       "</table>\n",
       "</div>"
      ],
      "text/plain": [
       "   Unnamed: 0      id  mb_used session_date  user_id\n",
       "0           0  1000_0   112.95   2018-11-25     1000\n",
       "1           1  1000_1  1052.81   2018-09-07     1000\n",
       "2           2  1000_2  1197.26   2018-06-25     1000\n",
       "3           3  1000_3   550.27   2018-08-22     1000\n",
       "4           4  1000_4   302.56   2018-09-24     1000"
      ]
     },
     "execution_count": 14,
     "metadata": {},
     "output_type": "execute_result"
    }
   ],
   "source": [
    "internet.head()"
   ]
  },
  {
   "cell_type": "markdown",
   "id": "0111a51e",
   "metadata": {},
   "source": [
    "**Описание данных**\n",
    "\n",
    "* `id` — уникальный номер сессии\n",
    "* `mb_used` — объём потраченного за сессию интернет-трафика (в мегабайтах)\n",
    "* `session_date` — дата интернет-сессии\n",
    "* `user_id` — идентификатор пользователя\n",
    "\n",
    "**Примечание**\n",
    "\n",
    "Для веб-трафика отдельные сессии не считаются. Вместо этого общая сумма за месяц округляется в бо́льшую сторону. Если абонент использует 1025 мегабайт в этом месяце, с него возьмут плату за 2 гигабайта."
   ]
  },
  {
   "cell_type": "markdown",
   "id": "4dd8fc11",
   "metadata": {},
   "source": [
    "Вновь требуется перевод столца с датой `session_date` в `datetime`. Учитывая информацию из примечания, требуется перевод значений столбца `mb_used` в гигабайты с округлением в большую сторону. Однако сделать это нужно уже после агрегации данных, т.к.  для интернет-трафика, в отличие от звонков, отдельные сессии не считаются, а округляется уже общая сумма за месяц. "
   ]
  },
  {
   "cell_type": "markdown",
   "id": "e3694441",
   "metadata": {},
   "source": [
    "Наконец, ознакомимся с информацией о тарифах"
   ]
  },
  {
   "cell_type": "code",
   "execution_count": 15,
   "id": "78c98cb7",
   "metadata": {},
   "outputs": [
    {
     "name": "stdout",
     "output_type": "stream",
     "text": [
      "<class 'pandas.core.frame.DataFrame'>\n",
      "RangeIndex: 2 entries, 0 to 1\n",
      "Data columns (total 8 columns):\n",
      " #   Column                 Non-Null Count  Dtype \n",
      "---  ------                 --------------  ----- \n",
      " 0   messages_included      2 non-null      int64 \n",
      " 1   mb_per_month_included  2 non-null      int64 \n",
      " 2   minutes_included       2 non-null      int64 \n",
      " 3   rub_monthly_fee        2 non-null      int64 \n",
      " 4   rub_per_gb             2 non-null      int64 \n",
      " 5   rub_per_message        2 non-null      int64 \n",
      " 6   rub_per_minute         2 non-null      int64 \n",
      " 7   tariff_name            2 non-null      object\n",
      "dtypes: int64(7), object(1)\n",
      "memory usage: 256.0+ bytes\n"
     ]
    }
   ],
   "source": [
    "tariffs.info()"
   ]
  },
  {
   "cell_type": "code",
   "execution_count": 16,
   "id": "944a596b",
   "metadata": {},
   "outputs": [
    {
     "data": {
      "text/html": [
       "<div>\n",
       "<style scoped>\n",
       "    .dataframe tbody tr th:only-of-type {\n",
       "        vertical-align: middle;\n",
       "    }\n",
       "\n",
       "    .dataframe tbody tr th {\n",
       "        vertical-align: top;\n",
       "    }\n",
       "\n",
       "    .dataframe thead th {\n",
       "        text-align: right;\n",
       "    }\n",
       "</style>\n",
       "<table border=\"1\" class=\"dataframe\">\n",
       "  <thead>\n",
       "    <tr style=\"text-align: right;\">\n",
       "      <th></th>\n",
       "      <th>messages_included</th>\n",
       "      <th>mb_per_month_included</th>\n",
       "      <th>minutes_included</th>\n",
       "      <th>rub_monthly_fee</th>\n",
       "      <th>rub_per_gb</th>\n",
       "      <th>rub_per_message</th>\n",
       "      <th>rub_per_minute</th>\n",
       "      <th>tariff_name</th>\n",
       "    </tr>\n",
       "  </thead>\n",
       "  <tbody>\n",
       "    <tr>\n",
       "      <th>0</th>\n",
       "      <td>50</td>\n",
       "      <td>15360</td>\n",
       "      <td>500</td>\n",
       "      <td>550</td>\n",
       "      <td>200</td>\n",
       "      <td>3</td>\n",
       "      <td>3</td>\n",
       "      <td>smart</td>\n",
       "    </tr>\n",
       "    <tr>\n",
       "      <th>1</th>\n",
       "      <td>1000</td>\n",
       "      <td>30720</td>\n",
       "      <td>3000</td>\n",
       "      <td>1950</td>\n",
       "      <td>150</td>\n",
       "      <td>1</td>\n",
       "      <td>1</td>\n",
       "      <td>ultra</td>\n",
       "    </tr>\n",
       "  </tbody>\n",
       "</table>\n",
       "</div>"
      ],
      "text/plain": [
       "   messages_included  mb_per_month_included  minutes_included  \\\n",
       "0                 50                  15360               500   \n",
       "1               1000                  30720              3000   \n",
       "\n",
       "   rub_monthly_fee  rub_per_gb  rub_per_message  rub_per_minute tariff_name  \n",
       "0              550         200                3               3       smart  \n",
       "1             1950         150                1               1       ultra  "
      ]
     },
     "execution_count": 16,
     "metadata": {},
     "output_type": "execute_result"
    }
   ],
   "source": [
    "tariffs.head()"
   ]
  },
  {
   "cell_type": "markdown",
   "id": "3a4e8186",
   "metadata": {},
   "source": [
    "**Описание данных**\n",
    "\n",
    "* `tariff_name` — название тарифа\n",
    "* `rub_monthly_fee` — ежемесячная абонентская плата в рублях\n",
    "* `minutes_included` — количество минут разговора в месяц, включённых в абонентскую плату\n",
    "* `messages_included` — количество сообщений в месяц, включённых в абонентскую плату\n",
    "* `mb_per_month_included` — объём интернет-трафика, включённого в абонентскую плату (в мегабайтах)\n",
    "* `rub_per_minute` — стоимость минуты разговора сверх тарифного пакета (например, если в тарифе 100 минут разговора в месяц, то со 101 минуты будет взиматься плата)\n",
    "* `rub_per_message` — стоимость отправки сообщения сверх тарифного пакета\n",
    "* `rub_per_gb` — стоимость дополнительного гигабайта интернет-трафика сверх тарифного пакета (1 гигабайт = 1024 мегабайта)\n"
   ]
  },
  {
   "cell_type": "markdown",
   "id": "c07a4cb6",
   "metadata": {},
   "source": [
    "В таблице с тарифами - информация о тарифах. Все так, как и должно быть. "
   ]
  },
  {
   "cell_type": "markdown",
   "id": "b5771969",
   "metadata": {},
   "source": [
    "## Вывод <a class=\"anchor\" id=\"con1\"></a>\n",
    "\n",
    "Предварительно можно утверждать, что, данных достаточно для проверки гипотез. \n",
    "\n",
    "При этом обзор данных позволил обнаружить несколько проблем:\n",
    "\n",
    "* В таблицах, где есть столбец с датой необходим его перевод в  `datetime`.\n",
    "\n",
    "* В таблице `internet` требуется перевод значений столбца `mb_used` в гигабайты с округлением в большую сторону общего месячного трафика.\n",
    "\n",
    "* В таблице `calls` необходимо привести значения в столбце `duration` к `int` с округлением в большую сторону каждого отдельного звонка. \n",
    "\n",
    "* В таблице присутстсвует много пропусков в столбце `churn_date`, но это как раз нормально - значит у пользователя действующий тариф. А вот 38 юзеров уже прекратили пользоваться тарифом. Стоит учесть этот момент, так как пользователи, прекратившие пользоваться услугами связи могут привести к искажениям дальнейших выводов исследования.\n",
    "\n",
    "\n",
    "\n",
    "Чтобы двигаться дальше, нужно устранить проблемы в данных."
   ]
  },
  {
   "cell_type": "markdown",
   "id": "b0944cef",
   "metadata": {},
   "source": [
    "# Подготовка данных <a class=\"anchor\" id=\"chapter2\"></a>"
   ]
  },
  {
   "cell_type": "markdown",
   "id": "9a9a2da9",
   "metadata": {},
   "source": [
    "##  Изменение типов данных <a class=\"anchor\" id=\"chapter2.1\"></a>"
   ]
  },
  {
   "cell_type": "markdown",
   "id": "41a7b96e",
   "metadata": {},
   "source": [
    "Для начала переведем все столбцы с датой  в  `datetime`."
   ]
  },
  {
   "cell_type": "code",
   "execution_count": 17,
   "id": "e8cecb94",
   "metadata": {},
   "outputs": [],
   "source": [
    "# Перевод в datetime соответствующих столбцов из таблицы users\n",
    "users['reg_date'] = pd.to_datetime(users['reg_date'], format='%Y-%m-%d')\n",
    "users['churn_date'] = pd.to_datetime(users['churn_date'], format='%Y-%m-%d')"
   ]
  },
  {
   "cell_type": "code",
   "execution_count": 18,
   "id": "f50a1344",
   "metadata": {},
   "outputs": [],
   "source": [
    "# Перевод в datetime соответствующих столбцов из таблицы calls\n",
    "calls['call_date'] = pd.to_datetime(calls['call_date'], format='%Y-%m-%d')"
   ]
  },
  {
   "cell_type": "code",
   "execution_count": 19,
   "id": "9c6cf334",
   "metadata": {},
   "outputs": [],
   "source": [
    "# Перевод в datetime соответствующих столбцов из таблицы messages\n",
    "messages['message_date'] = pd.to_datetime(messages['message_date'], format='%Y-%m-%d')"
   ]
  },
  {
   "cell_type": "code",
   "execution_count": 20,
   "id": "b201f269",
   "metadata": {},
   "outputs": [],
   "source": [
    "# Перевод в datetime соответствующих столбцов из таблицы internet\n",
    "internet['session_date'] = pd.to_datetime(internet['session_date'], format='%Y-%m-%d')"
   ]
  },
  {
   "cell_type": "markdown",
   "id": "454ba297",
   "metadata": {},
   "source": [
    "В таблице `calls`  приведем значения в столбце `duration` к `int` с округлением в большую сторону."
   ]
  },
  {
   "cell_type": "code",
   "execution_count": 21,
   "id": "3018ce4e",
   "metadata": {},
   "outputs": [],
   "source": [
    "# Функция округления значений столбца в большую сторону\n",
    "def correct_value(value):\n",
    "    return  np.ceil(value)"
   ]
  },
  {
   "cell_type": "code",
   "execution_count": 22,
   "id": "5f6a9c39",
   "metadata": {
    "scrolled": true
   },
   "outputs": [
    {
     "data": {
      "text/html": [
       "<div>\n",
       "<style scoped>\n",
       "    .dataframe tbody tr th:only-of-type {\n",
       "        vertical-align: middle;\n",
       "    }\n",
       "\n",
       "    .dataframe tbody tr th {\n",
       "        vertical-align: top;\n",
       "    }\n",
       "\n",
       "    .dataframe thead th {\n",
       "        text-align: right;\n",
       "    }\n",
       "</style>\n",
       "<table border=\"1\" class=\"dataframe\">\n",
       "  <thead>\n",
       "    <tr style=\"text-align: right;\">\n",
       "      <th></th>\n",
       "      <th>id</th>\n",
       "      <th>call_date</th>\n",
       "      <th>duration</th>\n",
       "      <th>user_id</th>\n",
       "    </tr>\n",
       "  </thead>\n",
       "  <tbody>\n",
       "    <tr>\n",
       "      <th>0</th>\n",
       "      <td>1000_0</td>\n",
       "      <td>2018-07-25</td>\n",
       "      <td>0.00</td>\n",
       "      <td>1000</td>\n",
       "    </tr>\n",
       "    <tr>\n",
       "      <th>1</th>\n",
       "      <td>1000_1</td>\n",
       "      <td>2018-08-17</td>\n",
       "      <td>0.00</td>\n",
       "      <td>1000</td>\n",
       "    </tr>\n",
       "    <tr>\n",
       "      <th>2</th>\n",
       "      <td>1000_2</td>\n",
       "      <td>2018-06-11</td>\n",
       "      <td>2.85</td>\n",
       "      <td>1000</td>\n",
       "    </tr>\n",
       "    <tr>\n",
       "      <th>3</th>\n",
       "      <td>1000_3</td>\n",
       "      <td>2018-09-21</td>\n",
       "      <td>13.80</td>\n",
       "      <td>1000</td>\n",
       "    </tr>\n",
       "    <tr>\n",
       "      <th>4</th>\n",
       "      <td>1000_4</td>\n",
       "      <td>2018-12-15</td>\n",
       "      <td>5.18</td>\n",
       "      <td>1000</td>\n",
       "    </tr>\n",
       "  </tbody>\n",
       "</table>\n",
       "</div>"
      ],
      "text/plain": [
       "       id  call_date  duration  user_id\n",
       "0  1000_0 2018-07-25      0.00     1000\n",
       "1  1000_1 2018-08-17      0.00     1000\n",
       "2  1000_2 2018-06-11      2.85     1000\n",
       "3  1000_3 2018-09-21     13.80     1000\n",
       "4  1000_4 2018-12-15      5.18     1000"
      ]
     },
     "execution_count": 22,
     "metadata": {},
     "output_type": "execute_result"
    }
   ],
   "source": [
    "# Значения до\n",
    "calls.head()"
   ]
  },
  {
   "cell_type": "code",
   "execution_count": 23,
   "id": "fc4fedc0",
   "metadata": {},
   "outputs": [],
   "source": [
    "# Округление значений в большую сторону\n",
    "calls['duration'] = calls['duration'].apply(correct_value)"
   ]
  },
  {
   "cell_type": "code",
   "execution_count": 24,
   "id": "3f26318e",
   "metadata": {},
   "outputs": [
    {
     "data": {
      "text/html": [
       "<div>\n",
       "<style scoped>\n",
       "    .dataframe tbody tr th:only-of-type {\n",
       "        vertical-align: middle;\n",
       "    }\n",
       "\n",
       "    .dataframe tbody tr th {\n",
       "        vertical-align: top;\n",
       "    }\n",
       "\n",
       "    .dataframe thead th {\n",
       "        text-align: right;\n",
       "    }\n",
       "</style>\n",
       "<table border=\"1\" class=\"dataframe\">\n",
       "  <thead>\n",
       "    <tr style=\"text-align: right;\">\n",
       "      <th></th>\n",
       "      <th>id</th>\n",
       "      <th>call_date</th>\n",
       "      <th>duration</th>\n",
       "      <th>user_id</th>\n",
       "    </tr>\n",
       "  </thead>\n",
       "  <tbody>\n",
       "    <tr>\n",
       "      <th>0</th>\n",
       "      <td>1000_0</td>\n",
       "      <td>2018-07-25</td>\n",
       "      <td>0.0</td>\n",
       "      <td>1000</td>\n",
       "    </tr>\n",
       "    <tr>\n",
       "      <th>1</th>\n",
       "      <td>1000_1</td>\n",
       "      <td>2018-08-17</td>\n",
       "      <td>0.0</td>\n",
       "      <td>1000</td>\n",
       "    </tr>\n",
       "    <tr>\n",
       "      <th>2</th>\n",
       "      <td>1000_2</td>\n",
       "      <td>2018-06-11</td>\n",
       "      <td>3.0</td>\n",
       "      <td>1000</td>\n",
       "    </tr>\n",
       "    <tr>\n",
       "      <th>3</th>\n",
       "      <td>1000_3</td>\n",
       "      <td>2018-09-21</td>\n",
       "      <td>14.0</td>\n",
       "      <td>1000</td>\n",
       "    </tr>\n",
       "    <tr>\n",
       "      <th>4</th>\n",
       "      <td>1000_4</td>\n",
       "      <td>2018-12-15</td>\n",
       "      <td>6.0</td>\n",
       "      <td>1000</td>\n",
       "    </tr>\n",
       "  </tbody>\n",
       "</table>\n",
       "</div>"
      ],
      "text/plain": [
       "       id  call_date  duration  user_id\n",
       "0  1000_0 2018-07-25       0.0     1000\n",
       "1  1000_1 2018-08-17       0.0     1000\n",
       "2  1000_2 2018-06-11       3.0     1000\n",
       "3  1000_3 2018-09-21      14.0     1000\n",
       "4  1000_4 2018-12-15       6.0     1000"
      ]
     },
     "execution_count": 24,
     "metadata": {},
     "output_type": "execute_result"
    }
   ],
   "source": [
    "# Значения после\n",
    "calls.head()"
   ]
  },
  {
   "cell_type": "markdown",
   "id": "0bd91e80",
   "metadata": {},
   "source": [
    "Теперь приведем в соответствие столбец `mb_per_month_included` в таблице  `tariffs`  - превратим мб в гб"
   ]
  },
  {
   "cell_type": "code",
   "execution_count": 25,
   "id": "ef73251f",
   "metadata": {},
   "outputs": [
    {
     "name": "stdout",
     "output_type": "stream",
     "text": [
      "<class 'pandas.core.frame.DataFrame'>\n",
      "RangeIndex: 2 entries, 0 to 1\n",
      "Data columns (total 8 columns):\n",
      " #   Column                 Non-Null Count  Dtype  \n",
      "---  ------                 --------------  -----  \n",
      " 0   messages_included      2 non-null      int64  \n",
      " 1   gb_per_month_included  2 non-null      float64\n",
      " 2   minutes_included       2 non-null      int64  \n",
      " 3   rub_monthly_fee        2 non-null      int64  \n",
      " 4   rub_per_gb             2 non-null      int64  \n",
      " 5   rub_per_message        2 non-null      int64  \n",
      " 6   rub_per_minute         2 non-null      int64  \n",
      " 7   tariff_name            2 non-null      object \n",
      "dtypes: float64(1), int64(6), object(1)\n",
      "memory usage: 256.0+ bytes\n"
     ]
    }
   ],
   "source": [
    "# Превращение мб в гб и переименование столбца\n",
    "tariffs['mb_per_month_included'] = tariffs['mb_per_month_included'] / 1024\n",
    "tariffs.rename(columns={'mb_per_month_included': 'gb_per_month_included'}, inplace=True)\n",
    "# Проверка результата\n",
    "tariffs.info()"
   ]
  },
  {
   "cell_type": "markdown",
   "id": "c20eb633",
   "metadata": {},
   "source": [
    "##  Подготовка пользовательских данных <a class=\"anchor\" id=\"chapter2.2\"></a>"
   ]
  },
  {
   "cell_type": "markdown",
   "id": "b91becb5",
   "metadata": {},
   "source": [
    "Создадим таблицу с  количеством сделанных звонков и израсходованных минут разговора каждого пользователя по месяцам.\n"
   ]
  },
  {
   "cell_type": "code",
   "execution_count": 26,
   "id": "32ccb50a",
   "metadata": {},
   "outputs": [],
   "source": [
    "# Добавляем столбец с месяцем\n",
    "calls['month'] = calls['call_date'].dt.month"
   ]
  },
  {
   "cell_type": "code",
   "execution_count": 27,
   "id": "6c175526",
   "metadata": {
    "scrolled": false
   },
   "outputs": [
    {
     "data": {
      "text/html": [
       "<div>\n",
       "<style scoped>\n",
       "    .dataframe tbody tr th:only-of-type {\n",
       "        vertical-align: middle;\n",
       "    }\n",
       "\n",
       "    .dataframe tbody tr th {\n",
       "        vertical-align: top;\n",
       "    }\n",
       "\n",
       "    .dataframe thead th {\n",
       "        text-align: right;\n",
       "    }\n",
       "</style>\n",
       "<table border=\"1\" class=\"dataframe\">\n",
       "  <thead>\n",
       "    <tr style=\"text-align: right;\">\n",
       "      <th></th>\n",
       "      <th>user_id</th>\n",
       "      <th>month</th>\n",
       "      <th>calls</th>\n",
       "      <th>minutes</th>\n",
       "    </tr>\n",
       "  </thead>\n",
       "  <tbody>\n",
       "    <tr>\n",
       "      <th>0</th>\n",
       "      <td>1000</td>\n",
       "      <td>5</td>\n",
       "      <td>22</td>\n",
       "      <td>159.0</td>\n",
       "    </tr>\n",
       "    <tr>\n",
       "      <th>1</th>\n",
       "      <td>1000</td>\n",
       "      <td>6</td>\n",
       "      <td>43</td>\n",
       "      <td>172.0</td>\n",
       "    </tr>\n",
       "    <tr>\n",
       "      <th>2</th>\n",
       "      <td>1000</td>\n",
       "      <td>7</td>\n",
       "      <td>47</td>\n",
       "      <td>340.0</td>\n",
       "    </tr>\n",
       "    <tr>\n",
       "      <th>3</th>\n",
       "      <td>1000</td>\n",
       "      <td>8</td>\n",
       "      <td>52</td>\n",
       "      <td>408.0</td>\n",
       "    </tr>\n",
       "    <tr>\n",
       "      <th>4</th>\n",
       "      <td>1000</td>\n",
       "      <td>9</td>\n",
       "      <td>58</td>\n",
       "      <td>466.0</td>\n",
       "    </tr>\n",
       "    <tr>\n",
       "      <th>5</th>\n",
       "      <td>1000</td>\n",
       "      <td>10</td>\n",
       "      <td>57</td>\n",
       "      <td>350.0</td>\n",
       "    </tr>\n",
       "    <tr>\n",
       "      <th>6</th>\n",
       "      <td>1000</td>\n",
       "      <td>11</td>\n",
       "      <td>43</td>\n",
       "      <td>338.0</td>\n",
       "    </tr>\n",
       "    <tr>\n",
       "      <th>7</th>\n",
       "      <td>1000</td>\n",
       "      <td>12</td>\n",
       "      <td>46</td>\n",
       "      <td>333.0</td>\n",
       "    </tr>\n",
       "    <tr>\n",
       "      <th>8</th>\n",
       "      <td>1001</td>\n",
       "      <td>11</td>\n",
       "      <td>59</td>\n",
       "      <td>430.0</td>\n",
       "    </tr>\n",
       "    <tr>\n",
       "      <th>9</th>\n",
       "      <td>1001</td>\n",
       "      <td>12</td>\n",
       "      <td>63</td>\n",
       "      <td>414.0</td>\n",
       "    </tr>\n",
       "  </tbody>\n",
       "</table>\n",
       "</div>"
      ],
      "text/plain": [
       "   user_id  month  calls  minutes\n",
       "0     1000      5     22    159.0\n",
       "1     1000      6     43    172.0\n",
       "2     1000      7     47    340.0\n",
       "3     1000      8     52    408.0\n",
       "4     1000      9     58    466.0\n",
       "5     1000     10     57    350.0\n",
       "6     1000     11     43    338.0\n",
       "7     1000     12     46    333.0\n",
       "8     1001     11     59    430.0\n",
       "9     1001     12     63    414.0"
      ]
     },
     "execution_count": 27,
     "metadata": {},
     "output_type": "execute_result"
    }
   ],
   "source": [
    "# Создаем таблицу, сгруппированную по пользователю и месяцу с количеством звонков и израсходованных минут\n",
    "calls_grouped = calls.groupby(['user_id', 'month'], as_index=False)[['id', 'duration']].agg({'id': 'count', 'duration': 'sum'})\n",
    "calls_grouped.columns = ['user_id', 'month', 'calls', 'minutes']\n",
    "calls_grouped.head(10)"
   ]
  },
  {
   "cell_type": "markdown",
   "id": "fe436010",
   "metadata": {},
   "source": [
    "Создадим с таблицу количеством отправленных сообщений каждого пользователя по месяцам.\n",
    "\n"
   ]
  },
  {
   "cell_type": "code",
   "execution_count": 28,
   "id": "9c4e69b7",
   "metadata": {},
   "outputs": [],
   "source": [
    "# Добавляем столбец с месяцем\n",
    "messages['month'] = messages['message_date'].dt.month"
   ]
  },
  {
   "cell_type": "code",
   "execution_count": 29,
   "id": "74aca6fe",
   "metadata": {},
   "outputs": [
    {
     "data": {
      "text/html": [
       "<div>\n",
       "<style scoped>\n",
       "    .dataframe tbody tr th:only-of-type {\n",
       "        vertical-align: middle;\n",
       "    }\n",
       "\n",
       "    .dataframe tbody tr th {\n",
       "        vertical-align: top;\n",
       "    }\n",
       "\n",
       "    .dataframe thead th {\n",
       "        text-align: right;\n",
       "    }\n",
       "</style>\n",
       "<table border=\"1\" class=\"dataframe\">\n",
       "  <thead>\n",
       "    <tr style=\"text-align: right;\">\n",
       "      <th></th>\n",
       "      <th>user_id</th>\n",
       "      <th>month</th>\n",
       "      <th>messages</th>\n",
       "    </tr>\n",
       "  </thead>\n",
       "  <tbody>\n",
       "    <tr>\n",
       "      <th>0</th>\n",
       "      <td>1000</td>\n",
       "      <td>5</td>\n",
       "      <td>22</td>\n",
       "    </tr>\n",
       "    <tr>\n",
       "      <th>1</th>\n",
       "      <td>1000</td>\n",
       "      <td>6</td>\n",
       "      <td>60</td>\n",
       "    </tr>\n",
       "    <tr>\n",
       "      <th>2</th>\n",
       "      <td>1000</td>\n",
       "      <td>7</td>\n",
       "      <td>75</td>\n",
       "    </tr>\n",
       "    <tr>\n",
       "      <th>3</th>\n",
       "      <td>1000</td>\n",
       "      <td>8</td>\n",
       "      <td>81</td>\n",
       "    </tr>\n",
       "    <tr>\n",
       "      <th>4</th>\n",
       "      <td>1000</td>\n",
       "      <td>9</td>\n",
       "      <td>57</td>\n",
       "    </tr>\n",
       "  </tbody>\n",
       "</table>\n",
       "</div>"
      ],
      "text/plain": [
       "   user_id  month  messages\n",
       "0     1000      5        22\n",
       "1     1000      6        60\n",
       "2     1000      7        75\n",
       "3     1000      8        81\n",
       "4     1000      9        57"
      ]
     },
     "execution_count": 29,
     "metadata": {},
     "output_type": "execute_result"
    }
   ],
   "source": [
    "# Создаем таблицу, сгруппированную по пользователю и месяцу с количеством сообщений\n",
    "messages_grouped = messages.groupby(by=['user_id', 'month'], as_index=False)['id'].count()\n",
    "messages_grouped.columns = ['user_id', 'month', 'messages']\n",
    "messages_grouped.head()"
   ]
  },
  {
   "cell_type": "markdown",
   "id": "17b1f605",
   "metadata": {},
   "source": [
    "Создадим таблицу с объемом израсходованного  интернет-трафика каждым пользователем по месяцам"
   ]
  },
  {
   "cell_type": "code",
   "execution_count": 30,
   "id": "547199e6",
   "metadata": {},
   "outputs": [],
   "source": [
    "# Добавляем столбец с месяцем\n",
    "internet['month'] = internet['session_date'].dt.month"
   ]
  },
  {
   "cell_type": "code",
   "execution_count": 31,
   "id": "164c0f20",
   "metadata": {},
   "outputs": [
    {
     "data": {
      "text/html": [
       "<div>\n",
       "<style scoped>\n",
       "    .dataframe tbody tr th:only-of-type {\n",
       "        vertical-align: middle;\n",
       "    }\n",
       "\n",
       "    .dataframe tbody tr th {\n",
       "        vertical-align: top;\n",
       "    }\n",
       "\n",
       "    .dataframe thead th {\n",
       "        text-align: right;\n",
       "    }\n",
       "</style>\n",
       "<table border=\"1\" class=\"dataframe\">\n",
       "  <thead>\n",
       "    <tr style=\"text-align: right;\">\n",
       "      <th></th>\n",
       "      <th>user_id</th>\n",
       "      <th>month</th>\n",
       "      <th>mb_used</th>\n",
       "    </tr>\n",
       "  </thead>\n",
       "  <tbody>\n",
       "    <tr>\n",
       "      <th>0</th>\n",
       "      <td>1000</td>\n",
       "      <td>5</td>\n",
       "      <td>2253.49</td>\n",
       "    </tr>\n",
       "    <tr>\n",
       "      <th>1</th>\n",
       "      <td>1000</td>\n",
       "      <td>6</td>\n",
       "      <td>23233.77</td>\n",
       "    </tr>\n",
       "    <tr>\n",
       "      <th>2</th>\n",
       "      <td>1000</td>\n",
       "      <td>7</td>\n",
       "      <td>14003.64</td>\n",
       "    </tr>\n",
       "    <tr>\n",
       "      <th>3</th>\n",
       "      <td>1000</td>\n",
       "      <td>8</td>\n",
       "      <td>14055.93</td>\n",
       "    </tr>\n",
       "    <tr>\n",
       "      <th>4</th>\n",
       "      <td>1000</td>\n",
       "      <td>9</td>\n",
       "      <td>14568.91</td>\n",
       "    </tr>\n",
       "  </tbody>\n",
       "</table>\n",
       "</div>"
      ],
      "text/plain": [
       "   user_id  month   mb_used\n",
       "0     1000      5   2253.49\n",
       "1     1000      6  23233.77\n",
       "2     1000      7  14003.64\n",
       "3     1000      8  14055.93\n",
       "4     1000      9  14568.91"
      ]
     },
     "execution_count": 31,
     "metadata": {},
     "output_type": "execute_result"
    }
   ],
   "source": [
    "# Создаем таблицу, сгруппированную по пользователю и израсходованному трафику за каждый месяц\n",
    "internet_grouped = internet.groupby(by=['user_id', 'month'], as_index=False)['mb_used'].sum()\n",
    "internet_grouped.head()"
   ]
  },
  {
   "cell_type": "markdown",
   "id": "5ec78d43",
   "metadata": {},
   "source": [
    "Теперь в таблице `internet_grouped`  переведем значения столбца `mb_used` в гигабайты с округлением в большую сторону, а затем переименуем его в  `gb_used`"
   ]
  },
  {
   "cell_type": "code",
   "execution_count": 32,
   "id": "427c64b4",
   "metadata": {},
   "outputs": [],
   "source": [
    "#  Округление значений столбца  до ГБ в большую сторону\n",
    "internet_grouped['mb_used'] = internet_grouped['mb_used'] / 1024\n",
    "internet_grouped['mb_used'] = internet_grouped['mb_used'].apply(correct_value)\n",
    "\n",
    "# Переименование столбца\n",
    "internet_grouped = internet_grouped.rename(columns=({'mb_used': 'gb_used'}))"
   ]
  },
  {
   "cell_type": "code",
   "execution_count": 33,
   "id": "8c6736c6",
   "metadata": {},
   "outputs": [
    {
     "data": {
      "text/html": [
       "<div>\n",
       "<style scoped>\n",
       "    .dataframe tbody tr th:only-of-type {\n",
       "        vertical-align: middle;\n",
       "    }\n",
       "\n",
       "    .dataframe tbody tr th {\n",
       "        vertical-align: top;\n",
       "    }\n",
       "\n",
       "    .dataframe thead th {\n",
       "        text-align: right;\n",
       "    }\n",
       "</style>\n",
       "<table border=\"1\" class=\"dataframe\">\n",
       "  <thead>\n",
       "    <tr style=\"text-align: right;\">\n",
       "      <th></th>\n",
       "      <th>user_id</th>\n",
       "      <th>month</th>\n",
       "      <th>gb_used</th>\n",
       "    </tr>\n",
       "  </thead>\n",
       "  <tbody>\n",
       "    <tr>\n",
       "      <th>0</th>\n",
       "      <td>1000</td>\n",
       "      <td>5</td>\n",
       "      <td>3.0</td>\n",
       "    </tr>\n",
       "    <tr>\n",
       "      <th>1</th>\n",
       "      <td>1000</td>\n",
       "      <td>6</td>\n",
       "      <td>23.0</td>\n",
       "    </tr>\n",
       "    <tr>\n",
       "      <th>2</th>\n",
       "      <td>1000</td>\n",
       "      <td>7</td>\n",
       "      <td>14.0</td>\n",
       "    </tr>\n",
       "    <tr>\n",
       "      <th>3</th>\n",
       "      <td>1000</td>\n",
       "      <td>8</td>\n",
       "      <td>14.0</td>\n",
       "    </tr>\n",
       "    <tr>\n",
       "      <th>4</th>\n",
       "      <td>1000</td>\n",
       "      <td>9</td>\n",
       "      <td>15.0</td>\n",
       "    </tr>\n",
       "  </tbody>\n",
       "</table>\n",
       "</div>"
      ],
      "text/plain": [
       "   user_id  month  gb_used\n",
       "0     1000      5      3.0\n",
       "1     1000      6     23.0\n",
       "2     1000      7     14.0\n",
       "3     1000      8     14.0\n",
       "4     1000      9     15.0"
      ]
     },
     "execution_count": 33,
     "metadata": {},
     "output_type": "execute_result"
    }
   ],
   "source": [
    "# Проверка\n",
    "internet_grouped.head()"
   ]
  },
  {
   "cell_type": "markdown",
   "id": "ac7b679d",
   "metadata": {},
   "source": [
    "Для корректного слияния таблиц, в таблице tariffs переименуем колонку `tariff_name` в `tariff`"
   ]
  },
  {
   "cell_type": "code",
   "execution_count": 34,
   "id": "6174eff6",
   "metadata": {},
   "outputs": [],
   "source": [
    "tariffs = tariffs.rename(columns = {'tariff_name' : 'tariff'})"
   ]
  },
  {
   "cell_type": "markdown",
   "id": "98b4f0f1",
   "metadata": {},
   "source": [
    "Теперь объединим все необходимые нам данные в один датафрейм"
   ]
  },
  {
   "cell_type": "code",
   "execution_count": 35,
   "id": "11391484",
   "metadata": {},
   "outputs": [],
   "source": [
    "# Объединение всех таблиц в одну сводную\n",
    "df = calls_grouped.merge(messages_grouped, on=['user_id', 'month'], how='outer')\n",
    "df = df.merge(internet_grouped, on=['user_id', 'month'], how='outer')\n",
    "df = df.merge(users[['user_id', 'reg_date', 'churn_date', 'city', 'tariff']], on='user_id', how='outer')\n",
    "df = df.merge(tariffs, on='tariff', how='left')"
   ]
  },
  {
   "cell_type": "code",
   "execution_count": 36,
   "id": "7200a3cb",
   "metadata": {},
   "outputs": [
    {
     "data": {
      "text/html": [
       "<div>\n",
       "<style scoped>\n",
       "    .dataframe tbody tr th:only-of-type {\n",
       "        vertical-align: middle;\n",
       "    }\n",
       "\n",
       "    .dataframe tbody tr th {\n",
       "        vertical-align: top;\n",
       "    }\n",
       "\n",
       "    .dataframe thead th {\n",
       "        text-align: right;\n",
       "    }\n",
       "</style>\n",
       "<table border=\"1\" class=\"dataframe\">\n",
       "  <thead>\n",
       "    <tr style=\"text-align: right;\">\n",
       "      <th></th>\n",
       "      <th>user_id</th>\n",
       "      <th>month</th>\n",
       "      <th>calls</th>\n",
       "      <th>minutes</th>\n",
       "      <th>messages</th>\n",
       "      <th>gb_used</th>\n",
       "      <th>reg_date</th>\n",
       "      <th>churn_date</th>\n",
       "      <th>city</th>\n",
       "      <th>tariff</th>\n",
       "      <th>messages_included</th>\n",
       "      <th>gb_per_month_included</th>\n",
       "      <th>minutes_included</th>\n",
       "      <th>rub_monthly_fee</th>\n",
       "      <th>rub_per_gb</th>\n",
       "      <th>rub_per_message</th>\n",
       "      <th>rub_per_minute</th>\n",
       "    </tr>\n",
       "  </thead>\n",
       "  <tbody>\n",
       "    <tr>\n",
       "      <th>0</th>\n",
       "      <td>1000</td>\n",
       "      <td>5.0</td>\n",
       "      <td>22.0</td>\n",
       "      <td>159.0</td>\n",
       "      <td>22.0</td>\n",
       "      <td>3.0</td>\n",
       "      <td>2018-05-25</td>\n",
       "      <td>NaT</td>\n",
       "      <td>Краснодар</td>\n",
       "      <td>ultra</td>\n",
       "      <td>1000</td>\n",
       "      <td>30.0</td>\n",
       "      <td>3000</td>\n",
       "      <td>1950</td>\n",
       "      <td>150</td>\n",
       "      <td>1</td>\n",
       "      <td>1</td>\n",
       "    </tr>\n",
       "    <tr>\n",
       "      <th>1</th>\n",
       "      <td>1000</td>\n",
       "      <td>6.0</td>\n",
       "      <td>43.0</td>\n",
       "      <td>172.0</td>\n",
       "      <td>60.0</td>\n",
       "      <td>23.0</td>\n",
       "      <td>2018-05-25</td>\n",
       "      <td>NaT</td>\n",
       "      <td>Краснодар</td>\n",
       "      <td>ultra</td>\n",
       "      <td>1000</td>\n",
       "      <td>30.0</td>\n",
       "      <td>3000</td>\n",
       "      <td>1950</td>\n",
       "      <td>150</td>\n",
       "      <td>1</td>\n",
       "      <td>1</td>\n",
       "    </tr>\n",
       "    <tr>\n",
       "      <th>2</th>\n",
       "      <td>1000</td>\n",
       "      <td>7.0</td>\n",
       "      <td>47.0</td>\n",
       "      <td>340.0</td>\n",
       "      <td>75.0</td>\n",
       "      <td>14.0</td>\n",
       "      <td>2018-05-25</td>\n",
       "      <td>NaT</td>\n",
       "      <td>Краснодар</td>\n",
       "      <td>ultra</td>\n",
       "      <td>1000</td>\n",
       "      <td>30.0</td>\n",
       "      <td>3000</td>\n",
       "      <td>1950</td>\n",
       "      <td>150</td>\n",
       "      <td>1</td>\n",
       "      <td>1</td>\n",
       "    </tr>\n",
       "    <tr>\n",
       "      <th>3</th>\n",
       "      <td>1000</td>\n",
       "      <td>8.0</td>\n",
       "      <td>52.0</td>\n",
       "      <td>408.0</td>\n",
       "      <td>81.0</td>\n",
       "      <td>14.0</td>\n",
       "      <td>2018-05-25</td>\n",
       "      <td>NaT</td>\n",
       "      <td>Краснодар</td>\n",
       "      <td>ultra</td>\n",
       "      <td>1000</td>\n",
       "      <td>30.0</td>\n",
       "      <td>3000</td>\n",
       "      <td>1950</td>\n",
       "      <td>150</td>\n",
       "      <td>1</td>\n",
       "      <td>1</td>\n",
       "    </tr>\n",
       "    <tr>\n",
       "      <th>4</th>\n",
       "      <td>1000</td>\n",
       "      <td>9.0</td>\n",
       "      <td>58.0</td>\n",
       "      <td>466.0</td>\n",
       "      <td>57.0</td>\n",
       "      <td>15.0</td>\n",
       "      <td>2018-05-25</td>\n",
       "      <td>NaT</td>\n",
       "      <td>Краснодар</td>\n",
       "      <td>ultra</td>\n",
       "      <td>1000</td>\n",
       "      <td>30.0</td>\n",
       "      <td>3000</td>\n",
       "      <td>1950</td>\n",
       "      <td>150</td>\n",
       "      <td>1</td>\n",
       "      <td>1</td>\n",
       "    </tr>\n",
       "    <tr>\n",
       "      <th>5</th>\n",
       "      <td>1000</td>\n",
       "      <td>10.0</td>\n",
       "      <td>57.0</td>\n",
       "      <td>350.0</td>\n",
       "      <td>73.0</td>\n",
       "      <td>15.0</td>\n",
       "      <td>2018-05-25</td>\n",
       "      <td>NaT</td>\n",
       "      <td>Краснодар</td>\n",
       "      <td>ultra</td>\n",
       "      <td>1000</td>\n",
       "      <td>30.0</td>\n",
       "      <td>3000</td>\n",
       "      <td>1950</td>\n",
       "      <td>150</td>\n",
       "      <td>1</td>\n",
       "      <td>1</td>\n",
       "    </tr>\n",
       "    <tr>\n",
       "      <th>6</th>\n",
       "      <td>1000</td>\n",
       "      <td>11.0</td>\n",
       "      <td>43.0</td>\n",
       "      <td>338.0</td>\n",
       "      <td>58.0</td>\n",
       "      <td>15.0</td>\n",
       "      <td>2018-05-25</td>\n",
       "      <td>NaT</td>\n",
       "      <td>Краснодар</td>\n",
       "      <td>ultra</td>\n",
       "      <td>1000</td>\n",
       "      <td>30.0</td>\n",
       "      <td>3000</td>\n",
       "      <td>1950</td>\n",
       "      <td>150</td>\n",
       "      <td>1</td>\n",
       "      <td>1</td>\n",
       "    </tr>\n",
       "    <tr>\n",
       "      <th>7</th>\n",
       "      <td>1000</td>\n",
       "      <td>12.0</td>\n",
       "      <td>46.0</td>\n",
       "      <td>333.0</td>\n",
       "      <td>70.0</td>\n",
       "      <td>10.0</td>\n",
       "      <td>2018-05-25</td>\n",
       "      <td>NaT</td>\n",
       "      <td>Краснодар</td>\n",
       "      <td>ultra</td>\n",
       "      <td>1000</td>\n",
       "      <td>30.0</td>\n",
       "      <td>3000</td>\n",
       "      <td>1950</td>\n",
       "      <td>150</td>\n",
       "      <td>1</td>\n",
       "      <td>1</td>\n",
       "    </tr>\n",
       "    <tr>\n",
       "      <th>8</th>\n",
       "      <td>1001</td>\n",
       "      <td>11.0</td>\n",
       "      <td>59.0</td>\n",
       "      <td>430.0</td>\n",
       "      <td>NaN</td>\n",
       "      <td>18.0</td>\n",
       "      <td>2018-11-01</td>\n",
       "      <td>NaT</td>\n",
       "      <td>Москва</td>\n",
       "      <td>smart</td>\n",
       "      <td>50</td>\n",
       "      <td>15.0</td>\n",
       "      <td>500</td>\n",
       "      <td>550</td>\n",
       "      <td>200</td>\n",
       "      <td>3</td>\n",
       "      <td>3</td>\n",
       "    </tr>\n",
       "    <tr>\n",
       "      <th>9</th>\n",
       "      <td>1001</td>\n",
       "      <td>12.0</td>\n",
       "      <td>63.0</td>\n",
       "      <td>414.0</td>\n",
       "      <td>NaN</td>\n",
       "      <td>14.0</td>\n",
       "      <td>2018-11-01</td>\n",
       "      <td>NaT</td>\n",
       "      <td>Москва</td>\n",
       "      <td>smart</td>\n",
       "      <td>50</td>\n",
       "      <td>15.0</td>\n",
       "      <td>500</td>\n",
       "      <td>550</td>\n",
       "      <td>200</td>\n",
       "      <td>3</td>\n",
       "      <td>3</td>\n",
       "    </tr>\n",
       "  </tbody>\n",
       "</table>\n",
       "</div>"
      ],
      "text/plain": [
       "   user_id  month  calls  minutes  messages  gb_used   reg_date churn_date  \\\n",
       "0     1000    5.0   22.0    159.0      22.0      3.0 2018-05-25        NaT   \n",
       "1     1000    6.0   43.0    172.0      60.0     23.0 2018-05-25        NaT   \n",
       "2     1000    7.0   47.0    340.0      75.0     14.0 2018-05-25        NaT   \n",
       "3     1000    8.0   52.0    408.0      81.0     14.0 2018-05-25        NaT   \n",
       "4     1000    9.0   58.0    466.0      57.0     15.0 2018-05-25        NaT   \n",
       "5     1000   10.0   57.0    350.0      73.0     15.0 2018-05-25        NaT   \n",
       "6     1000   11.0   43.0    338.0      58.0     15.0 2018-05-25        NaT   \n",
       "7     1000   12.0   46.0    333.0      70.0     10.0 2018-05-25        NaT   \n",
       "8     1001   11.0   59.0    430.0       NaN     18.0 2018-11-01        NaT   \n",
       "9     1001   12.0   63.0    414.0       NaN     14.0 2018-11-01        NaT   \n",
       "\n",
       "        city tariff  messages_included  gb_per_month_included  \\\n",
       "0  Краснодар  ultra               1000                   30.0   \n",
       "1  Краснодар  ultra               1000                   30.0   \n",
       "2  Краснодар  ultra               1000                   30.0   \n",
       "3  Краснодар  ultra               1000                   30.0   \n",
       "4  Краснодар  ultra               1000                   30.0   \n",
       "5  Краснодар  ultra               1000                   30.0   \n",
       "6  Краснодар  ultra               1000                   30.0   \n",
       "7  Краснодар  ultra               1000                   30.0   \n",
       "8     Москва  smart                 50                   15.0   \n",
       "9     Москва  smart                 50                   15.0   \n",
       "\n",
       "   minutes_included  rub_monthly_fee  rub_per_gb  rub_per_message  \\\n",
       "0              3000             1950         150                1   \n",
       "1              3000             1950         150                1   \n",
       "2              3000             1950         150                1   \n",
       "3              3000             1950         150                1   \n",
       "4              3000             1950         150                1   \n",
       "5              3000             1950         150                1   \n",
       "6              3000             1950         150                1   \n",
       "7              3000             1950         150                1   \n",
       "8               500              550         200                3   \n",
       "9               500              550         200                3   \n",
       "\n",
       "   rub_per_minute  \n",
       "0               1  \n",
       "1               1  \n",
       "2               1  \n",
       "3               1  \n",
       "4               1  \n",
       "5               1  \n",
       "6               1  \n",
       "7               1  \n",
       "8               3  \n",
       "9               3  "
      ]
     },
     "execution_count": 36,
     "metadata": {},
     "output_type": "execute_result"
    }
   ],
   "source": [
    "# Проверка результата\n",
    "df.head(10)"
   ]
  },
  {
   "cell_type": "code",
   "execution_count": 37,
   "id": "41d25f47",
   "metadata": {
    "scrolled": false
   },
   "outputs": [
    {
     "name": "stdout",
     "output_type": "stream",
     "text": [
      "<class 'pandas.core.frame.DataFrame'>\n",
      "Int64Index: 3216 entries, 0 to 3215\n",
      "Data columns (total 17 columns):\n",
      " #   Column                 Non-Null Count  Dtype         \n",
      "---  ------                 --------------  -----         \n",
      " 0   user_id                3216 non-null   int64         \n",
      " 1   month                  3214 non-null   float64       \n",
      " 2   calls                  3174 non-null   float64       \n",
      " 3   minutes                3174 non-null   float64       \n",
      " 4   messages               2717 non-null   float64       \n",
      " 5   gb_used                3203 non-null   float64       \n",
      " 6   reg_date               3216 non-null   datetime64[ns]\n",
      " 7   churn_date             189 non-null    datetime64[ns]\n",
      " 8   city                   3216 non-null   object        \n",
      " 9   tariff                 3216 non-null   object        \n",
      " 10  messages_included      3216 non-null   int64         \n",
      " 11  gb_per_month_included  3216 non-null   float64       \n",
      " 12  minutes_included       3216 non-null   int64         \n",
      " 13  rub_monthly_fee        3216 non-null   int64         \n",
      " 14  rub_per_gb             3216 non-null   int64         \n",
      " 15  rub_per_message        3216 non-null   int64         \n",
      " 16  rub_per_minute         3216 non-null   int64         \n",
      "dtypes: datetime64[ns](2), float64(6), int64(7), object(2)\n",
      "memory usage: 452.2+ KB\n"
     ]
    }
   ],
   "source": [
    "# Поиск проблем в новосозданной таблице\n",
    "df.info()"
   ]
  },
  {
   "cell_type": "markdown",
   "id": "14c1aeed",
   "metadata": {},
   "source": [
    "Видим пропуски в столбцах `month`, `calls`, `minutes`, `messages`, `gb_used`, `churn_date`\n",
    "\n",
    "Пропуски в `churn_date` - нормальное явление, значит у пользователя действующий тариф. \n",
    "\n",
    "Пропуски в  `calls`, `minutes`, `messages`, `gb_used` появились из-за того, что при слиянии таблиц не было данных об этой метрике за какой-то месяц. Раз так, то этими услугами не пользовались, следовательно, можно заменить эти пропуски нулями. "
   ]
  },
  {
   "cell_type": "code",
   "execution_count": 38,
   "id": "1ca32da6",
   "metadata": {},
   "outputs": [],
   "source": [
    "# Заполняем пропуски нулями\n",
    "for col in ['calls', 'minutes', 'messages', 'gb_used']:\n",
    "    df[col].fillna(0, inplace=True)"
   ]
  },
  {
   "cell_type": "markdown",
   "id": "030dc73f",
   "metadata": {},
   "source": [
    "Рассмотрим внимательнее пропуски в столбце `month`"
   ]
  },
  {
   "cell_type": "code",
   "execution_count": 39,
   "id": "3c4d6f04",
   "metadata": {},
   "outputs": [
    {
     "data": {
      "text/html": [
       "<div>\n",
       "<style scoped>\n",
       "    .dataframe tbody tr th:only-of-type {\n",
       "        vertical-align: middle;\n",
       "    }\n",
       "\n",
       "    .dataframe tbody tr th {\n",
       "        vertical-align: top;\n",
       "    }\n",
       "\n",
       "    .dataframe thead th {\n",
       "        text-align: right;\n",
       "    }\n",
       "</style>\n",
       "<table border=\"1\" class=\"dataframe\">\n",
       "  <thead>\n",
       "    <tr style=\"text-align: right;\">\n",
       "      <th></th>\n",
       "      <th>user_id</th>\n",
       "      <th>month</th>\n",
       "      <th>calls</th>\n",
       "      <th>minutes</th>\n",
       "      <th>messages</th>\n",
       "      <th>gb_used</th>\n",
       "      <th>reg_date</th>\n",
       "      <th>churn_date</th>\n",
       "      <th>city</th>\n",
       "      <th>tariff</th>\n",
       "      <th>messages_included</th>\n",
       "      <th>gb_per_month_included</th>\n",
       "      <th>minutes_included</th>\n",
       "      <th>rub_monthly_fee</th>\n",
       "      <th>rub_per_gb</th>\n",
       "      <th>rub_per_message</th>\n",
       "      <th>rub_per_minute</th>\n",
       "    </tr>\n",
       "  </thead>\n",
       "  <tbody>\n",
       "    <tr>\n",
       "      <th>3214</th>\n",
       "      <td>1128</td>\n",
       "      <td>NaN</td>\n",
       "      <td>0.0</td>\n",
       "      <td>0.0</td>\n",
       "      <td>0.0</td>\n",
       "      <td>0.0</td>\n",
       "      <td>2018-12-15</td>\n",
       "      <td>2018-12-23</td>\n",
       "      <td>Волжский</td>\n",
       "      <td>ultra</td>\n",
       "      <td>1000</td>\n",
       "      <td>30.0</td>\n",
       "      <td>3000</td>\n",
       "      <td>1950</td>\n",
       "      <td>150</td>\n",
       "      <td>1</td>\n",
       "      <td>1</td>\n",
       "    </tr>\n",
       "    <tr>\n",
       "      <th>3215</th>\n",
       "      <td>1371</td>\n",
       "      <td>NaN</td>\n",
       "      <td>0.0</td>\n",
       "      <td>0.0</td>\n",
       "      <td>0.0</td>\n",
       "      <td>0.0</td>\n",
       "      <td>2018-12-25</td>\n",
       "      <td>2018-12-30</td>\n",
       "      <td>Омск</td>\n",
       "      <td>smart</td>\n",
       "      <td>50</td>\n",
       "      <td>15.0</td>\n",
       "      <td>500</td>\n",
       "      <td>550</td>\n",
       "      <td>200</td>\n",
       "      <td>3</td>\n",
       "      <td>3</td>\n",
       "    </tr>\n",
       "  </tbody>\n",
       "</table>\n",
       "</div>"
      ],
      "text/plain": [
       "      user_id  month  calls  minutes  messages  gb_used   reg_date churn_date  \\\n",
       "3214     1128    NaN    0.0      0.0       0.0      0.0 2018-12-15 2018-12-23   \n",
       "3215     1371    NaN    0.0      0.0       0.0      0.0 2018-12-25 2018-12-30   \n",
       "\n",
       "          city tariff  messages_included  gb_per_month_included  \\\n",
       "3214  Волжский  ultra               1000                   30.0   \n",
       "3215      Омск  smart                 50                   15.0   \n",
       "\n",
       "      minutes_included  rub_monthly_fee  rub_per_gb  rub_per_message  \\\n",
       "3214              3000             1950         150                1   \n",
       "3215               500              550         200                3   \n",
       "\n",
       "      rub_per_minute  \n",
       "3214               1  \n",
       "3215               3  "
      ]
     },
     "execution_count": 39,
     "metadata": {},
     "output_type": "execute_result"
    }
   ],
   "source": [
    "df.query('month.isna()', engine='python')"
   ]
  },
  {
   "cell_type": "markdown",
   "id": "78752e2b",
   "metadata": {},
   "source": [
    "В обоих случаях пользователь прекращал пользоваться тарифом менее чем через месяц после его активации. Соответственно, польностью воспользоваться тарифом хотя бы в течение 1 месяца им не удалось. \n",
    "\n",
    "Так как количество таких пользователей крайне незначительно, то можно удалить эти 2 строки из датафрейма. "
   ]
  },
  {
   "cell_type": "code",
   "execution_count": 40,
   "id": "3a474268",
   "metadata": {},
   "outputs": [],
   "source": [
    "# Удаление строк с пропусками в столбце month\n",
    "df.dropna(subset=['month'], inplace=True)\n",
    "df.reset_index(drop=True, inplace=True)"
   ]
  },
  {
   "cell_type": "markdown",
   "id": "dab1b47d",
   "metadata": {},
   "source": [
    "Также значения в столбцах `month`,\t`calls`,\t`minutes\tmessages`,\t`gb_used` и `gb_per_month_included` можно привести к целочисленному типу"
   ]
  },
  {
   "cell_type": "code",
   "execution_count": 41,
   "id": "fc0a0d60",
   "metadata": {},
   "outputs": [],
   "source": [
    "for column in ['month',  'calls',  'minutes',  'messages',  'gb_used', 'gb_per_month_included']:\n",
    "    df[column] = df[column].astype('int')"
   ]
  },
  {
   "cell_type": "code",
   "execution_count": 42,
   "id": "6a967426",
   "metadata": {},
   "outputs": [
    {
     "name": "stdout",
     "output_type": "stream",
     "text": [
      "<class 'pandas.core.frame.DataFrame'>\n",
      "RangeIndex: 3214 entries, 0 to 3213\n",
      "Data columns (total 17 columns):\n",
      " #   Column                 Non-Null Count  Dtype         \n",
      "---  ------                 --------------  -----         \n",
      " 0   user_id                3214 non-null   int64         \n",
      " 1   month                  3214 non-null   int64         \n",
      " 2   calls                  3214 non-null   int64         \n",
      " 3   minutes                3214 non-null   int64         \n",
      " 4   messages               3214 non-null   int64         \n",
      " 5   gb_used                3214 non-null   int64         \n",
      " 6   reg_date               3214 non-null   datetime64[ns]\n",
      " 7   churn_date             187 non-null    datetime64[ns]\n",
      " 8   city                   3214 non-null   object        \n",
      " 9   tariff                 3214 non-null   object        \n",
      " 10  messages_included      3214 non-null   int64         \n",
      " 11  gb_per_month_included  3214 non-null   int64         \n",
      " 12  minutes_included       3214 non-null   int64         \n",
      " 13  rub_monthly_fee        3214 non-null   int64         \n",
      " 14  rub_per_gb             3214 non-null   int64         \n",
      " 15  rub_per_message        3214 non-null   int64         \n",
      " 16  rub_per_minute         3214 non-null   int64         \n",
      "dtypes: datetime64[ns](2), int64(13), object(2)\n",
      "memory usage: 427.0+ KB\n"
     ]
    }
   ],
   "source": [
    "# Проверка всех выполненных операций\n",
    "df.info()"
   ]
  },
  {
   "cell_type": "markdown",
   "id": "6328af05",
   "metadata": {},
   "source": [
    "Теперь добавим в таблицу столбец `revenue` , который содержит информацию о помесячной выручке с каждого пользователя. "
   ]
  },
  {
   "cell_type": "code",
   "execution_count": 43,
   "id": "de5c53e8",
   "metadata": {},
   "outputs": [
    {
     "data": {
      "text/html": [
       "<div>\n",
       "<style scoped>\n",
       "    .dataframe tbody tr th:only-of-type {\n",
       "        vertical-align: middle;\n",
       "    }\n",
       "\n",
       "    .dataframe tbody tr th {\n",
       "        vertical-align: top;\n",
       "    }\n",
       "\n",
       "    .dataframe thead th {\n",
       "        text-align: right;\n",
       "    }\n",
       "</style>\n",
       "<table border=\"1\" class=\"dataframe\">\n",
       "  <thead>\n",
       "    <tr style=\"text-align: right;\">\n",
       "      <th></th>\n",
       "      <th>user_id</th>\n",
       "      <th>month</th>\n",
       "      <th>calls</th>\n",
       "      <th>minutes</th>\n",
       "      <th>messages</th>\n",
       "      <th>gb_used</th>\n",
       "      <th>reg_date</th>\n",
       "      <th>churn_date</th>\n",
       "      <th>city</th>\n",
       "      <th>tariff</th>\n",
       "      <th>messages_included</th>\n",
       "      <th>gb_per_month_included</th>\n",
       "      <th>minutes_included</th>\n",
       "      <th>rub_monthly_fee</th>\n",
       "      <th>rub_per_gb</th>\n",
       "      <th>rub_per_message</th>\n",
       "      <th>rub_per_minute</th>\n",
       "    </tr>\n",
       "  </thead>\n",
       "  <tbody>\n",
       "    <tr>\n",
       "      <th>0</th>\n",
       "      <td>1000</td>\n",
       "      <td>5</td>\n",
       "      <td>22</td>\n",
       "      <td>159</td>\n",
       "      <td>22</td>\n",
       "      <td>3</td>\n",
       "      <td>2018-05-25</td>\n",
       "      <td>NaT</td>\n",
       "      <td>Краснодар</td>\n",
       "      <td>ultra</td>\n",
       "      <td>1000</td>\n",
       "      <td>30</td>\n",
       "      <td>3000</td>\n",
       "      <td>1950</td>\n",
       "      <td>150</td>\n",
       "      <td>1</td>\n",
       "      <td>1</td>\n",
       "    </tr>\n",
       "    <tr>\n",
       "      <th>1</th>\n",
       "      <td>1000</td>\n",
       "      <td>6</td>\n",
       "      <td>43</td>\n",
       "      <td>172</td>\n",
       "      <td>60</td>\n",
       "      <td>23</td>\n",
       "      <td>2018-05-25</td>\n",
       "      <td>NaT</td>\n",
       "      <td>Краснодар</td>\n",
       "      <td>ultra</td>\n",
       "      <td>1000</td>\n",
       "      <td>30</td>\n",
       "      <td>3000</td>\n",
       "      <td>1950</td>\n",
       "      <td>150</td>\n",
       "      <td>1</td>\n",
       "      <td>1</td>\n",
       "    </tr>\n",
       "    <tr>\n",
       "      <th>2</th>\n",
       "      <td>1000</td>\n",
       "      <td>7</td>\n",
       "      <td>47</td>\n",
       "      <td>340</td>\n",
       "      <td>75</td>\n",
       "      <td>14</td>\n",
       "      <td>2018-05-25</td>\n",
       "      <td>NaT</td>\n",
       "      <td>Краснодар</td>\n",
       "      <td>ultra</td>\n",
       "      <td>1000</td>\n",
       "      <td>30</td>\n",
       "      <td>3000</td>\n",
       "      <td>1950</td>\n",
       "      <td>150</td>\n",
       "      <td>1</td>\n",
       "      <td>1</td>\n",
       "    </tr>\n",
       "    <tr>\n",
       "      <th>3</th>\n",
       "      <td>1000</td>\n",
       "      <td>8</td>\n",
       "      <td>52</td>\n",
       "      <td>408</td>\n",
       "      <td>81</td>\n",
       "      <td>14</td>\n",
       "      <td>2018-05-25</td>\n",
       "      <td>NaT</td>\n",
       "      <td>Краснодар</td>\n",
       "      <td>ultra</td>\n",
       "      <td>1000</td>\n",
       "      <td>30</td>\n",
       "      <td>3000</td>\n",
       "      <td>1950</td>\n",
       "      <td>150</td>\n",
       "      <td>1</td>\n",
       "      <td>1</td>\n",
       "    </tr>\n",
       "    <tr>\n",
       "      <th>4</th>\n",
       "      <td>1000</td>\n",
       "      <td>9</td>\n",
       "      <td>58</td>\n",
       "      <td>466</td>\n",
       "      <td>57</td>\n",
       "      <td>15</td>\n",
       "      <td>2018-05-25</td>\n",
       "      <td>NaT</td>\n",
       "      <td>Краснодар</td>\n",
       "      <td>ultra</td>\n",
       "      <td>1000</td>\n",
       "      <td>30</td>\n",
       "      <td>3000</td>\n",
       "      <td>1950</td>\n",
       "      <td>150</td>\n",
       "      <td>1</td>\n",
       "      <td>1</td>\n",
       "    </tr>\n",
       "    <tr>\n",
       "      <th>5</th>\n",
       "      <td>1000</td>\n",
       "      <td>10</td>\n",
       "      <td>57</td>\n",
       "      <td>350</td>\n",
       "      <td>73</td>\n",
       "      <td>15</td>\n",
       "      <td>2018-05-25</td>\n",
       "      <td>NaT</td>\n",
       "      <td>Краснодар</td>\n",
       "      <td>ultra</td>\n",
       "      <td>1000</td>\n",
       "      <td>30</td>\n",
       "      <td>3000</td>\n",
       "      <td>1950</td>\n",
       "      <td>150</td>\n",
       "      <td>1</td>\n",
       "      <td>1</td>\n",
       "    </tr>\n",
       "    <tr>\n",
       "      <th>6</th>\n",
       "      <td>1000</td>\n",
       "      <td>11</td>\n",
       "      <td>43</td>\n",
       "      <td>338</td>\n",
       "      <td>58</td>\n",
       "      <td>15</td>\n",
       "      <td>2018-05-25</td>\n",
       "      <td>NaT</td>\n",
       "      <td>Краснодар</td>\n",
       "      <td>ultra</td>\n",
       "      <td>1000</td>\n",
       "      <td>30</td>\n",
       "      <td>3000</td>\n",
       "      <td>1950</td>\n",
       "      <td>150</td>\n",
       "      <td>1</td>\n",
       "      <td>1</td>\n",
       "    </tr>\n",
       "    <tr>\n",
       "      <th>7</th>\n",
       "      <td>1000</td>\n",
       "      <td>12</td>\n",
       "      <td>46</td>\n",
       "      <td>333</td>\n",
       "      <td>70</td>\n",
       "      <td>10</td>\n",
       "      <td>2018-05-25</td>\n",
       "      <td>NaT</td>\n",
       "      <td>Краснодар</td>\n",
       "      <td>ultra</td>\n",
       "      <td>1000</td>\n",
       "      <td>30</td>\n",
       "      <td>3000</td>\n",
       "      <td>1950</td>\n",
       "      <td>150</td>\n",
       "      <td>1</td>\n",
       "      <td>1</td>\n",
       "    </tr>\n",
       "    <tr>\n",
       "      <th>8</th>\n",
       "      <td>1001</td>\n",
       "      <td>11</td>\n",
       "      <td>59</td>\n",
       "      <td>430</td>\n",
       "      <td>0</td>\n",
       "      <td>18</td>\n",
       "      <td>2018-11-01</td>\n",
       "      <td>NaT</td>\n",
       "      <td>Москва</td>\n",
       "      <td>smart</td>\n",
       "      <td>50</td>\n",
       "      <td>15</td>\n",
       "      <td>500</td>\n",
       "      <td>550</td>\n",
       "      <td>200</td>\n",
       "      <td>3</td>\n",
       "      <td>3</td>\n",
       "    </tr>\n",
       "    <tr>\n",
       "      <th>9</th>\n",
       "      <td>1001</td>\n",
       "      <td>12</td>\n",
       "      <td>63</td>\n",
       "      <td>414</td>\n",
       "      <td>0</td>\n",
       "      <td>14</td>\n",
       "      <td>2018-11-01</td>\n",
       "      <td>NaT</td>\n",
       "      <td>Москва</td>\n",
       "      <td>smart</td>\n",
       "      <td>50</td>\n",
       "      <td>15</td>\n",
       "      <td>500</td>\n",
       "      <td>550</td>\n",
       "      <td>200</td>\n",
       "      <td>3</td>\n",
       "      <td>3</td>\n",
       "    </tr>\n",
       "  </tbody>\n",
       "</table>\n",
       "</div>"
      ],
      "text/plain": [
       "   user_id  month  calls  minutes  messages  gb_used   reg_date churn_date  \\\n",
       "0     1000      5     22      159        22        3 2018-05-25        NaT   \n",
       "1     1000      6     43      172        60       23 2018-05-25        NaT   \n",
       "2     1000      7     47      340        75       14 2018-05-25        NaT   \n",
       "3     1000      8     52      408        81       14 2018-05-25        NaT   \n",
       "4     1000      9     58      466        57       15 2018-05-25        NaT   \n",
       "5     1000     10     57      350        73       15 2018-05-25        NaT   \n",
       "6     1000     11     43      338        58       15 2018-05-25        NaT   \n",
       "7     1000     12     46      333        70       10 2018-05-25        NaT   \n",
       "8     1001     11     59      430         0       18 2018-11-01        NaT   \n",
       "9     1001     12     63      414         0       14 2018-11-01        NaT   \n",
       "\n",
       "        city tariff  messages_included  gb_per_month_included  \\\n",
       "0  Краснодар  ultra               1000                     30   \n",
       "1  Краснодар  ultra               1000                     30   \n",
       "2  Краснодар  ultra               1000                     30   \n",
       "3  Краснодар  ultra               1000                     30   \n",
       "4  Краснодар  ultra               1000                     30   \n",
       "5  Краснодар  ultra               1000                     30   \n",
       "6  Краснодар  ultra               1000                     30   \n",
       "7  Краснодар  ultra               1000                     30   \n",
       "8     Москва  smart                 50                     15   \n",
       "9     Москва  smart                 50                     15   \n",
       "\n",
       "   minutes_included  rub_monthly_fee  rub_per_gb  rub_per_message  \\\n",
       "0              3000             1950         150                1   \n",
       "1              3000             1950         150                1   \n",
       "2              3000             1950         150                1   \n",
       "3              3000             1950         150                1   \n",
       "4              3000             1950         150                1   \n",
       "5              3000             1950         150                1   \n",
       "6              3000             1950         150                1   \n",
       "7              3000             1950         150                1   \n",
       "8               500              550         200                3   \n",
       "9               500              550         200                3   \n",
       "\n",
       "   rub_per_minute  \n",
       "0               1  \n",
       "1               1  \n",
       "2               1  \n",
       "3               1  \n",
       "4               1  \n",
       "5               1  \n",
       "6               1  \n",
       "7               1  \n",
       "8               3  \n",
       "9               3  "
      ]
     },
     "execution_count": 43,
     "metadata": {},
     "output_type": "execute_result"
    }
   ],
   "source": [
    "df.head(10)"
   ]
  },
  {
   "cell_type": "code",
   "execution_count": 44,
   "id": "caee25d1",
   "metadata": {},
   "outputs": [],
   "source": [
    "# Функция расчета помесячной выручки с каждого пользователя\n",
    "def user_revenue(row):\n",
    "    revenue = row['rub_monthly_fee']\n",
    "    minutes = row['minutes_included'] - row['minutes']\n",
    "    messages = row['messages_included'] - row['messages']\n",
    "    internet = row['gb_per_month_included'] - row['gb_used']\n",
    "    if minutes < 0:\n",
    "        revenue += abs(minutes * row['rub_per_minute'])\n",
    "    if messages < 0:\n",
    "        revenue += abs(messages * row['rub_per_message'])\n",
    "    if internet < 0:\n",
    "        revenue += abs(internet * row['rub_per_gb'])\n",
    "    return revenue"
   ]
  },
  {
   "cell_type": "code",
   "execution_count": 45,
   "id": "a65ee9c4",
   "metadata": {},
   "outputs": [],
   "source": [
    "# Добавление столбца с выручкой\n",
    "df['revenue'] = df.apply(user_revenue, axis=1)"
   ]
  },
  {
   "cell_type": "code",
   "execution_count": 46,
   "id": "6d34524d",
   "metadata": {},
   "outputs": [
    {
     "data": {
      "text/html": [
       "<div>\n",
       "<style scoped>\n",
       "    .dataframe tbody tr th:only-of-type {\n",
       "        vertical-align: middle;\n",
       "    }\n",
       "\n",
       "    .dataframe tbody tr th {\n",
       "        vertical-align: top;\n",
       "    }\n",
       "\n",
       "    .dataframe thead th {\n",
       "        text-align: right;\n",
       "    }\n",
       "</style>\n",
       "<table border=\"1\" class=\"dataframe\">\n",
       "  <thead>\n",
       "    <tr style=\"text-align: right;\">\n",
       "      <th></th>\n",
       "      <th>user_id</th>\n",
       "      <th>month</th>\n",
       "      <th>calls</th>\n",
       "      <th>minutes</th>\n",
       "      <th>messages</th>\n",
       "      <th>gb_used</th>\n",
       "      <th>reg_date</th>\n",
       "      <th>churn_date</th>\n",
       "      <th>city</th>\n",
       "      <th>tariff</th>\n",
       "      <th>messages_included</th>\n",
       "      <th>gb_per_month_included</th>\n",
       "      <th>minutes_included</th>\n",
       "      <th>rub_monthly_fee</th>\n",
       "      <th>rub_per_gb</th>\n",
       "      <th>rub_per_message</th>\n",
       "      <th>rub_per_minute</th>\n",
       "      <th>revenue</th>\n",
       "    </tr>\n",
       "  </thead>\n",
       "  <tbody>\n",
       "    <tr>\n",
       "      <th>0</th>\n",
       "      <td>1000</td>\n",
       "      <td>5</td>\n",
       "      <td>22</td>\n",
       "      <td>159</td>\n",
       "      <td>22</td>\n",
       "      <td>3</td>\n",
       "      <td>2018-05-25</td>\n",
       "      <td>NaT</td>\n",
       "      <td>Краснодар</td>\n",
       "      <td>ultra</td>\n",
       "      <td>1000</td>\n",
       "      <td>30</td>\n",
       "      <td>3000</td>\n",
       "      <td>1950</td>\n",
       "      <td>150</td>\n",
       "      <td>1</td>\n",
       "      <td>1</td>\n",
       "      <td>1950</td>\n",
       "    </tr>\n",
       "    <tr>\n",
       "      <th>1</th>\n",
       "      <td>1000</td>\n",
       "      <td>6</td>\n",
       "      <td>43</td>\n",
       "      <td>172</td>\n",
       "      <td>60</td>\n",
       "      <td>23</td>\n",
       "      <td>2018-05-25</td>\n",
       "      <td>NaT</td>\n",
       "      <td>Краснодар</td>\n",
       "      <td>ultra</td>\n",
       "      <td>1000</td>\n",
       "      <td>30</td>\n",
       "      <td>3000</td>\n",
       "      <td>1950</td>\n",
       "      <td>150</td>\n",
       "      <td>1</td>\n",
       "      <td>1</td>\n",
       "      <td>1950</td>\n",
       "    </tr>\n",
       "    <tr>\n",
       "      <th>2</th>\n",
       "      <td>1000</td>\n",
       "      <td>7</td>\n",
       "      <td>47</td>\n",
       "      <td>340</td>\n",
       "      <td>75</td>\n",
       "      <td>14</td>\n",
       "      <td>2018-05-25</td>\n",
       "      <td>NaT</td>\n",
       "      <td>Краснодар</td>\n",
       "      <td>ultra</td>\n",
       "      <td>1000</td>\n",
       "      <td>30</td>\n",
       "      <td>3000</td>\n",
       "      <td>1950</td>\n",
       "      <td>150</td>\n",
       "      <td>1</td>\n",
       "      <td>1</td>\n",
       "      <td>1950</td>\n",
       "    </tr>\n",
       "    <tr>\n",
       "      <th>3</th>\n",
       "      <td>1000</td>\n",
       "      <td>8</td>\n",
       "      <td>52</td>\n",
       "      <td>408</td>\n",
       "      <td>81</td>\n",
       "      <td>14</td>\n",
       "      <td>2018-05-25</td>\n",
       "      <td>NaT</td>\n",
       "      <td>Краснодар</td>\n",
       "      <td>ultra</td>\n",
       "      <td>1000</td>\n",
       "      <td>30</td>\n",
       "      <td>3000</td>\n",
       "      <td>1950</td>\n",
       "      <td>150</td>\n",
       "      <td>1</td>\n",
       "      <td>1</td>\n",
       "      <td>1950</td>\n",
       "    </tr>\n",
       "    <tr>\n",
       "      <th>4</th>\n",
       "      <td>1000</td>\n",
       "      <td>9</td>\n",
       "      <td>58</td>\n",
       "      <td>466</td>\n",
       "      <td>57</td>\n",
       "      <td>15</td>\n",
       "      <td>2018-05-25</td>\n",
       "      <td>NaT</td>\n",
       "      <td>Краснодар</td>\n",
       "      <td>ultra</td>\n",
       "      <td>1000</td>\n",
       "      <td>30</td>\n",
       "      <td>3000</td>\n",
       "      <td>1950</td>\n",
       "      <td>150</td>\n",
       "      <td>1</td>\n",
       "      <td>1</td>\n",
       "      <td>1950</td>\n",
       "    </tr>\n",
       "    <tr>\n",
       "      <th>5</th>\n",
       "      <td>1000</td>\n",
       "      <td>10</td>\n",
       "      <td>57</td>\n",
       "      <td>350</td>\n",
       "      <td>73</td>\n",
       "      <td>15</td>\n",
       "      <td>2018-05-25</td>\n",
       "      <td>NaT</td>\n",
       "      <td>Краснодар</td>\n",
       "      <td>ultra</td>\n",
       "      <td>1000</td>\n",
       "      <td>30</td>\n",
       "      <td>3000</td>\n",
       "      <td>1950</td>\n",
       "      <td>150</td>\n",
       "      <td>1</td>\n",
       "      <td>1</td>\n",
       "      <td>1950</td>\n",
       "    </tr>\n",
       "    <tr>\n",
       "      <th>6</th>\n",
       "      <td>1000</td>\n",
       "      <td>11</td>\n",
       "      <td>43</td>\n",
       "      <td>338</td>\n",
       "      <td>58</td>\n",
       "      <td>15</td>\n",
       "      <td>2018-05-25</td>\n",
       "      <td>NaT</td>\n",
       "      <td>Краснодар</td>\n",
       "      <td>ultra</td>\n",
       "      <td>1000</td>\n",
       "      <td>30</td>\n",
       "      <td>3000</td>\n",
       "      <td>1950</td>\n",
       "      <td>150</td>\n",
       "      <td>1</td>\n",
       "      <td>1</td>\n",
       "      <td>1950</td>\n",
       "    </tr>\n",
       "    <tr>\n",
       "      <th>7</th>\n",
       "      <td>1000</td>\n",
       "      <td>12</td>\n",
       "      <td>46</td>\n",
       "      <td>333</td>\n",
       "      <td>70</td>\n",
       "      <td>10</td>\n",
       "      <td>2018-05-25</td>\n",
       "      <td>NaT</td>\n",
       "      <td>Краснодар</td>\n",
       "      <td>ultra</td>\n",
       "      <td>1000</td>\n",
       "      <td>30</td>\n",
       "      <td>3000</td>\n",
       "      <td>1950</td>\n",
       "      <td>150</td>\n",
       "      <td>1</td>\n",
       "      <td>1</td>\n",
       "      <td>1950</td>\n",
       "    </tr>\n",
       "    <tr>\n",
       "      <th>8</th>\n",
       "      <td>1001</td>\n",
       "      <td>11</td>\n",
       "      <td>59</td>\n",
       "      <td>430</td>\n",
       "      <td>0</td>\n",
       "      <td>18</td>\n",
       "      <td>2018-11-01</td>\n",
       "      <td>NaT</td>\n",
       "      <td>Москва</td>\n",
       "      <td>smart</td>\n",
       "      <td>50</td>\n",
       "      <td>15</td>\n",
       "      <td>500</td>\n",
       "      <td>550</td>\n",
       "      <td>200</td>\n",
       "      <td>3</td>\n",
       "      <td>3</td>\n",
       "      <td>1150</td>\n",
       "    </tr>\n",
       "    <tr>\n",
       "      <th>9</th>\n",
       "      <td>1001</td>\n",
       "      <td>12</td>\n",
       "      <td>63</td>\n",
       "      <td>414</td>\n",
       "      <td>0</td>\n",
       "      <td>14</td>\n",
       "      <td>2018-11-01</td>\n",
       "      <td>NaT</td>\n",
       "      <td>Москва</td>\n",
       "      <td>smart</td>\n",
       "      <td>50</td>\n",
       "      <td>15</td>\n",
       "      <td>500</td>\n",
       "      <td>550</td>\n",
       "      <td>200</td>\n",
       "      <td>3</td>\n",
       "      <td>3</td>\n",
       "      <td>550</td>\n",
       "    </tr>\n",
       "  </tbody>\n",
       "</table>\n",
       "</div>"
      ],
      "text/plain": [
       "   user_id  month  calls  minutes  messages  gb_used   reg_date churn_date  \\\n",
       "0     1000      5     22      159        22        3 2018-05-25        NaT   \n",
       "1     1000      6     43      172        60       23 2018-05-25        NaT   \n",
       "2     1000      7     47      340        75       14 2018-05-25        NaT   \n",
       "3     1000      8     52      408        81       14 2018-05-25        NaT   \n",
       "4     1000      9     58      466        57       15 2018-05-25        NaT   \n",
       "5     1000     10     57      350        73       15 2018-05-25        NaT   \n",
       "6     1000     11     43      338        58       15 2018-05-25        NaT   \n",
       "7     1000     12     46      333        70       10 2018-05-25        NaT   \n",
       "8     1001     11     59      430         0       18 2018-11-01        NaT   \n",
       "9     1001     12     63      414         0       14 2018-11-01        NaT   \n",
       "\n",
       "        city tariff  messages_included  gb_per_month_included  \\\n",
       "0  Краснодар  ultra               1000                     30   \n",
       "1  Краснодар  ultra               1000                     30   \n",
       "2  Краснодар  ultra               1000                     30   \n",
       "3  Краснодар  ultra               1000                     30   \n",
       "4  Краснодар  ultra               1000                     30   \n",
       "5  Краснодар  ultra               1000                     30   \n",
       "6  Краснодар  ultra               1000                     30   \n",
       "7  Краснодар  ultra               1000                     30   \n",
       "8     Москва  smart                 50                     15   \n",
       "9     Москва  smart                 50                     15   \n",
       "\n",
       "   minutes_included  rub_monthly_fee  rub_per_gb  rub_per_message  \\\n",
       "0              3000             1950         150                1   \n",
       "1              3000             1950         150                1   \n",
       "2              3000             1950         150                1   \n",
       "3              3000             1950         150                1   \n",
       "4              3000             1950         150                1   \n",
       "5              3000             1950         150                1   \n",
       "6              3000             1950         150                1   \n",
       "7              3000             1950         150                1   \n",
       "8               500              550         200                3   \n",
       "9               500              550         200                3   \n",
       "\n",
       "   rub_per_minute  revenue  \n",
       "0               1     1950  \n",
       "1               1     1950  \n",
       "2               1     1950  \n",
       "3               1     1950  \n",
       "4               1     1950  \n",
       "5               1     1950  \n",
       "6               1     1950  \n",
       "7               1     1950  \n",
       "8               3     1150  \n",
       "9               3      550  "
      ]
     },
     "execution_count": 46,
     "metadata": {},
     "output_type": "execute_result"
    }
   ],
   "source": [
    "# Проверка результата\n",
    "df.head(10)"
   ]
  },
  {
   "cell_type": "markdown",
   "id": "6fe8fd5a",
   "metadata": {},
   "source": [
    "Для того, чтобы отдельно проанализировать поведение пользователей с разными тарифами создадим еще 2 датафрема: один с пользователями тарифа \"ультра\", другой - с тарифом \"смарт\". "
   ]
  },
  {
   "cell_type": "code",
   "execution_count": 47,
   "id": "2a091fd5",
   "metadata": {},
   "outputs": [],
   "source": [
    "# Распределение пользователей с разными тарифами по 2 отдельным таблицам\n",
    "df_smart = df.query('tariff == \"smart\"').reset_index(drop=True)\n",
    "df_ultra = df.query('tariff == \"ultra\"').reset_index(drop=True)"
   ]
  },
  {
   "cell_type": "code",
   "execution_count": 48,
   "id": "3aed3982",
   "metadata": {},
   "outputs": [
    {
     "data": {
      "text/plain": [
       "4914451"
      ]
     },
     "execution_count": 48,
     "metadata": {},
     "output_type": "execute_result"
    }
   ],
   "source": [
    "# check\n",
    "df['revenue'].sum()"
   ]
  },
  {
   "cell_type": "markdown",
   "id": "6ffc7694",
   "metadata": {},
   "source": [
    "## Вывод <a class=\"anchor\" id=\"con2\"></a>\n",
    "\n",
    "В ходе предобработки данных были выполнены следующие шаги:\n",
    "\n",
    "\n",
    "* Столбцы  с датой во всех таблицах были переведены в формат  `datetime`.\n",
    "\n",
    "\n",
    "* В таблице `calls`  значения в столбце `duration` были приведены к `int` с округлением в большую сторону каждого отдельного звонка. \n",
    "\n",
    "\n",
    "* В сводной таблице `internet_grouped`   значения столбца `mb_used` были переведены в гигабайты с округлением в большую сторону, затем столбец был переименован в  `gb_used`\n",
    "\n",
    "\n",
    "* Все таблицы были сгруппированы по пользователю и месяцу, а затем объединены в один общий датафрейм с информацией по всем услугам и описанием тарифов. В эту таблицу был добавлен  столбец `revenue` , который содержит информацию о помесячной выручке с каждого пользователя.\n",
    "\n",
    "* В объединенном датафрейме значения в столбцах `month`,\t`calls`,\t`minutes\tmessages`,\t`gb_used` и `gb_per_month_included` были приведены к целочисленному типу\n",
    "\n",
    "\n",
    "* Для того, чтобы в дальнейшем отдельно проанализировать поведение пользователей с разными тарифами сбыли созданы еще 2 датафрема: один с пользователями тарифа \"ультра\", другой - тарифа \"смарт\"."
   ]
  },
  {
   "cell_type": "markdown",
   "id": "c5dc32c2",
   "metadata": {},
   "source": [
    "# Анализ и описание данных <a class=\"anchor\" id=\"chapter3\"></a>"
   ]
  },
  {
   "cell_type": "markdown",
   "id": "119c6b46",
   "metadata": {},
   "source": [
    "##  Сравнительный анализ израсходованных минут  <a class=\"anchor\" id=\"chapter3.1\"></a>"
   ]
  },
  {
   "cell_type": "markdown",
   "id": "ee564a63",
   "metadata": {},
   "source": [
    "Для того, чтобы наглядно увидеть как различается поведение пользователей тарифов \"Ультра\" и \"Смарт\", построим гистограмму распределения израсходованных пользователями минут"
   ]
  },
  {
   "cell_type": "code",
   "execution_count": 49,
   "id": "1387fbd5",
   "metadata": {
    "scrolled": false
   },
   "outputs": [
    {
     "data": {
      "text/plain": [
       "Text(0.5, 1.0, 'ultra_limit - 3000      smart_limit - 500')"
      ]
     },
     "execution_count": 49,
     "metadata": {},
     "output_type": "execute_result"
    },
    {
     "data": {
      "image/png": "[encoded data removed]",
      "text/plain": [
       "<Figure size 576x432 with 1 Axes>"
      ]
     },
     "metadata": {
      "needs_background": "light"
     },
     "output_type": "display_data"
    }
   ],
   "source": [
    "# Строим гистограмму распределения израсходованных минут для разных тарифов\n",
    "# В названии указан лимит минут в месяц для каждого тарифа\n",
    "plt.figure(figsize=(8, 6)) \n",
    "sns.set(style='darkgrid', font_scale=1.5)\n",
    "sns.histplot(x='minutes', hue='tariff', data=df, kde=True, bins=30).set_title('ultra_limit - 3000      smart_limit - 500')"
   ]
  },
  {
   "cell_type": "markdown",
   "id": "e135ab25",
   "metadata": {},
   "source": [
    "Мы видим, что графики для обоих тарифов скошены вправо,  большая часть значений смещена в сторону нуля. Из-за большого количества околонулевых значений, распределение нельзя назвать нормальным. "
   ]
  },
  {
   "cell_type": "markdown",
   "id": "a9da33f1",
   "metadata": {},
   "source": [
    "Для пользователей тарифа \"Ультра\" более характерна ситуация, когда за месяц не совершено либо ни одного либо крайне мало исходящих звонков. Больее того,  категория пользователей с количеством потраченных минут, близким к 0, является самой многочисленной в срезе по тарифу \"Ультра\". Даже в абсолютных значениях таких людей в тарифе \"Смарт\" меньше, чем в тарифе \"Ультра\", хотя пользователей \"Смарта\" почти в 2.5 раза больше. \n",
    "\n",
    "Учитывая, что никто из данной выборки не добрался до лимита в 3000 минут в месяц, можно выдвинуть предположение, что, возможно, пользователи переходят на  тариф \"Ультра\" не ради телефонных звонков, а из-за других предоставляемых услуг."
   ]
  },
  {
   "cell_type": "markdown",
   "id": "c3aa8287",
   "metadata": {},
   "source": [
    "Теперь рассмотрим подробнее метрики локации данных  об израсходованных минутах\n",
    "\n",
    "Начнем с тарифа \"Ультра\""
   ]
  },
  {
   "cell_type": "code",
   "execution_count": 50,
   "id": "59351c86",
   "metadata": {},
   "outputs": [
    {
     "data": {
      "text/plain": [
       "<AxesSubplot:xlabel='minutes'>"
      ]
     },
     "execution_count": 50,
     "metadata": {},
     "output_type": "execute_result"
    },
    {
     "data": {
      "image/png": "[encoded data removed]",
      "text/plain": [
       "<Figure size 432x288 with 1 Axes>"
      ]
     },
     "metadata": {},
     "output_type": "display_data"
    }
   ],
   "source": [
    "# Строим гистограмму размаха для поиска выбросов в тарифе Ультра\n",
    "sns.boxplot(df_ultra['minutes'])"
   ]
  },
  {
   "cell_type": "code",
   "execution_count": 51,
   "id": "c5a9f0cc",
   "metadata": {},
   "outputs": [
    {
     "data": {
      "text/plain": [
       "count     985.000000\n",
       "mean      526.623350\n",
       "std       317.606098\n",
       "min         0.000000\n",
       "25%       284.000000\n",
       "50%       518.000000\n",
       "75%       752.000000\n",
       "max      1673.000000\n",
       "Name: minutes, dtype: float64"
      ]
     },
     "execution_count": 51,
     "metadata": {},
     "output_type": "execute_result"
    }
   ],
   "source": [
    "df_ultra['minutes'].describe()"
   ]
  },
  {
   "cell_type": "code",
   "execution_count": 52,
   "id": "d13d0be8",
   "metadata": {},
   "outputs": [
    {
     "data": {
      "text/plain": [
       "100873.63339730089"
      ]
     },
     "execution_count": 52,
     "metadata": {},
     "output_type": "execute_result"
    }
   ],
   "source": [
    "# Расчет дисперсии для значений столбца\n",
    "minutes_ultra_var = np.var(df_ultra['minutes'], ddof=1)\n",
    "minutes_ultra_var"
   ]
  },
  {
   "cell_type": "code",
   "execution_count": 53,
   "id": "c8e88774",
   "metadata": {},
   "outputs": [
    {
     "data": {
      "text/plain": [
       "317.60609785912624"
      ]
     },
     "execution_count": 53,
     "metadata": {},
     "output_type": "execute_result"
    }
   ],
   "source": [
    "# Расчет стандартного отклонения для значений столбца\n",
    "minutes_ultra_std = np.std(df_ultra['minutes'], ddof=1)\n",
    "minutes_ultra_std"
   ]
  },
  {
   "cell_type": "markdown",
   "id": "4978ba5a",
   "metadata": {},
   "source": [
    "Видим на графике, что потенциальных выбросов довольно мало, и они практически не влияют на разницу между средним и медианой.\n",
    "\n",
    "Если выборка правильно отражает действительность, то в среднем, пользователю тарифа \"Ультра\" нужно чуть больше 526 минут в месяц. Однако стандартное отклонение довольно велико, поэтому истинные значения могут  достаточно сильно отличаться от этого значения.  "
   ]
  },
  {
   "cell_type": "markdown",
   "id": "abaf080c",
   "metadata": {},
   "source": [
    "Переходим к тарифу \"Смарт\""
   ]
  },
  {
   "cell_type": "code",
   "execution_count": 54,
   "id": "36175a79",
   "metadata": {},
   "outputs": [
    {
     "data": {
      "text/plain": [
       "<AxesSubplot:xlabel='minutes'>"
      ]
     },
     "execution_count": 54,
     "metadata": {},
     "output_type": "execute_result"
    },
    {
     "data": {
      "image/png": "[encoded data removed]",
      "text/plain": [
       "<Figure size 432x288 with 1 Axes>"
      ]
     },
     "metadata": {},
     "output_type": "display_data"
    }
   ],
   "source": [
    "# Строим гистограмму размаха для поиска выбросов в тарифе Смарт\n",
    "sns.boxplot(df_smart['minutes'])"
   ]
  },
  {
   "cell_type": "code",
   "execution_count": 55,
   "id": "cb1d267b",
   "metadata": {},
   "outputs": [
    {
     "data": {
      "text/plain": [
       "count    2229.000000\n",
       "mean      417.934948\n",
       "std       190.313730\n",
       "min         0.000000\n",
       "25%       282.000000\n",
       "50%       422.000000\n",
       "75%       545.000000\n",
       "max      1435.000000\n",
       "Name: minutes, dtype: float64"
      ]
     },
     "execution_count": 55,
     "metadata": {},
     "output_type": "execute_result"
    }
   ],
   "source": [
    "df_smart['minutes'].describe()"
   ]
  },
  {
   "cell_type": "code",
   "execution_count": 56,
   "id": "947340fa",
   "metadata": {},
   "outputs": [
    {
     "data": {
      "text/plain": [
       "36219.315784344246"
      ]
     },
     "execution_count": 56,
     "metadata": {},
     "output_type": "execute_result"
    }
   ],
   "source": [
    "# Расчет дисперсии для значений столбца\n",
    "minutes_smart_var = np.var(df_smart['minutes'], ddof=1)\n",
    "minutes_smart_var"
   ]
  },
  {
   "cell_type": "code",
   "execution_count": 57,
   "id": "0d21edcc",
   "metadata": {},
   "outputs": [
    {
     "data": {
      "text/plain": [
       "190.3137298892128"
      ]
     },
     "execution_count": 57,
     "metadata": {},
     "output_type": "execute_result"
    }
   ],
   "source": [
    "# Расчет стандартного отклонения для значений столбца\n",
    "minutes_smart_std = np.std(df_smart['minutes'], ddof=1)\n",
    "minutes_smart_std"
   ]
  },
  {
   "cell_type": "code",
   "execution_count": 58,
   "id": "509b4059",
   "metadata": {},
   "outputs": [
    {
     "data": {
      "text/plain": [
       "0.3382682817406909"
      ]
     },
     "execution_count": 58,
     "metadata": {},
     "output_type": "execute_result"
    }
   ],
   "source": [
    "# Процент пользователей, которым не хватает включенных в тариф минут\n",
    "len(df_smart.query('minutes > 500')) / len(df_smart)"
   ]
  },
  {
   "cell_type": "markdown",
   "id": "d3d3e0d8",
   "metadata": {},
   "source": [
    "Потенциальных выбросов здесь несколько больше, чем в тарифе \"Ультра\", однако они также сильно не влияют на разницу среднего и медианы. В среднем пользователю тарифа \"Смарт\" нужно 417 минут в месяц. Около трети пользователей не укладываются в свой месячный лимит. \n",
    "   \n",
    "\n",
    "При этом нужно сделать поправку на  стандартное отклонение, которое здесь хоть и меньше, но также способно повлиять на то, что истинное  среднее  может  отличаться от выборочного. \n",
    "\n",
    "Различие между стандартными отклонениями -  190 против 317, помимо очевидной разницы в количестве доступных пользователям бесплатных минут в месяц, может также объясняться разницей в размерах выборки (985 против 2229), что также влияет на точность измерения. "
   ]
  },
  {
   "cell_type": "markdown",
   "id": "97b4deca",
   "metadata": {},
   "source": [
    "##  Сравнительный анализ количества сообщений  <a class=\"anchor\" id=\"chapter3.2\"></a>"
   ]
  },
  {
   "cell_type": "markdown",
   "id": "07836373",
   "metadata": {},
   "source": [
    "Для того, чтобы наглядно увидеть как различается поведение пользователей тарифов \"Ультра\" и \"Смарт\", построим гистограмму распределения отправленных сообщений в месяц"
   ]
  },
  {
   "cell_type": "code",
   "execution_count": 59,
   "id": "103bc38a",
   "metadata": {},
   "outputs": [
    {
     "data": {
      "text/plain": [
       "Text(0.5, 1.0, 'ultra_limit - 1000      smart_limit - 50')"
      ]
     },
     "execution_count": 59,
     "metadata": {},
     "output_type": "execute_result"
    },
    {
     "data": {
      "image/png": "[encoded data removed]",
      "text/plain": [
       "<Figure size 576x432 with 1 Axes>"
      ]
     },
     "metadata": {},
     "output_type": "display_data"
    }
   ],
   "source": [
    "# Строим гистограмму распределения отправленных сообщений для разных тарифов\n",
    "# В названии указан лимит сообщений в месяц для каждого тарифа\n",
    "plt.figure(figsize=(8, 6)) \n",
    "sns.set(style='darkgrid', font_scale=1.5)\n",
    "sns.histplot(x='messages', hue='tariff', data=df, kde=True, bins=30).set_title('ultra_limit - 1000      smart_limit - 50')"
   ]
  },
  {
   "cell_type": "markdown",
   "id": "fbfda9da",
   "metadata": {},
   "source": [
    "Вновь график в обоих случаях скошен вправо. Это говорит о том, что у большинства пользователей эта услуга пользуется не слишком большой популярностью. Распределение обоих графиков не выглядит как нормальное. \n",
    "\n",
    "Как и на графике с использованными минутами, здесь мы также видим, что с большим запасом ни один пользователь тарифа \"Ультра\"  не выбрал свой месячный лимит сообщений. Что касается тарифа \"Смарт\", то график показывает, что большинству пользователей вполне достаточно включенных в месячный пакет сообщений. \n",
    "\n",
    "\n",
    "\n"
   ]
  },
  {
   "cell_type": "markdown",
   "id": "9e36420b",
   "metadata": {},
   "source": [
    "Теперь рассмотрим подробнее соответствующие метрики локации данных.\n",
    "\n",
    "Начнем с тарифа \"Ультра\""
   ]
  },
  {
   "cell_type": "code",
   "execution_count": 60,
   "id": "2ae5e466",
   "metadata": {},
   "outputs": [
    {
     "data": {
      "text/plain": [
       "<AxesSubplot:xlabel='messages'>"
      ]
     },
     "execution_count": 60,
     "metadata": {},
     "output_type": "execute_result"
    },
    {
     "data": {
      "image/png": "[encoded data removed]",
      "text/plain": [
       "<Figure size 432x288 with 1 Axes>"
      ]
     },
     "metadata": {},
     "output_type": "display_data"
    }
   ],
   "source": [
    "# Строим гистограмму размаха для поиска выбросов в тарифе Ультра\n",
    "sns.boxplot(df_ultra['messages'])"
   ]
  },
  {
   "cell_type": "code",
   "execution_count": 61,
   "id": "8bb890ca",
   "metadata": {},
   "outputs": [
    {
     "data": {
      "text/plain": [
       "count    985.000000\n",
       "mean      49.363452\n",
       "std       47.804457\n",
       "min        0.000000\n",
       "25%        6.000000\n",
       "50%       38.000000\n",
       "75%       79.000000\n",
       "max      224.000000\n",
       "Name: messages, dtype: float64"
      ]
     },
     "execution_count": 61,
     "metadata": {},
     "output_type": "execute_result"
    }
   ],
   "source": [
    "df_ultra['messages'].describe()"
   ]
  },
  {
   "cell_type": "code",
   "execution_count": 62,
   "id": "d5c873d3",
   "metadata": {},
   "outputs": [
    {
     "data": {
      "text/plain": [
       "2285.2661425446827"
      ]
     },
     "execution_count": 62,
     "metadata": {},
     "output_type": "execute_result"
    }
   ],
   "source": [
    "# Расчет дисперсии для значений столбца\n",
    "messages_ultra_var = np.var(df_ultra['messages'], ddof=1)\n",
    "messages_ultra_var"
   ]
  },
  {
   "cell_type": "code",
   "execution_count": 63,
   "id": "1e0dc825",
   "metadata": {},
   "outputs": [
    {
     "data": {
      "text/plain": [
       "47.804457350174815"
      ]
     },
     "execution_count": 63,
     "metadata": {},
     "output_type": "execute_result"
    }
   ],
   "source": [
    "# Расчет стандартного отклонения для значений столбца\n",
    "messages_ultra_std = np.std(df_ultra['messages'], ddof=1)\n",
    "messages_ultra_std"
   ]
  },
  {
   "cell_type": "markdown",
   "id": "85a1c415",
   "metadata": {},
   "source": [
    "Видим, что большое количество околонулевых значений сместило медиану в сторону первого квартиля, и она оказалась заметно меньше среднего.  \n",
    "\n",
    "Согласно данной выборке, средний пользователь тарифа \"Ультра\" отправляет около 50 сообщений в месяц. Ровно такое количество сообщений предусмотрено тарифом \"Смарт\". Учитывая это, можно предположить, что пользователи отдают предпочтение данному тарифу отнюдь не из-за количества включенных в него сообщений. Скорее всего, любят его, все-таки, за другое.  \n",
    "\n",
    "\n",
    "Также отметим, что стандартное отклонение здесь равно 47, так что истинное среднее генеральной совокупности может быть несколько иным. "
   ]
  },
  {
   "cell_type": "markdown",
   "id": "204cbe52",
   "metadata": {},
   "source": [
    "Переходим к тарифу \"Смарт\""
   ]
  },
  {
   "cell_type": "code",
   "execution_count": 64,
   "id": "6c568bc5",
   "metadata": {},
   "outputs": [
    {
     "data": {
      "text/plain": [
       "<AxesSubplot:xlabel='messages'>"
      ]
     },
     "execution_count": 64,
     "metadata": {},
     "output_type": "execute_result"
    },
    {
     "data": {
      "image/png": "[encoded data removed]",
      "text/plain": [
       "<Figure size 432x288 with 1 Axes>"
      ]
     },
     "metadata": {},
     "output_type": "display_data"
    }
   ],
   "source": [
    "# Строим гистограмму размаха для поиска выбросов в тарифе Смарт\n",
    "sns.boxplot(df_smart['messages'])"
   ]
  },
  {
   "cell_type": "code",
   "execution_count": 65,
   "id": "1ee4b172",
   "metadata": {},
   "outputs": [
    {
     "data": {
      "text/plain": [
       "count    2229.000000\n",
       "mean       33.384029\n",
       "std        28.227876\n",
       "min         0.000000\n",
       "25%        10.000000\n",
       "50%        28.000000\n",
       "75%        51.000000\n",
       "max       143.000000\n",
       "Name: messages, dtype: float64"
      ]
     },
     "execution_count": 65,
     "metadata": {},
     "output_type": "execute_result"
    }
   ],
   "source": [
    "df_smart['messages'].describe()"
   ]
  },
  {
   "cell_type": "code",
   "execution_count": 66,
   "id": "8bc67e55",
   "metadata": {},
   "outputs": [
    {
     "data": {
      "text/plain": [
       "796.8129584480083"
      ]
     },
     "execution_count": 66,
     "metadata": {},
     "output_type": "execute_result"
    }
   ],
   "source": [
    "# Расчет дисперсии для значений столбца\n",
    "messages_smart_var = np.var(df_smart['messages'], ddof=1)\n",
    "messages_smart_var"
   ]
  },
  {
   "cell_type": "code",
   "execution_count": 67,
   "id": "751ec2b1",
   "metadata": {},
   "outputs": [
    {
     "data": {
      "text/plain": [
       "28.22787555676141"
      ]
     },
     "execution_count": 67,
     "metadata": {},
     "output_type": "execute_result"
    }
   ],
   "source": [
    "# Расчет стандартного отклонения для значений столбца\n",
    "messages_smart_std = np.std(df_smart['messages'], ddof=1)\n",
    "messages_smart_std"
   ]
  },
  {
   "cell_type": "code",
   "execution_count": 68,
   "id": "adf3dd7b",
   "metadata": {},
   "outputs": [
    {
     "data": {
      "text/plain": [
       "0.253028263795424"
      ]
     },
     "execution_count": 68,
     "metadata": {},
     "output_type": "execute_result"
    }
   ],
   "source": [
    "# Процент пользователей, которым не хватает включенных в тариф сообщений\n",
    "len(df_smart.query('messages > 50')) / len(df_smart)"
   ]
  },
  {
   "cell_type": "markdown",
   "id": "058d6af8",
   "metadata": {},
   "source": [
    "Здесь медиана также несколько смещена в сторону первого квартиля, однако, разница между ней и средним не такая большая. В среднем пользователи тарифа \"Смарт\" отправляют около 30 сообщений в месяц. При этом, только около 25% удается за месяц полностью потратить встроенный лимит сообщений - подавляющему большинству хватает стандартного пакета."
   ]
  },
  {
   "cell_type": "markdown",
   "id": "8f29c631",
   "metadata": {},
   "source": [
    "##  Сравнительный анализ интернет-трафика <a class=\"anchor\" id=\"chapter3.3\"></a>"
   ]
  },
  {
   "cell_type": "markdown",
   "id": "a96a6203",
   "metadata": {},
   "source": [
    "Теперь проанализируем какой объём интернет-трафика используется пользователями каждого тарифа в месяц"
   ]
  },
  {
   "cell_type": "code",
   "execution_count": 69,
   "id": "1ae0531b",
   "metadata": {},
   "outputs": [
    {
     "data": {
      "text/plain": [
       "Text(0.5, 1.0, 'ultra_limit - 30      smart_limit - 15')"
      ]
     },
     "execution_count": 69,
     "metadata": {},
     "output_type": "execute_result"
    },
    {
     "data": {
      "image/png": "[encoded data removed]",
      "text/plain": [
       "<Figure size 576x432 with 1 Axes>"
      ]
     },
     "metadata": {},
     "output_type": "display_data"
    }
   ],
   "source": [
    "# Гистограмма распределения использованных гигабайт  для пользователей разных тарифов\n",
    "# В названии указан лимит интернет-трафика в месяц для каждого тарифа\n",
    "plt.figure(figsize=(8, 6)) \n",
    "sns.set(style='darkgrid', font_scale=1.5)\n",
    "sns.histplot(x='gb_used', hue='tariff', data=df, kde=True, bins=30).set_title('ultra_limit - 30      smart_limit - 15')"
   ]
  },
  {
   "cell_type": "markdown",
   "id": "f8da6b57",
   "metadata": {},
   "source": [
    "Распределение обоих графиков уже больше похоже на нормальное. Графики не смещены в сторону околонулевых значений как в предыдущих случаях. Это позволяет говорить о том, что пользователи обоих тарифов активно пользуются  интернетом. \n",
    "\n",
    "\n"
   ]
  },
  {
   "cell_type": "markdown",
   "id": "1261e090",
   "metadata": {},
   "source": [
    "\n",
    "Теперь перейдем к рассмотрению метрик локации данных.\n",
    "По традиции начнем с тарифа \"Ультра\""
   ]
  },
  {
   "cell_type": "code",
   "execution_count": 70,
   "id": "384a9064",
   "metadata": {},
   "outputs": [
    {
     "data": {
      "text/plain": [
       "<AxesSubplot:xlabel='gb_used'>"
      ]
     },
     "execution_count": 70,
     "metadata": {},
     "output_type": "execute_result"
    },
    {
     "data": {
      "image/png": "[encoded data removed]",
      "text/plain": [
       "<Figure size 432x288 with 1 Axes>"
      ]
     },
     "metadata": {},
     "output_type": "display_data"
    }
   ],
   "source": [
    "# Строим гистограмму размаха для поиска выбросов в тарифе Ультра\n",
    "sns.boxplot(df_ultra['gb_used'])"
   ]
  },
  {
   "cell_type": "code",
   "execution_count": 71,
   "id": "f3839117",
   "metadata": {},
   "outputs": [
    {
     "data": {
      "text/plain": [
       "count    985.000000\n",
       "mean      19.494416\n",
       "std        9.853511\n",
       "min        0.000000\n",
       "25%       12.000000\n",
       "50%       19.000000\n",
       "75%       27.000000\n",
       "max       49.000000\n",
       "Name: gb_used, dtype: float64"
      ]
     },
     "execution_count": 71,
     "metadata": {},
     "output_type": "execute_result"
    }
   ],
   "source": [
    "df_ultra['gb_used'].describe()"
   ]
  },
  {
   "cell_type": "code",
   "execution_count": 72,
   "id": "00cb4836",
   "metadata": {},
   "outputs": [
    {
     "data": {
      "text/plain": [
       "97.09168626965472"
      ]
     },
     "execution_count": 72,
     "metadata": {},
     "output_type": "execute_result"
    }
   ],
   "source": [
    "# Расчет дисперсии для значений столбца\n",
    "internet_ultra_var = np.var(df_ultra['gb_used'], ddof=1)\n",
    "internet_ultra_var"
   ]
  },
  {
   "cell_type": "code",
   "execution_count": 73,
   "id": "713561e0",
   "metadata": {},
   "outputs": [
    {
     "data": {
      "text/plain": [
       "9.8535113675103"
      ]
     },
     "execution_count": 73,
     "metadata": {},
     "output_type": "execute_result"
    }
   ],
   "source": [
    "# Расчет стандартного отклонения для значений столбца\n",
    "internet_ultra_std = np.std(df_ultra['gb_used'], ddof=1)\n",
    "internet_ultra_std"
   ]
  },
  {
   "cell_type": "code",
   "execution_count": 74,
   "id": "bea41503",
   "metadata": {},
   "outputs": [
    {
     "data": {
      "text/plain": [
       "0.13604060913705585"
      ]
     },
     "execution_count": 74,
     "metadata": {},
     "output_type": "execute_result"
    }
   ],
   "source": [
    "# Процент пользователей, которым не хватает вклбюченного в тариф трафика\n",
    "len(df_ultra.query('gb_used > 30')) / len(df_ultra)"
   ]
  },
  {
   "cell_type": "code",
   "execution_count": 75,
   "id": "13e8ca08",
   "metadata": {},
   "outputs": [
    {
     "data": {
      "text/plain": [
       "11"
      ]
     },
     "execution_count": 75,
     "metadata": {},
     "output_type": "execute_result"
    }
   ],
   "source": [
    "len(df_ultra.query('gb_used == 0'))"
   ]
  },
  {
   "cell_type": "markdown",
   "id": "c635abab",
   "metadata": {},
   "source": [
    "В выборке присутствуют пользователи, которые не израсходовали ни единого байта интернет-трафика за месяц. С учетом того, что данные округляются в большую сторону до целых ГБ,  возможное объяснение этому - не все пользователи обладают смартфонами с доступом в интернет. \n",
    "\n",
    "Среднее и медиана практически идентичны, что подтверждает несмещенность данных выборки. Типичный пользователь этого тарифа, вероятно, расходует за месяц около 19 ГБ трафика. \n",
    "\n",
    "Примечательно, что несмотря на повышенный по сравнению с тарифом\"Смарт\" объем трафика, 13% пользователей тарифа \"Ультра\" все равно не хватает включенного в пакет интернет-трафика  (30ГБ). \n",
    "\n",
    "Таким образом, интернет-трафик - единственный вид услуг, который  не покрывает полностью потребности всех пользователей тарифа \"Ультра\" из данной выборки.  "
   ]
  },
  {
   "cell_type": "markdown",
   "id": "5fcbe366",
   "metadata": {},
   "source": [
    "Рассмотрим тариф \"Смарт\""
   ]
  },
  {
   "cell_type": "code",
   "execution_count": 76,
   "id": "277728dd",
   "metadata": {},
   "outputs": [
    {
     "data": {
      "text/plain": [
       "<AxesSubplot:xlabel='gb_used'>"
      ]
     },
     "execution_count": 76,
     "metadata": {},
     "output_type": "execute_result"
    },
    {
     "data": {
      "image/png": "[encoded data removed]",
      "text/plain": [
       "<Figure size 432x288 with 1 Axes>"
      ]
     },
     "metadata": {},
     "output_type": "display_data"
    }
   ],
   "source": [
    "# Строим гистограмму размаха для поиска выбросов в тарифе Smart\n",
    "sns.boxplot(df_smart['gb_used'])"
   ]
  },
  {
   "cell_type": "code",
   "execution_count": 77,
   "id": "05eba1c5",
   "metadata": {},
   "outputs": [
    {
     "data": {
      "text/plain": [
       "count    2229.000000\n",
       "mean       16.328847\n",
       "std         5.747061\n",
       "min         0.000000\n",
       "25%        13.000000\n",
       "50%        17.000000\n",
       "75%        20.000000\n",
       "max        38.000000\n",
       "Name: gb_used, dtype: float64"
      ]
     },
     "execution_count": 77,
     "metadata": {},
     "output_type": "execute_result"
    }
   ],
   "source": [
    "df_smart['gb_used'].describe()"
   ]
  },
  {
   "cell_type": "code",
   "execution_count": 78,
   "id": "135a3657",
   "metadata": {},
   "outputs": [
    {
     "data": {
      "text/plain": [
       "33.02870517811158"
      ]
     },
     "execution_count": 78,
     "metadata": {},
     "output_type": "execute_result"
    }
   ],
   "source": [
    "# Расчет дисперсии для значений столбца\n",
    "internet_smart_var = np.var(df_smart['gb_used'], ddof=1)\n",
    "internet_smart_var"
   ]
  },
  {
   "cell_type": "code",
   "execution_count": 79,
   "id": "9c582fcd",
   "metadata": {},
   "outputs": [
    {
     "data": {
      "text/plain": [
       "5.747060568509052"
      ]
     },
     "execution_count": 79,
     "metadata": {},
     "output_type": "execute_result"
    }
   ],
   "source": [
    "# Расчет стандартного отклонения для значений столбца\n",
    "internet_smart_std = np.std(df_smart['gb_used'], ddof=1)\n",
    "internet_smart_std"
   ]
  },
  {
   "cell_type": "code",
   "execution_count": 80,
   "id": "95e4b5b2",
   "metadata": {},
   "outputs": [
    {
     "data": {
      "text/plain": [
       "0.5850157021085689"
      ]
     },
     "execution_count": 80,
     "metadata": {},
     "output_type": "execute_result"
    }
   ],
   "source": [
    "# Процент пользователей, которым не хватает включенного в тариф трафика\n",
    "len(df_smart.query('gb_used > 15')) / len(df_smart)"
   ]
  },
  {
   "cell_type": "markdown",
   "id": "b3b1ac15",
   "metadata": {},
   "source": [
    "Среднее и медиана здесь также довольно близки друг к другу. \n",
    "\n",
    "Стандартное отклонение довольно невелико, что повышает вероятность того, что выводы, сделанные по данной выборке окажутся в итоге достоверными.  \n",
    "\n",
    "Если выборка верно отражает действительность, то судя по всему, пользователи тарифа \"Смарт\" в среднем расходуют не сильно меньше интернет-трафика, чем пользователи \"Ультра\" - 19ГБ против 17ГБ. \n",
    "\n",
    "Отдельно стоит отметить, что около 60% пользователей не хватает включенного в тариф трафика. В итоге большинству пользователей тарифа \"Смарт\" приходится докупать ГБ, что вынуждает их тратить больше денег. Таким образом, компания получает с них больший доход, нежели номинальная стоимость тарифа. \n",
    "\n"
   ]
  },
  {
   "cell_type": "markdown",
   "id": "c1d869c2",
   "metadata": {},
   "source": [
    "##  Клиенты и общая выручка <a class=\"anchor\" id=\"chapter3.3\"></a>"
   ]
  },
  {
   "cell_type": "markdown",
   "id": "b245c5a1",
   "metadata": {},
   "source": [
    "Посмотрим на то, как в целом показывают себя обра тарифа на момент анализа"
   ]
  },
  {
   "cell_type": "code",
   "execution_count": 81,
   "id": "763b48bb",
   "metadata": {},
   "outputs": [
    {
     "data": {
      "image/png": "[encoded data removed]",
      "text/plain": [
       "<Figure size 720x288 with 1 Axes>"
      ]
     },
     "metadata": {},
     "output_type": "display_data"
    }
   ],
   "source": [
    "# Динамика подкючения новых клиентов\n",
    "(df\n",
    " .pivot_table(index='tariff', columns='month', values='user_id', aggfunc='count')\n",
    " .T\n",
    " .plot(kind='line', figsize=(10,4),  style = 'o-')\n",
    ")\n",
    "plt.title('Рост кол-ва клиентов по 2-м тарифам за год'+ \"\\n\")\n",
    "plt.xlabel('Месяц')\n",
    "plt.ylabel('кол-во');"
   ]
  },
  {
   "cell_type": "markdown",
   "id": "e5354f2a",
   "metadata": {},
   "source": [
    "Видим, что приток новых клиентов в тариф Смарт растет значительно быстрее, чем в тариф Ультра"
   ]
  },
  {
   "cell_type": "code",
   "execution_count": 82,
   "id": "636634c4",
   "metadata": {},
   "outputs": [
    {
     "data": {
      "image/png": "[encoded data removed]",
      "text/plain": [
       "<Figure size 720x288 with 1 Axes>"
      ]
     },
     "metadata": {},
     "output_type": "display_data"
    }
   ],
   "source": [
    "# Теперь посмотрим на общий доход, который мы получаем с этих тарифов\n",
    "(df\n",
    " .pivot_table(index='tariff', columns='month', values='revenue', aggfunc='mean')\n",
    " .T\n",
    " .plot(kind='line', figsize=(10,4),  style = 'o-')\n",
    ")\n",
    "plt.title('Средняя ежемесячная выручка от одного абонента'+ \"\\n\")\n",
    "plt.xlabel('Месяц')\n",
    "plt.ylabel('Рубли');"
   ]
  },
  {
   "cell_type": "markdown",
   "id": "268a1201",
   "metadata": {},
   "source": [
    "Для компании преимущество тарифа Ультра заключается не только в большей прибыли, но и в стабильности - мы точно можем расчитывать на стабильный равномерный доход в течение всего года. Отдельно стоит отметить, что средняя выручка с пользователя  тарифа Смарт постепенно приближается к уровню Ультры. "
   ]
  },
  {
   "cell_type": "code",
   "execution_count": 83,
   "id": "960f6ff8",
   "metadata": {},
   "outputs": [
    {
     "data": {
      "image/png": "[encoded data removed]",
      "text/plain": [
       "<Figure size 720x288 with 1 Axes>"
      ]
     },
     "metadata": {},
     "output_type": "display_data"
    }
   ],
   "source": [
    "# Суммарная ежемесячная выручка по 2-м тарифам\n",
    "(df\n",
    " .pivot_table(index='tariff', columns='month', values='revenue', aggfunc='sum')\n",
    " .T\n",
    " .plot(kind='line', figsize=(10,4),  style = 'o-')\n",
    ")\n",
    "plt.title('Суммарная ежемесячная выручка по 2-м тарифам'+ \"\\n\")\n",
    "plt.xlabel('Месяц')\n",
    "plt.ylabel('Рубли');"
   ]
  },
  {
   "cell_type": "markdown",
   "id": "014d0a50",
   "metadata": {},
   "source": [
    "Тем не менее, в абсолютных значениях, разрыв в выручке между тарифами постепенно увеличивается. Оба тарифа показывают рост, однако темпы Ультры несколько слабее"
   ]
  },
  {
   "cell_type": "markdown",
   "id": "6ba1db5f",
   "metadata": {},
   "source": [
    "Несмотря на очевидную выгоду для компании тарифа Смарт, постоянно возрастающие затраты клиентов могут привести и к негативным последствиям - к увеличению их оттока"
   ]
  },
  {
   "cell_type": "code",
   "execution_count": 106,
   "id": "4eed01ef",
   "metadata": {},
   "outputs": [
    {
     "name": "stdout",
     "output_type": "stream",
     "text": [
      "Кол-во клентов покинувших компанию за год 38\n",
      "Кол-во клентов покинувших компанию за посл. 4 мес. 2018 г. на двух тарифах 35\n",
      "%  от общего кол-ва всех клиентов, покинувших компанию за посл. 4 мес. 2018 г. на двух тарифах 92.1\n",
      "Распределение оттока клиентов на тарифах за посл. 4 мес. 2018 г.\n"
     ]
    },
    {
     "data": {
      "text/html": [
       "<div>\n",
       "<style scoped>\n",
       "    .dataframe tbody tr th:only-of-type {\n",
       "        vertical-align: middle;\n",
       "    }\n",
       "\n",
       "    .dataframe tbody tr th {\n",
       "        vertical-align: top;\n",
       "    }\n",
       "\n",
       "    .dataframe thead th {\n",
       "        text-align: right;\n",
       "    }\n",
       "</style>\n",
       "<table border=\"1\" class=\"dataframe\">\n",
       "  <thead>\n",
       "    <tr style=\"text-align: right;\">\n",
       "      <th></th>\n",
       "      <th>churn_date</th>\n",
       "      <th>ratio</th>\n",
       "    </tr>\n",
       "    <tr>\n",
       "      <th>tariff</th>\n",
       "      <th></th>\n",
       "      <th></th>\n",
       "    </tr>\n",
       "  </thead>\n",
       "  <tbody>\n",
       "    <tr>\n",
       "      <th>smart</th>\n",
       "      <td>22</td>\n",
       "      <td>0.062857</td>\n",
       "    </tr>\n",
       "    <tr>\n",
       "      <th>ultra</th>\n",
       "      <td>13</td>\n",
       "      <td>0.087838</td>\n",
       "    </tr>\n",
       "  </tbody>\n",
       "</table>\n",
       "</div>"
      ],
      "text/plain": [
       "        churn_date     ratio\n",
       "tariff                      \n",
       "smart           22  0.062857\n",
       "ultra           13  0.087838"
      ]
     },
     "execution_count": 106,
     "metadata": {},
     "output_type": "execute_result"
    }
   ],
   "source": [
    "# Смотрим на текущую ситуация с оттоком клиентов - берем данные за последние 4 месяца 2018 г.\n",
    "df_users = pd.read_csv('users.csv')\n",
    "\n",
    "print ('Кол-во клентов покинувших компанию за год', df_users.churn_date.notna().sum())\n",
    "\n",
    "print ('Кол-во клентов покинувших компанию за посл. 4 мес. 2018 г. на двух тарифах',\n",
    "       df_users.query('churn_date > \"2018-09-25\"').churn_date.notna().sum()\n",
    "      )\n",
    "print ('%  от общего кол-ва всех клиентов, покинувших компанию за посл. 4 мес. 2018 г. на двух тарифах',\n",
    "    (df_users.query('churn_date > \"2018-09-25\"').churn_date.notna().sum()/df_users.churn_date.notna().sum()*100).round(1)\n",
    ")\n",
    "\n",
    "print ('Распределение оттока клиентов на тарифах за посл. 4 мес. 2018 г.')\n",
    "churn_risk =  df_users.query('churn_date > \"2018-09-25\"').groupby('tariff')['churn_date'].count().to_frame()\n",
    "churn_risk['ratio'] = churn_risk.iloc[0, 0] / df.query('tariff == \"smart\"')['user_id'].nunique()\n",
    "churn_risk.iloc[1, 1] = churn_risk.iloc[1, 0] / df.query('tariff == \"ultra\"')['user_id'].nunique()\n",
    "churn_risk"
   ]
  },
  {
   "cell_type": "markdown",
   "id": "8d62d329",
   "metadata": {},
   "source": [
    "Как видим, чуть более активно от нас утекают пользователи  Смарта, но это не удивительно - их ведь больше. В относительных показателях более высокий пройент оттока наблюдается у тарифа Ультра - 9% против 6%. "
   ]
  },
  {
   "cell_type": "markdown",
   "id": "980db6b3",
   "metadata": {},
   "source": [
    "## Вывод <a class=\"anchor\" id=\"con3\"></a>\n",
    "\n",
    "Поведение пользователей разных тарифов несколько отличается в зависимости от вида услуг, предоставляемых в рамках тарифов. \n",
    "\n",
    "**Звонки**\n",
    "\n",
    "* Для пользователей тарифа \"Ультра\" более характерна ситуация, когда за месяц не совершено либо ни одного либо крайне мало исходящих звонков. Больее того, категория пользователей с количеством потраченных минут, близким к 0, является самой многочисленной в срезе по тарифу \"Ультра\". Даже в абсолютных значениях таких людей в тарифе \"Смарт\" меньше, чем в тарифе \"Ультра\", хотя пользователей \"Смарта\" почти в 2.5 раза больше. Учитывая, что **никто из тарифа \"Ультра\" не добрался до лимита в 3000 минут** в месяц, можно выдвинуть предположение, что, возможно, пользователи переходят на тариф \"Ультра\" не ради телефонных звонков, а из-за других предоставляемых услуг.\n",
    "\n",
    "\n",
    "* Если выборка правильно отражает действительность, то в среднем, пользователю тарифа **\"Ультра\"** нужно чуть больше **526 минут** в месяц. \n",
    "\n",
    "\n",
    "* В среднем пользователю тарифа **\"Смарт\"** нужно **417 минут** в месяц. Около трети пользователей не укладываются в свой месячный лимит.\n",
    "\n",
    "\n",
    "\n",
    "**Сообщения**\n",
    "\n",
    "* С большим запасом **ни один пользователь тарифа \"Ультра\" не выбрал свой месячный лимит сообщений**. Что касается тарифа \"Смарт\", то график показывает, что большинству пользователей вполне достаточно включенных в месячный пакет сообщений.\n",
    "\n",
    "\n",
    "\n",
    "* Согласно  выборке, средний пользователь тарифа **\"Ультра\"** отправляет около **50 сообщений** в месяц. \n",
    "\n",
    "\n",
    "* В среднем пользователи тарифа **\"Смарт\"** отправляют около **30 сообщений** в месяц. При этом, **только около 25% удается за месяц полностью потратить встроенный лимит сообщений** - подавляющему большинству хватает стандартного пакета.\n",
    "\n",
    "**Интернет**\n",
    "\n",
    "* Графики не смещены в сторону околонулевых значений как в предыдущих случаях. Это позволяет говорить о том, что пользователи обоих тарифов активно пользуются интернетом.\n",
    "\n",
    "\n",
    "* Типичный пользователь тарифа **\"Ультра\"**, вероятно, расходует за месяц около **19 ГБ трафика**. Примечательно, что несмотря на повышенный по сравнению с тарифом\"Смарт\" объем трафика, **13% пользователей тарифа \"Ультра\" все равно не хватает включенного в пакет интернет-трафика** (30ГБ).\n",
    "\n",
    "\n",
    "* Если выборка верно отражает действительность, то судя по всему, пользователи тарифа **\"Смарт\"** в среднем расходуют не сильно меньше интернет-трафика, чем пользователи \"Ультра\" - **17ГБ**. Отдельно стоит отметить, что около **60% пользователей не хватает включенного в тариф трафика**. \n"
   ]
  },
  {
   "cell_type": "markdown",
   "id": "8adcc127",
   "metadata": {},
   "source": [
    "#  Проверка гипотез <a class=\"anchor\" id=\"chapter4\"></a>"
   ]
  },
  {
   "cell_type": "markdown",
   "id": "678bcd1a",
   "metadata": {},
   "source": [
    "## Гипотеза №1: средняя выручка пользователей тарифов «Ультра» и «Смарт» различается <a class=\"anchor\" id=\"chapter4.1\"></a>"
   ]
  },
  {
   "cell_type": "markdown",
   "id": "107f52aa",
   "metadata": {},
   "source": [
    "Для того, чтобы принять решение, какой именно способ проверки гипотезы стоит выбрать, подробнее рассмотреть  обе выборки.\n",
    "\n",
    "Для начала, построим гистограмму распределения  выручки  пользователей разных тарифов. "
   ]
  },
  {
   "cell_type": "code",
   "execution_count": 85,
   "id": "566ff5b4",
   "metadata": {
    "scrolled": false
   },
   "outputs": [
    {
     "data": {
      "text/plain": [
       "<AxesSubplot:xlabel='revenue', ylabel='Count'>"
      ]
     },
     "execution_count": 85,
     "metadata": {},
     "output_type": "execute_result"
    },
    {
     "data": {
      "image/png": "[encoded data removed]",
      "text/plain": [
       "<Figure size 576x432 with 1 Axes>"
      ]
     },
     "metadata": {},
     "output_type": "display_data"
    }
   ],
   "source": [
    "# Гистограмма распределения выручки пользователей разных тарифов\n",
    "plt.figure(figsize=(8, 6)) \n",
    "plt.xlim(500, 5000)\n",
    "sns.set(style='darkgrid', font_scale=1.5)\n",
    "sns.histplot(x='revenue', hue='tariff', data=df, kde=True, bins=50)"
   ]
  },
  {
   "cell_type": "markdown",
   "id": "786fbdb2",
   "metadata": {},
   "source": [
    "Также посмотрим на основные характеристики данных - среднее, медиану, стандартное отклонение и дисперсию. "
   ]
  },
  {
   "cell_type": "code",
   "execution_count": 86,
   "id": "0c8f1917",
   "metadata": {},
   "outputs": [
    {
     "data": {
      "text/plain": [
       "count     985.000000\n",
       "mean     2070.152284\n",
       "std       376.187114\n",
       "min      1950.000000\n",
       "25%      1950.000000\n",
       "50%      1950.000000\n",
       "75%      1950.000000\n",
       "max      4800.000000\n",
       "Name: revenue, dtype: float64"
      ]
     },
     "execution_count": 86,
     "metadata": {},
     "output_type": "execute_result"
    }
   ],
   "source": [
    "df_ultra['revenue'].describe()"
   ]
  },
  {
   "cell_type": "markdown",
   "id": "25eb85f6",
   "metadata": {},
   "source": [
    "* Стандартное отклонение для тарифа Ультра - **376**\n",
    "\n",
    "* Среднее значение выручки для тарифа Ультра - **2070**"
   ]
  },
  {
   "cell_type": "code",
   "execution_count": 87,
   "id": "8b88dc8d",
   "metadata": {},
   "outputs": [
    {
     "data": {
      "text/plain": [
       "count    2229.000000\n",
       "mean     1289.973531\n",
       "std       818.404367\n",
       "min       550.000000\n",
       "25%       550.000000\n",
       "50%      1023.000000\n",
       "75%      1750.000000\n",
       "max      6770.000000\n",
       "Name: revenue, dtype: float64"
      ]
     },
     "execution_count": 87,
     "metadata": {},
     "output_type": "execute_result"
    }
   ],
   "source": [
    "df_smart['revenue'].describe()"
   ]
  },
  {
   "cell_type": "markdown",
   "id": "1c3eecf8",
   "metadata": {},
   "source": [
    "* Стандартное отклонение для тарифа Смарт - **818**\n",
    "\n",
    "* Среднее значение выручки для тарифа Смарт - **1289**"
   ]
  },
  {
   "cell_type": "code",
   "execution_count": 88,
   "id": "bff41225",
   "metadata": {},
   "outputs": [
    {
     "data": {
      "text/plain": [
       "141516.74507861698"
      ]
     },
     "execution_count": 88,
     "metadata": {},
     "output_type": "execute_result"
    }
   ],
   "source": [
    "# Дисперсия выручки для тарифа Ультра\n",
    "np.var(df_ultra['revenue'], ddof=1)"
   ]
  },
  {
   "cell_type": "code",
   "execution_count": 89,
   "id": "e7d078d4",
   "metadata": {},
   "outputs": [
    {
     "data": {
      "text/plain": [
       "669785.7080064153"
      ]
     },
     "execution_count": 89,
     "metadata": {},
     "output_type": "execute_result"
    }
   ],
   "source": [
    "# Дисперсия выручки для тарифа Смарт\n",
    "np.var(df_smart['revenue'], ddof=1)"
   ]
  },
  {
   "cell_type": "markdown",
   "id": "d430a45a",
   "metadata": {},
   "source": [
    "* Видим на графике, что распределение не похоже на нормальное. \n",
    "\n",
    "\n",
    "* Метод `describe()` детализирует картину, которую мы наблюдаем на графике. \n",
    "3/4 пользователей тарифа Ультра достаточно включенных в тариф пакетов услуг. Только около четверти прибегают к дополнительным тратам. \n",
    "\n",
    "\n",
    "* Для тарифа Смарт ситуация иная. Лишь около 25% пользователей укладываются в месячные лимиты предоставлемых услуг. Абсолютному большинству - приходится  доплачивать. \n",
    "\n",
    "\n",
    "* Тем не менее даже с учетом дополнительных трат, данные выборки свидетельствуют о том, что пользователи тарифа Ультра приносят компании больший доход, чем люди с тарифом Смарт. Однако стоит сделать поправку на стандартное отклонение, которое в обоих случаях двольно велико - 376 для тарифа Ультра и 818 для тарифа Смарт.\n",
    "\n"
   ]
  },
  {
   "cell_type": "markdown",
   "id": "f1d6b2eb",
   "metadata": {},
   "source": [
    "Чтобы убедиться, что полученные данные не противоречат гипотезе о различии средней выручки пользователей  тарифов «Ультра» и «Смарт», проведем проверку при помощи t-теста. Так как выборки независимы (пользователи тарифов Смарт и Ультра - это разные люди) проверка будет осуществляться при помощи метода `st.ttest_ind`\n",
    "\n",
    " То, что значения на графике не распределены нормально не препятсвие для использования t-теста, так как благодаря ЦПТ, если размер выборки составляет хотя бы несколько десятков значений, выборочные средние, которые можно получить из одной и той же генеральной совокупности, будут распределены нормально вокруг истинного среднего этой совокупности. \n",
    "\n",
    "\n"
   ]
  },
  {
   "cell_type": "markdown",
   "id": "d86f3cea",
   "metadata": {},
   "source": [
    "Итак, в нашем случае нулевая гипотеза будет о равенстве средних выручек, а  альтернативная о том, что  они отличаются. \n",
    "\n",
    "$\\begin{equation*}\n",
    " \\begin{cases}\n",
    "   H_0 :\\text{средняя выручка пользователей тарифов «Ультра» и «Смарт» одинакова }\\\\\n",
    "   H_1 :\\text{средняя выручка пользователей тарифов «Ультра» и «Смарт» различается }\n",
    " \\end{cases}\n",
    "\\end{equation*}$"
   ]
  },
  {
   "cell_type": "markdown",
   "id": "e1122d72",
   "metadata": {},
   "source": [
    "Установим уровень значимости в 5%"
   ]
  },
  {
   "cell_type": "code",
   "execution_count": 90,
   "id": "9ab05f4e",
   "metadata": {},
   "outputs": [],
   "source": [
    "alpha = 0.05"
   ]
  },
  {
   "cell_type": "markdown",
   "id": "03b0de6e",
   "metadata": {},
   "source": [
    "Учитывая, что рамер выборок неодинаков и то, что  выборочные дисперсии  значимо отличаются друг от друга  (есть основания полагать, что и для ген. совокупности дисперсии таже разные), установим параметр `equal_var=False`"
   ]
  },
  {
   "cell_type": "code",
   "execution_count": 91,
   "id": "f0dbb648",
   "metadata": {
    "scrolled": true
   },
   "outputs": [
    {
     "name": "stdout",
     "output_type": "stream",
     "text": [
      "p-значение:  4.2606313931076085e-250\n",
      "Отвергаем нулевую гипотезу\n"
     ]
    }
   ],
   "source": [
    "# Проверка двусторонней гипотезы о равенстве среднего независимых выборок\n",
    "results_1 = st.ttest_ind(df_smart['revenue'], df_ultra['revenue'], equal_var=False)\n",
    "print('p-значение: ', results_1.pvalue)\n",
    "\n",
    "if (results_1.pvalue < alpha):\n",
    "    print(\"Отвергаем нулевую гипотезу\")\n",
    "else:\n",
    "    print(\"Не получилось отвергнуть нулевую гипотезу\")"
   ]
  },
  {
   "cell_type": "markdown",
   "id": "9f41ecaa",
   "metadata": {},
   "source": [
    "Результаты теста не противоречат гипотезе о том, что выручка с разных тарифов отличается. Теперь проверим гипотезу о том, что пользователи тарифа \"Ультра\" в среднем приносят компании больше денег, чем пользователи \"Смарта\""
   ]
  },
  {
   "cell_type": "code",
   "execution_count": 92,
   "id": "9645dd9e",
   "metadata": {},
   "outputs": [
    {
     "name": "stdout",
     "output_type": "stream",
     "text": [
      "p-значение:  2.1303156965538042e-250\n",
      "Отвергаем нулевую гипотезу\n"
     ]
    }
   ],
   "source": [
    "# Проверка односторонней гипотезы: средняя выручка  с тарифа Ультра больше чем с тарифа Смарт\n",
    "results_1 = st.ttest_ind(df_ultra['revenue'], df_smart['revenue'], equal_var=False, alternative='greater')\n",
    "print('p-значение: ', results_1.pvalue)\n",
    "\n",
    "if (results_1.pvalue < alpha):\n",
    "    print(\"Отвергаем нулевую гипотезу\")\n",
    "else:\n",
    "    print(\"Не получилось отвергнуть нулевую гипотезу\")"
   ]
  },
  {
   "cell_type": "markdown",
   "id": "ad1a8e34",
   "metadata": {},
   "source": [
    "\n",
    "Таким образом, полученные данные не противоречат гипотезе о том, что средняя выручка пользователей тарифов «Ультра» и «Смарт» различается. Также нет оснований отвергать гипотезу о том, что средняя выручка  с тарифа Ультра больше чем с тарифа Смарт."
   ]
  },
  {
   "cell_type": "markdown",
   "id": "0994d4cf",
   "metadata": {},
   "source": [
    "##  Гипотеза №2: Средняя выручка пользователей из Москвы отличается от выручки пользователей из других регионов <a class=\"anchor\" id=\"chapter4.2\"></a>"
   ]
  },
  {
   "cell_type": "markdown",
   "id": "f1208e58",
   "metadata": {},
   "source": [
    "Для начала разобъем пользователей на 2 необходимые нам группы. Для этого добавим в общий датафрейм новый столбец с булевым значением - является ли конкретный пользователь жителем Москвы. "
   ]
  },
  {
   "cell_type": "code",
   "execution_count": 93,
   "id": "c7748858",
   "metadata": {},
   "outputs": [],
   "source": [
    "# Добавление столбца с булевыми значениями\n",
    "df['is_moscow'] = df['city'] == \"Москва\""
   ]
  },
  {
   "cell_type": "markdown",
   "id": "031ccf4a",
   "metadata": {},
   "source": [
    "Для начала, попробуем оценить возможную разницу визуально, для этого посторим гистограмму"
   ]
  },
  {
   "cell_type": "code",
   "execution_count": 94,
   "id": "c45ee4d7",
   "metadata": {},
   "outputs": [
    {
     "data": {
      "text/plain": [
       "<AxesSubplot:xlabel='revenue', ylabel='Count'>"
      ]
     },
     "execution_count": 94,
     "metadata": {},
     "output_type": "execute_result"
    },
    {
     "data": {
      "image/png": "[encoded data removed]",
      "text/plain": [
       "<Figure size 576x432 with 1 Axes>"
      ]
     },
     "metadata": {},
     "output_type": "display_data"
    }
   ],
   "source": [
    "# Гистограмма распределения выручки  для пользователей из Москвы и остальной России\n",
    "plt.figure(figsize=(8, 6)) \n",
    "plt.xlim(500, 4500)\n",
    "sns.set(style='darkgrid', font_scale=1.5)\n",
    "sns.histplot(x='revenue', data=df, hue='is_moscow', kde=True, bins=50)"
   ]
  },
  {
   "cell_type": "markdown",
   "id": "ce006a4d",
   "metadata": {},
   "source": [
    "В целом, графики выглядят довольно схоже. Теперь взглянем на основные метрики локации данных - среднее, медиану, стандартное отклонение и дисперсию."
   ]
  },
  {
   "cell_type": "code",
   "execution_count": 95,
   "id": "b516d8d2",
   "metadata": {},
   "outputs": [
    {
     "data": {
      "text/plain": [
       "count     611.000000\n",
       "mean     1546.713584\n",
       "std       752.088071\n",
       "min       550.000000\n",
       "25%       780.500000\n",
       "50%      1750.000000\n",
       "75%      1950.000000\n",
       "max      5321.000000\n",
       "Name: revenue, dtype: float64"
      ]
     },
     "execution_count": 95,
     "metadata": {},
     "output_type": "execute_result"
    }
   ],
   "source": [
    "# Выручка пользователей из Москвы\n",
    "df.query('is_moscow ==True')['revenue'].describe()"
   ]
  },
  {
   "cell_type": "code",
   "execution_count": 96,
   "id": "a319077c",
   "metadata": {},
   "outputs": [
    {
     "data": {
      "text/plain": [
       "565636.4670118855"
      ]
     },
     "execution_count": 96,
     "metadata": {},
     "output_type": "execute_result"
    }
   ],
   "source": [
    "# Дисперсия для пользователей из Москвы\n",
    "np.var(df.query('is_moscow ==True')['revenue'], ddof=1)"
   ]
  },
  {
   "cell_type": "markdown",
   "id": "c29d39d2",
   "metadata": {},
   "source": [
    "* Стандартное отклонение для пользователей из Москвы - **752**\n",
    "\n",
    "* Среднее значение выручки для пользователей из Москвы  - **1546**"
   ]
  },
  {
   "cell_type": "code",
   "execution_count": 97,
   "id": "6ddd8ace",
   "metadata": {},
   "outputs": [
    {
     "data": {
      "text/plain": [
       "count    2603.000000\n",
       "mean     1524.936227\n",
       "std       808.787752\n",
       "min       550.000000\n",
       "25%       750.000000\n",
       "50%      1583.000000\n",
       "75%      1950.000000\n",
       "max      6770.000000\n",
       "Name: revenue, dtype: float64"
      ]
     },
     "execution_count": 97,
     "metadata": {},
     "output_type": "execute_result"
    }
   ],
   "source": [
    "# Выручка пользователей из остальной России\n",
    "df.query('is_moscow == False')['revenue'].describe()"
   ]
  },
  {
   "cell_type": "code",
   "execution_count": 98,
   "id": "414dc0ff",
   "metadata": {},
   "outputs": [
    {
     "data": {
      "text/plain": [
       "654137.6285218048"
      ]
     },
     "execution_count": 98,
     "metadata": {},
     "output_type": "execute_result"
    }
   ],
   "source": [
    "# Дисперсия для пользователей не из Москвы\n",
    "np.var(df.query('is_moscow == False')['revenue'], ddof=1)"
   ]
  },
  {
   "cell_type": "markdown",
   "id": "76b7f1e7",
   "metadata": {},
   "source": [
    "* Стандартное отклонение для пользователей не из Москвы - **808**\n",
    "\n",
    "* Среднее значение выручки для пользователей не из Москвы  - **1524**"
   ]
  },
  {
   "cell_type": "markdown",
   "id": "6ae01694",
   "metadata": {},
   "source": [
    "Большое значение дисперсии и стандартного отклонения объяснимо - в выборках пользователи сразу двух тарифов: более дорогого \"Ультра\" и более дешевого \"Смарт\". Выборочные средние этих двух групп пользователей различаются не так сильно. Необходима  проверка гипотезы о том различается ли средняя выручка пользователей из Москвы и других регионов. "
   ]
  },
  {
   "cell_type": "markdown",
   "id": "1f3297b6",
   "metadata": {},
   "source": [
    "Так как выборки независимы, проверка будет осуществляться при помощи метода `st.ttest_ind`. Мы видим, что их выборочная дисперсия отличается не сильно (есть основания полагать, что схожая ситуация и с дисперсией для ген. совокупности).  Поэтому оставим параметр `equal_var` без изменений"
   ]
  },
  {
   "cell_type": "markdown",
   "id": "b44c3d53",
   "metadata": {},
   "source": [
    "В нашем тесте нулевая гипотеза будет о равенстве средних выручек, а  альтернативная о том, что  они отличаются. \n",
    "\n",
    "$\\begin{equation*}\n",
    " \\begin{cases}\n",
    "   H_0 :\\text{средняя выручка пользователей из Москвы и не из Москвы одинакова }\\\\\n",
    "   H_1 :\\text{средняя выручка пользователей из Москвы и не из Москвы различается }\n",
    " \\end{cases}\n",
    "\\end{equation*}$"
   ]
  },
  {
   "cell_type": "markdown",
   "id": "abd46178",
   "metadata": {},
   "source": [
    "Установим уровень значимости в 5%"
   ]
  },
  {
   "cell_type": "code",
   "execution_count": 99,
   "id": "2f686999",
   "metadata": {},
   "outputs": [],
   "source": [
    "alpha = 0.05"
   ]
  },
  {
   "cell_type": "code",
   "execution_count": 100,
   "id": "263a2dc9",
   "metadata": {},
   "outputs": [
    {
     "name": "stdout",
     "output_type": "stream",
     "text": [
      "p-значение:  0.5440152911670224\n",
      "Не получилось отвергнуть нулевую гипотезу\n"
     ]
    }
   ],
   "source": [
    "# Проверка двусторонней гипотезы о равенстве среднего независимых выборок\n",
    "results_2 = st.ttest_ind(df.query('is_moscow == True')['revenue'], df.query('is_moscow == False')['revenue'])\n",
    "print('p-значение: ', results_2.pvalue)\n",
    "\n",
    "if (results_2.pvalue < alpha):\n",
    "    print(\"Отвергаем нулевую гипотезу\")\n",
    "else:\n",
    "    print(\"Не получилось отвергнуть нулевую гипотезу\")"
   ]
  },
  {
   "cell_type": "markdown",
   "id": "39811ab8",
   "metadata": {},
   "source": [
    "Таким образом,по результатам теста не получилось отвергнуть гипотезу о том, что выручка пользователей из Москвы не отличается от выручки пользователей из других регионов."
   ]
  },
  {
   "cell_type": "markdown",
   "id": "a6d6ef7f",
   "metadata": {},
   "source": [
    "## Вывод <a class=\"anchor\" id=\"con4\"></a>\n",
    "\n",
    "По итогам этого шага было установлено следующее.\n",
    "\n",
    "* Среднее значение выручки для тарифа Ультра - **2070**\n",
    "* Среднее значение выручки для тарифа Смарт - **1289**\n",
    "\n",
    "\n",
    "* Перед проверкой  было обнаружено, что 3/4 пользователей тарифа Ультра достаточно включенных в тариф пакетов услуг. Только около четверти прибегают к дополнительным тратам. При этом на тарифе Смарт лишь около 25% пользователей укладываются в месячные лимиты предоставлемых услуг. Абсолютному большинству - приходится доплачивать.\n",
    "\n",
    "\n",
    "* Тем не менее даже с учетом дополнительных трат, данные выборки свидетельствуют о том, что пользователи тарифа Ультра приносят компании больший доход, чем люди с тарифом Смарт.\n",
    "\n",
    "\n",
    "* Чтобы убедиться, что полученные данные не противоречат предыдущему утверждению, была проведена  проверка гипотезы о различии средней выручки пользователей тарифов «Ультра» и «Смарт» при помощи t-теста. Так как выборки независимы (пользователи тарифов Смарт и Ультра - это разные люди) для проверки был выбран метод `st.ttest_ind`.\n",
    "\n",
    "\n",
    "* Результаты теста не противоречат гипотезе о том, что выручка с разных тарифов отличается. \n",
    "\n",
    "\n",
    "* Также была  проверена гипотеза о том, что пользователи тарифа \"Ультра\" в среднем приносят компании больше денег, \n",
    "чем пользователи \"Смарта\". По результатам второй проверки нет оснований отвергать гипотезу о том, что средняя выручка с тарифа Ультра больше чем с тарифа Смарт.\n",
    "\n",
    "\n",
    "* Среднее значение выручки для пользователей из Москвы  - **1546**\n",
    "* Среднее значение выручки для пользователей не из Москвы  - **1524**\n",
    "\n",
    "\n",
    "* Также была проверена гипотеза о том различается ли средняя выручка пользователей из Москвы и других регионов.\n",
    "По результатам теста не получилось отвергнуть гипотезу о том, что выручка пользователей из Москвы не отличается от выручки пользователей из других регионов."
   ]
  },
  {
   "cell_type": "markdown",
   "id": "f1b40780",
   "metadata": {},
   "source": [
    "# Итоги исследования <a class=\"anchor\" id=\"chapter5\"></a>"
   ]
  },
  {
   "cell_type": "markdown",
   "id": "59263972",
   "metadata": {},
   "source": [
    "Работа над данным исследованием включала в себя последовательное выполнение следующих задач.\n",
    "\n",
    "На **первом этапе** в ходе предварительного обзора в таблице были выявлены пропущенные значения и несоответствия типов данных в некоторых столбцах.\n",
    "\n",
    "На **втором этапе** была осуществлена предобработка исходных таблиц, в результате которой были осуществлены следующие действия:\n",
    "\n",
    "* Столбцы с данными во всех таблицах были приведены к необходимому формату.\n",
    "\n",
    "\n",
    "* В таблице `calls`, а также сводной таблице `internet_grouped` значения в столбцах были приведены к `int` с округлением в большую сторону, согласно правилам тарифов по расчету соответствующих услуг. \n",
    "\n",
    "\n",
    "* Все таблицы были сгруппированы по пользователю и месяцу, а затем объединены в один общий датафрейм с информацией по всем услугам и описанием тарифов. В эту таблицу был добавлен  столбец `revenue` , который содержит информацию о помесячной выручке с каждого пользователя.\n",
    "\n",
    "\n",
    "* Для того, чтобы в дальнейшем отдельно проанализировать поведение пользователей с разными тарифами сбыли созданы еще 2 датафрема: один с пользователями тарифа \"ультра\", другой - тарифа \"смарт\".\n",
    "\n",
    "\n",
    "В ходе **третьего этапа** был проведен анализ данных, который показал следующее:\n",
    "\n",
    "Поведение пользователей разных тарифов несколько отличается в зависимости от вида услуг, предоставляемых в рамках тарифов. \n",
    "\n",
    "##### Звонки\n",
    "\n",
    "*  **Никто из тарифа \"Ультра\" не добрался до лимита в 3000 минут** в месяц, учитывая это можно выдвинуть предположение, что, возможно, пользователи переходят на тариф \"Ультра\" не ради телефонных звонков, а из-за других предоставляемых услуг.\n",
    "\n",
    "\n",
    "* Если выборка правильно отражает действительность, то в среднем, пользователю тарифа **\"Ультра\"** нужно чуть больше **526 минут** в месяц. \n",
    "\n",
    "\n",
    "* В среднем пользователю тарифа **\"Смарт\"** нужно **417 минут** в месяц. Около трети пользователей не укладываются в свой месячный лимит.\n",
    "\n",
    "\n",
    "##### Сообщения\n",
    "\n",
    "* С большим запасом **ни один пользователь тарифа \"Ультра\" не выбрал свой месячный лимит сообщений**. Что касается тарифа \"Смарт\", то график показывает, что большинству пользователей вполне достаточно включенных в месячный пакет сообщений.\n",
    "\n",
    "\n",
    "* Согласно  выборке, средний пользователь тарифа **\"Ультра\"** отправляет около **50 сообщений** в месяц. Ровно такое количество сообщений предусмотрено тарифом \"Смарт\". Учитывая это, можно предположить, что пользователи отдают предпочтение данному тарифу отнюдь не из-за количества включенных в него сообщений.\n",
    "\n",
    "\n",
    "* В среднем пользователи тарифа **\"Смарт\"** отправляют около **30 сообщений** в месяц. При этом, **только около 25% удается за месяц полностью потратить встроенный лимит сообщений** - подавляющему большинству хватает стандартного пакета.\n",
    "\n",
    "##### Интернет\n",
    "\n",
    "* Типичный пользователь тарифа **\"Ультра\"**, вероятно, расходует за месяц около **19 ГБ трафика**. Примечательно, что несмотря на повышенный по сравнению с тарифом\"Смарт\" объем трафика, **13% пользователей тарифа \"Ультра\" все равно не хватает включенного в пакет интернет-трафика** (30ГБ). Интернет-трафик - единственный вид услуг, который не покрывает полностью потребности всех пользователей тарифа \"Ультра\" из данной выборки.\n",
    "\n",
    "\n",
    "* Если выборка верно отражает действительность, то судя по всему, пользователи тарифа **\"Смарт\"** в среднем расходуют не сильно меньше интернет-трафика, чем пользователи \"Ультра\" - **17ГБ**. Отдельно стоит отметить, что около **60% пользователей не хватает включенного в тариф трафика**. В итоге большинству пользователей тарифа \"Смарт\" приходится докупать ГБ, что вынуждает их тратить больше денег. Таким образом, компания получает с них больший доход, нежели номинальная стоимость тарифа.\n",
    "\n",
    "\n",
    "\n",
    "Наконец, на **заключительном этапе**  была проведена проверка гипотез исследования, результаты не противоречат гипотезе о том, что средняя выручка пользователей тарифов «Ультра» и «Смарт» различается. \n",
    "\n",
    "* Нет оснований отвергать и гипотезу о том, что средняя выручка с тарифа Ультра больше чем с тарифа Смарт.\n",
    "\n",
    "* Также была проверена гипотеза о том различается ли средняя выручка пользователей из Москвы и других регионов. По результатам теста не получилось отвергнуть гипотезу о том, что выручка пользователей из Москвы не отличается от выручки пользователей из других регионов."
   ]
  },
  {
   "cell_type": "markdown",
   "id": "a123711b",
   "metadata": {},
   "source": [
    "## Общий вывод <a class=\"anchor\" id=\"con5\"></a>"
   ]
  },
  {
   "cell_type": "markdown",
   "id": "e1af50a0",
   "metadata": {},
   "source": [
    " 75% пользователей тарифа Ультра достаточно включенных в тариф пакетов услуг. Только около четверти прибегают к дополнительным тратам. При этом на тарифе Смарт лишь около 25% пользователей укладываются в месячные лимиты предоставлемых услуг. Абсолютному большинству - приходится доплачивать.\n",
    " \n",
    " \n",
    " Несмотря на это, данные таблиц и графиков, а также результаты тестов на проверку гипотез свидетельствуют о том, что пользователи тарифа \"Ультра\" все равно приносят компании больший доход, чем пользователи \"Смарта\":\n",
    "* Среднее значение выручки для тарифа Ультра - **2070**\n",
    "* Среднее значение выручки для тарифа Смарт - **1289**\n",
    "\n",
    "\n",
    "По этой причине есть основания утверждать, что тариф \"Ультра\" является более перспективным тарифом для  телеком-компании как в Москве, так и в других регионах.  "
   ]
  }
 ],
 "metadata": {
  "ExecuteTimeLog": [
   {
    "duration": 1154,
    "start_time": "2022-06-01T12:04:53.865Z"
   },
   {
    "duration": 277,
    "start_time": "2022-06-01T12:04:55.021Z"
   },
   {
    "duration": 267,
    "start_time": "2022-06-01T12:04:55.300Z"
   },
   {
    "duration": 215,
    "start_time": "2022-06-01T12:04:55.570Z"
   },
   {
    "duration": 70,
    "start_time": "2022-06-01T12:04:55.787Z"
   },
   {
    "duration": 41,
    "start_time": "2022-06-01T12:04:55.859Z"
   },
   {
    "duration": 11,
    "start_time": "2022-06-01T12:04:55.902Z"
   },
   {
    "duration": 17,
    "start_time": "2022-06-01T12:04:55.914Z"
   },
   {
    "duration": 28,
    "start_time": "2022-06-01T12:04:55.933Z"
   },
   {
    "duration": 8,
    "start_time": "2022-06-01T12:04:55.964Z"
   },
   {
    "duration": 22,
    "start_time": "2022-06-01T12:04:55.973Z"
   },
   {
    "duration": 8,
    "start_time": "2022-06-01T12:04:55.996Z"
   },
   {
    "duration": 28,
    "start_time": "2022-06-01T12:04:56.006Z"
   },
   {
    "duration": 8,
    "start_time": "2022-06-01T12:04:56.036Z"
   },
   {
    "duration": 11,
    "start_time": "2022-06-01T12:04:56.065Z"
   },
   {
    "duration": 13,
    "start_time": "2022-06-01T12:04:56.077Z"
   },
   {
    "duration": 11,
    "start_time": "2022-06-01T12:04:56.091Z"
   },
   {
    "duration": 41,
    "start_time": "2022-06-01T12:04:56.103Z"
   },
   {
    "duration": 36,
    "start_time": "2022-06-01T12:04:56.146Z"
   },
   {
    "duration": 26,
    "start_time": "2022-06-01T12:04:56.183Z"
   },
   {
    "duration": 2,
    "start_time": "2022-06-01T12:04:56.211Z"
   },
   {
    "duration": 12,
    "start_time": "2022-06-01T12:04:56.215Z"
   },
   {
    "duration": 231,
    "start_time": "2022-06-01T12:04:56.228Z"
   },
   {
    "duration": 11,
    "start_time": "2022-06-01T12:04:56.461Z"
   },
   {
    "duration": 13,
    "start_time": "2022-06-01T12:04:56.474Z"
   },
   {
    "duration": 26,
    "start_time": "2022-06-01T12:04:56.489Z"
   },
   {
    "duration": 84,
    "start_time": "2022-06-01T12:04:56.517Z"
   },
   {
    "duration": 16,
    "start_time": "2022-06-01T12:04:56.606Z"
   },
   {
    "duration": 41,
    "start_time": "2022-06-01T12:04:56.624Z"
   },
   {
    "duration": 18,
    "start_time": "2022-06-01T12:04:56.668Z"
   },
   {
    "duration": 23,
    "start_time": "2022-06-01T12:04:56.688Z"
   },
   {
    "duration": 9,
    "start_time": "2022-06-01T12:04:56.713Z"
   },
   {
    "duration": 41,
    "start_time": "2022-06-01T12:04:56.724Z"
   },
   {
    "duration": 3,
    "start_time": "2022-06-01T12:04:56.767Z"
   },
   {
    "duration": 29,
    "start_time": "2022-06-01T12:04:56.772Z"
   },
   {
    "duration": 19,
    "start_time": "2022-06-01T12:04:56.803Z"
   },
   {
    "duration": 14,
    "start_time": "2022-06-01T12:04:56.824Z"
   },
   {
    "duration": 26,
    "start_time": "2022-06-01T12:04:56.840Z"
   },
   {
    "duration": 25,
    "start_time": "2022-06-01T12:04:56.868Z"
   },
   {
    "duration": 30,
    "start_time": "2022-06-01T12:04:56.895Z"
   },
   {
    "duration": 7,
    "start_time": "2022-06-01T12:04:56.927Z"
   },
   {
    "duration": 30,
    "start_time": "2022-06-01T12:04:56.935Z"
   },
   {
    "duration": 14,
    "start_time": "2022-06-01T12:04:56.967Z"
   },
   {
    "duration": 13,
    "start_time": "2022-06-01T12:04:56.983Z"
   },
   {
    "duration": 108,
    "start_time": "2022-06-01T12:04:56.997Z"
   },
   {
    "duration": 14,
    "start_time": "2022-06-01T12:04:57.107Z"
   },
   {
    "duration": 23,
    "start_time": "2022-06-01T12:04:57.123Z"
   },
   {
    "duration": 472,
    "start_time": "2022-06-01T12:04:57.148Z"
   },
   {
    "duration": 120,
    "start_time": "2022-06-01T12:04:57.622Z"
   },
   {
    "duration": 22,
    "start_time": "2022-06-01T12:04:57.744Z"
   },
   {
    "duration": 5,
    "start_time": "2022-06-01T12:04:57.767Z"
   },
   {
    "duration": 6,
    "start_time": "2022-06-01T12:04:57.773Z"
   },
   {
    "duration": 136,
    "start_time": "2022-06-01T12:04:57.781Z"
   },
   {
    "duration": 17,
    "start_time": "2022-06-01T12:04:57.918Z"
   },
   {
    "duration": 9,
    "start_time": "2022-06-01T12:04:57.937Z"
   },
   {
    "duration": 17,
    "start_time": "2022-06-01T12:04:57.949Z"
   },
   {
    "duration": 10,
    "start_time": "2022-06-01T12:04:57.969Z"
   },
   {
    "duration": 368,
    "start_time": "2022-06-01T12:04:57.981Z"
   },
   {
    "duration": 136,
    "start_time": "2022-06-01T12:04:58.351Z"
   },
   {
    "duration": 8,
    "start_time": "2022-06-01T12:04:58.489Z"
   },
   {
    "duration": 7,
    "start_time": "2022-06-01T12:04:58.499Z"
   },
   {
    "duration": 7,
    "start_time": "2022-06-01T12:04:58.508Z"
   },
   {
    "duration": 142,
    "start_time": "2022-06-01T12:04:58.516Z"
   },
   {
    "duration": 11,
    "start_time": "2022-06-01T12:04:58.659Z"
   },
   {
    "duration": 7,
    "start_time": "2022-06-01T12:04:58.672Z"
   },
   {
    "duration": 6,
    "start_time": "2022-06-01T12:04:58.681Z"
   },
   {
    "duration": 7,
    "start_time": "2022-06-01T12:04:58.688Z"
   },
   {
    "duration": 454,
    "start_time": "2022-06-01T12:04:58.697Z"
   },
   {
    "duration": 145,
    "start_time": "2022-06-01T12:04:59.152Z"
   },
   {
    "duration": 9,
    "start_time": "2022-06-01T12:04:59.298Z"
   },
   {
    "duration": 6,
    "start_time": "2022-06-01T12:04:59.308Z"
   },
   {
    "duration": 6,
    "start_time": "2022-06-01T12:04:59.315Z"
   },
   {
    "duration": 8,
    "start_time": "2022-06-01T12:04:59.323Z"
   },
   {
    "duration": 38,
    "start_time": "2022-06-01T12:04:59.332Z"
   },
   {
    "duration": 132,
    "start_time": "2022-06-01T12:04:59.372Z"
   },
   {
    "duration": 9,
    "start_time": "2022-06-01T12:04:59.506Z"
   },
   {
    "duration": 8,
    "start_time": "2022-06-01T12:04:59.517Z"
   },
   {
    "duration": 9,
    "start_time": "2022-06-01T12:04:59.526Z"
   },
   {
    "duration": 9,
    "start_time": "2022-06-01T12:04:59.536Z"
   },
   {
    "duration": 520,
    "start_time": "2022-06-01T12:04:59.565Z"
   },
   {
    "duration": 9,
    "start_time": "2022-06-01T12:05:00.087Z"
   },
   {
    "duration": 16,
    "start_time": "2022-06-01T12:05:00.102Z"
   },
   {
    "duration": 23,
    "start_time": "2022-06-01T12:05:00.119Z"
   },
   {
    "duration": 11,
    "start_time": "2022-06-01T12:05:00.144Z"
   },
   {
    "duration": 21,
    "start_time": "2022-06-01T12:05:00.157Z"
   },
   {
    "duration": 29,
    "start_time": "2022-06-01T12:05:00.180Z"
   },
   {
    "duration": 30,
    "start_time": "2022-06-01T12:05:00.211Z"
   },
   {
    "duration": 29,
    "start_time": "2022-06-01T12:05:00.243Z"
   },
   {
    "duration": 452,
    "start_time": "2022-06-01T12:05:00.275Z"
   },
   {
    "duration": 11,
    "start_time": "2022-06-01T12:05:00.729Z"
   },
   {
    "duration": 37,
    "start_time": "2022-06-01T12:05:00.742Z"
   },
   {
    "duration": 44,
    "start_time": "2022-06-01T12:05:00.782Z"
   },
   {
    "duration": 31,
    "start_time": "2022-06-01T12:05:00.828Z"
   },
   {
    "duration": 38,
    "start_time": "2022-06-01T12:05:00.861Z"
   },
   {
    "duration": 36,
    "start_time": "2022-06-01T12:05:00.901Z"
   },
   {
    "duration": 5,
    "start_time": "2022-06-01T12:18:21.860Z"
   },
   {
    "duration": 3,
    "start_time": "2022-06-01T12:36:50.716Z"
   },
   {
    "duration": 19,
    "start_time": "2022-06-01T12:37:13.293Z"
   },
   {
    "duration": 4,
    "start_time": "2022-06-01T12:37:17.412Z"
   },
   {
    "duration": 1920,
    "start_time": "2022-06-01T12:37:43.917Z"
   },
   {
    "duration": 223,
    "start_time": "2022-06-01T12:37:54.164Z"
   },
   {
    "duration": 227,
    "start_time": "2022-06-01T12:38:08.368Z"
   },
   {
    "duration": 329,
    "start_time": "2022-06-01T12:38:10.006Z"
   },
   {
    "duration": 58,
    "start_time": "2022-06-01T12:38:18.782Z"
   },
   {
    "duration": 1208,
    "start_time": "2022-06-01T12:39:04.734Z"
   },
   {
    "duration": 164,
    "start_time": "2022-06-01T12:39:05.944Z"
   },
   {
    "duration": 138,
    "start_time": "2022-06-01T12:39:06.110Z"
   },
   {
    "duration": 95,
    "start_time": "2022-06-01T12:39:06.250Z"
   },
   {
    "duration": 6,
    "start_time": "2022-06-01T12:39:06.347Z"
   },
   {
    "duration": 43,
    "start_time": "2022-06-01T12:39:06.354Z"
   },
   {
    "duration": 12,
    "start_time": "2022-06-01T12:39:06.399Z"
   },
   {
    "duration": 17,
    "start_time": "2022-06-01T12:39:06.412Z"
   },
   {
    "duration": 26,
    "start_time": "2022-06-01T12:39:06.431Z"
   },
   {
    "duration": 9,
    "start_time": "2022-06-01T12:39:06.460Z"
   },
   {
    "duration": 22,
    "start_time": "2022-06-01T12:39:06.470Z"
   },
   {
    "duration": 8,
    "start_time": "2022-06-01T12:39:06.494Z"
   },
   {
    "duration": 25,
    "start_time": "2022-06-01T12:39:06.503Z"
   },
   {
    "duration": 9,
    "start_time": "2022-06-01T12:39:06.530Z"
   },
   {
    "duration": 15,
    "start_time": "2022-06-01T12:39:06.566Z"
   },
   {
    "duration": 19,
    "start_time": "2022-06-01T12:39:06.583Z"
   },
   {
    "duration": 9,
    "start_time": "2022-06-01T12:39:06.604Z"
   },
   {
    "duration": 57,
    "start_time": "2022-06-01T12:39:06.615Z"
   },
   {
    "duration": 22,
    "start_time": "2022-06-01T12:39:06.674Z"
   },
   {
    "duration": 29,
    "start_time": "2022-06-01T12:39:06.697Z"
   },
   {
    "duration": 3,
    "start_time": "2022-06-01T12:39:06.728Z"
   },
   {
    "duration": 38,
    "start_time": "2022-06-01T12:39:06.733Z"
   },
   {
    "duration": 218,
    "start_time": "2022-06-01T12:39:06.773Z"
   },
   {
    "duration": 9,
    "start_time": "2022-06-01T12:39:06.993Z"
   },
   {
    "duration": 19,
    "start_time": "2022-06-01T12:39:07.004Z"
   },
   {
    "duration": 41,
    "start_time": "2022-06-01T12:39:07.025Z"
   },
   {
    "duration": 46,
    "start_time": "2022-06-01T12:39:07.068Z"
   },
   {
    "duration": 15,
    "start_time": "2022-06-01T12:39:07.119Z"
   },
   {
    "duration": 49,
    "start_time": "2022-06-01T12:39:07.136Z"
   },
   {
    "duration": 19,
    "start_time": "2022-06-01T12:39:07.186Z"
   },
   {
    "duration": 24,
    "start_time": "2022-06-01T12:39:07.206Z"
   },
   {
    "duration": 8,
    "start_time": "2022-06-01T12:39:07.232Z"
   },
   {
    "duration": 14,
    "start_time": "2022-06-01T12:39:07.264Z"
   },
   {
    "duration": 12,
    "start_time": "2022-06-01T12:39:07.280Z"
   },
   {
    "duration": 23,
    "start_time": "2022-06-01T12:39:07.293Z"
   },
   {
    "duration": 22,
    "start_time": "2022-06-01T12:39:07.318Z"
   },
   {
    "duration": 36,
    "start_time": "2022-06-01T12:39:07.342Z"
   },
   {
    "duration": 6,
    "start_time": "2022-06-01T12:39:07.379Z"
   },
   {
    "duration": 23,
    "start_time": "2022-06-01T12:39:07.387Z"
   },
   {
    "duration": 29,
    "start_time": "2022-06-01T12:39:07.411Z"
   },
   {
    "duration": 29,
    "start_time": "2022-06-01T12:39:07.442Z"
   },
   {
    "duration": 17,
    "start_time": "2022-06-01T12:39:07.474Z"
   },
   {
    "duration": 14,
    "start_time": "2022-06-01T12:39:07.493Z"
   },
   {
    "duration": 12,
    "start_time": "2022-06-01T12:39:07.509Z"
   },
   {
    "duration": 116,
    "start_time": "2022-06-01T12:39:07.523Z"
   },
   {
    "duration": 14,
    "start_time": "2022-06-01T12:39:07.641Z"
   },
   {
    "duration": 17,
    "start_time": "2022-06-01T12:39:07.657Z"
   },
   {
    "duration": 4,
    "start_time": "2022-06-01T12:39:07.675Z"
   },
   {
    "duration": 453,
    "start_time": "2022-06-01T12:39:07.681Z"
   },
   {
    "duration": 128,
    "start_time": "2022-06-01T12:39:08.136Z"
   },
   {
    "duration": 9,
    "start_time": "2022-06-01T12:39:08.266Z"
   },
   {
    "duration": 6,
    "start_time": "2022-06-01T12:39:08.278Z"
   },
   {
    "duration": 11,
    "start_time": "2022-06-01T12:39:08.286Z"
   },
   {
    "duration": 134,
    "start_time": "2022-06-01T12:39:08.299Z"
   },
   {
    "duration": 8,
    "start_time": "2022-06-01T12:39:08.435Z"
   },
   {
    "duration": 20,
    "start_time": "2022-06-01T12:39:08.445Z"
   },
   {
    "duration": 9,
    "start_time": "2022-06-01T12:39:08.467Z"
   },
   {
    "duration": 13,
    "start_time": "2022-06-01T12:39:08.477Z"
   },
   {
    "duration": 361,
    "start_time": "2022-06-01T12:39:08.492Z"
   },
   {
    "duration": 169,
    "start_time": "2022-06-01T12:39:08.856Z"
   },
   {
    "duration": 10,
    "start_time": "2022-06-01T12:39:09.027Z"
   },
   {
    "duration": 26,
    "start_time": "2022-06-01T12:39:09.040Z"
   },
   {
    "duration": 16,
    "start_time": "2022-06-01T12:39:09.068Z"
   },
   {
    "duration": 153,
    "start_time": "2022-06-01T12:39:09.086Z"
   },
   {
    "duration": 9,
    "start_time": "2022-06-01T12:39:09.240Z"
   },
   {
    "duration": 19,
    "start_time": "2022-06-01T12:39:09.251Z"
   },
   {
    "duration": 9,
    "start_time": "2022-06-01T12:39:09.271Z"
   },
   {
    "duration": 7,
    "start_time": "2022-06-01T12:39:09.282Z"
   },
   {
    "duration": 348,
    "start_time": "2022-06-01T12:39:09.291Z"
   },
   {
    "duration": 139,
    "start_time": "2022-06-01T12:39:09.641Z"
   },
   {
    "duration": 9,
    "start_time": "2022-06-01T12:39:09.781Z"
   },
   {
    "duration": 8,
    "start_time": "2022-06-01T12:39:09.791Z"
   },
   {
    "duration": 7,
    "start_time": "2022-06-01T12:39:09.800Z"
   },
   {
    "duration": 7,
    "start_time": "2022-06-01T12:39:09.808Z"
   },
   {
    "duration": 9,
    "start_time": "2022-06-01T12:39:09.817Z"
   },
   {
    "duration": 142,
    "start_time": "2022-06-01T12:39:09.827Z"
   },
   {
    "duration": 8,
    "start_time": "2022-06-01T12:39:09.971Z"
   },
   {
    "duration": 13,
    "start_time": "2022-06-01T12:39:09.981Z"
   },
   {
    "duration": 10,
    "start_time": "2022-06-01T12:39:09.996Z"
   },
   {
    "duration": 13,
    "start_time": "2022-06-01T12:39:10.007Z"
   },
   {
    "duration": 562,
    "start_time": "2022-06-01T12:39:10.022Z"
   },
   {
    "duration": 9,
    "start_time": "2022-06-01T12:39:10.589Z"
   },
   {
    "duration": 17,
    "start_time": "2022-06-01T12:39:10.599Z"
   },
   {
    "duration": 6,
    "start_time": "2022-06-01T12:39:10.618Z"
   },
   {
    "duration": 6,
    "start_time": "2022-06-01T12:39:10.625Z"
   },
   {
    "duration": 6,
    "start_time": "2022-06-01T12:39:10.632Z"
   },
   {
    "duration": 31,
    "start_time": "2022-06-01T12:39:10.639Z"
   },
   {
    "duration": 6,
    "start_time": "2022-06-01T12:39:10.672Z"
   },
   {
    "duration": 7,
    "start_time": "2022-06-01T12:39:10.680Z"
   },
   {
    "duration": 442,
    "start_time": "2022-06-01T12:39:10.689Z"
   },
   {
    "duration": 10,
    "start_time": "2022-06-01T12:39:11.133Z"
   },
   {
    "duration": 22,
    "start_time": "2022-06-01T12:39:11.145Z"
   },
   {
    "duration": 10,
    "start_time": "2022-06-01T12:39:11.169Z"
   },
   {
    "duration": 7,
    "start_time": "2022-06-01T12:39:11.181Z"
   },
   {
    "duration": 4,
    "start_time": "2022-06-01T12:39:11.190Z"
   },
   {
    "duration": 13,
    "start_time": "2022-06-01T12:39:11.196Z"
   },
   {
    "duration": 7,
    "start_time": "2022-06-01T12:39:11.211Z"
   },
   {
    "duration": 1756,
    "start_time": "2022-06-01T12:39:11.220Z"
   },
   {
    "duration": 238,
    "start_time": "2022-06-01T12:39:12.979Z"
   },
   {
    "duration": 216,
    "start_time": "2022-06-01T12:39:13.218Z"
   },
   {
    "duration": 329,
    "start_time": "2022-06-01T12:39:13.436Z"
   },
   {
    "duration": 55,
    "start_time": "2022-06-01T12:39:13.767Z"
   }
  ],
  "kernelspec": {
   "display_name": "Python 3 (ipykernel)",
   "language": "python",
   "name": "python3"
  },
  "language_info": {
   "codemirror_mode": {
    "name": "ipython",
    "version": 3
   },
   "file_extension": ".py",
   "mimetype": "text/x-python",
   "name": "python",
   "nbconvert_exporter": "python",
   "pygments_lexer": "ipython3",
   "version": "3.9.7"
  },
  "toc": {
   "base_numbering": 1,
   "nav_menu": {},
   "number_sections": true,
   "sideBar": true,
   "skip_h1_title": false,
   "title_cell": "",
   "title_sidebar": "Contents",
   "toc_cell": true,
   "toc_position": {
    "height": "calc(100% - 180px)",
    "left": "10px",
    "top": "150px",
    "width": "228px"
   },
   "toc_section_display": true,
   "toc_window_display": true
  }
 },
 "nbformat": 4,
 "nbformat_minor": 5
}
