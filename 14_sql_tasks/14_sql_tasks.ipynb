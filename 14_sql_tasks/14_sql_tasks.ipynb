{
 "cells": [
  {
   "cell_type": "markdown",
   "id": "c38e5d31",
   "metadata": {},
   "source": [
    "# Содержание <a class=\"anchor\" id=\"begining\"></a>"
   ]
  },
  {
   "cell_type": "markdown",
   "id": "0af5ac4d",
   "metadata": {
    "toc": true
   },
   "source": [
    "<h1><span class=\"tocSkip\"></span></h1>\n",
    "<div class=\"toc\"><ul class=\"toc-item\"><li><span><a href=\"#Содержание-\" data-toc-modified-id=\"Содержание--1\"><span class=\"toc-item-num\">1&nbsp;&nbsp;</span>Содержание <a class=\"anchor\" id=\"begining\" rel=\"nofollow\"></a></a></span></li><li><span><a href=\"#Описание-базы-данных\" data-toc-modified-id=\"Описание-базы-данных-2\"><span class=\"toc-item-num\">2&nbsp;&nbsp;</span>Описание базы данных</a></span></li><li><span><a href=\"#Задание-1.\" data-toc-modified-id=\"Задание-1.-3\"><span class=\"toc-item-num\">3&nbsp;&nbsp;</span>Задание 1.</a></span></li><li><span><a href=\"#Задание-2.\" data-toc-modified-id=\"Задание-2.-4\"><span class=\"toc-item-num\">4&nbsp;&nbsp;</span>Задание 2.</a></span></li><li><span><a href=\"#Задание-3.\" data-toc-modified-id=\"Задание-3.-5\"><span class=\"toc-item-num\">5&nbsp;&nbsp;</span>Задание 3.</a></span></li><li><span><a href=\"#Задание-4.\" data-toc-modified-id=\"Задание-4.-6\"><span class=\"toc-item-num\">6&nbsp;&nbsp;</span>Задание 4.</a></span></li><li><span><a href=\"#Задание-5.\" data-toc-modified-id=\"Задание-5.-7\"><span class=\"toc-item-num\">7&nbsp;&nbsp;</span>Задание 5.</a></span></li><li><span><a href=\"#Задание-6.\" data-toc-modified-id=\"Задание-6.-8\"><span class=\"toc-item-num\">8&nbsp;&nbsp;</span>Задание 6.</a></span></li><li><span><a href=\"#Задание-7.\" data-toc-modified-id=\"Задание-7.-9\"><span class=\"toc-item-num\">9&nbsp;&nbsp;</span>Задание 7.</a></span></li><li><span><a href=\"#Задание-8.\" data-toc-modified-id=\"Задание-8.-10\"><span class=\"toc-item-num\">10&nbsp;&nbsp;</span>Задание 8.</a></span></li><li><span><a href=\"#Задание-9.\" data-toc-modified-id=\"Задание-9.-11\"><span class=\"toc-item-num\">11&nbsp;&nbsp;</span>Задание 9.</a></span></li><li><span><a href=\"#Задание-10.\" data-toc-modified-id=\"Задание-10.-12\"><span class=\"toc-item-num\">12&nbsp;&nbsp;</span>Задание 10.</a></span></li><li><span><a href=\"#Задание-11.\" data-toc-modified-id=\"Задание-11.-13\"><span class=\"toc-item-num\">13&nbsp;&nbsp;</span>Задание 11.</a></span></li><li><span><a href=\"#Задание-12.\" data-toc-modified-id=\"Задание-12.-14\"><span class=\"toc-item-num\">14&nbsp;&nbsp;</span>Задание 12.</a></span></li><li><span><a href=\"#Задание-13.\" data-toc-modified-id=\"Задание-13.-15\"><span class=\"toc-item-num\">15&nbsp;&nbsp;</span>Задание 13.</a></span></li><li><span><a href=\"#Задание-14.\" data-toc-modified-id=\"Задание-14.-16\"><span class=\"toc-item-num\">16&nbsp;&nbsp;</span>Задание 14.</a></span></li><li><span><a href=\"#Задание-15.\" data-toc-modified-id=\"Задание-15.-17\"><span class=\"toc-item-num\">17&nbsp;&nbsp;</span>Задание 15.</a></span></li><li><span><a href=\"#Задание-16.\" data-toc-modified-id=\"Задание-16.-18\"><span class=\"toc-item-num\">18&nbsp;&nbsp;</span>Задание 16.</a></span></li></ul></div>"
   ]
  },
  {
   "cell_type": "markdown",
   "id": "ad190ca5",
   "metadata": {},
   "source": [
    "# Описание базы данных"
   ]
  },
  {
   "cell_type": "markdown",
   "id": "ae85e3e8",
   "metadata": {},
   "source": [
    "База данных основана на датасете Startup Investments, взятом с Kaggle"
   ]
  },
  {
   "cell_type": "markdown",
   "id": "bd76541f",
   "metadata": {},
   "source": [
    "**Схема**"
   ]
  },
  {
   "cell_type": "markdown",
   "id": "6324f169",
   "metadata": {},
   "source": [
    "![](Image.png)"
   ]
  },
  {
   "cell_type": "markdown",
   "id": "3060bb6f",
   "metadata": {},
   "source": [
    "# Задание 1. \n",
    "\n",
    "**Отобразите количество привлечённых средств для новостных компаний США. Используйте данные из таблицы `company`. Отсортируйте таблицу по убыванию значений в поле `funding_total`.**"
   ]
  },
  {
   "cell_type": "markdown",
   "id": "c48d38b5",
   "metadata": {},
   "source": [
    "[К содержанию](#begining)"
   ]
  },
  {
   "cell_type": "code",
   "execution_count": 1,
   "id": "beb06780",
   "metadata": {},
   "outputs": [],
   "source": [
    "# запрос\n",
    "query = \"\"\"\n",
    "SELECT funding_total\n",
    "FROM company\n",
    "WHERE category_code = 'news'\n",
    "  AND country_code = 'USA'\n",
    "ORDER BY funding_total DESC\n",
    "\n",
    "\"\"\""
   ]
  },
  {
   "cell_type": "markdown",
   "id": "59f8159d",
   "metadata": {},
   "source": [
    "**Результат**"
   ]
  },
  {
   "cell_type": "markdown",
   "id": "1b0afcfb",
   "metadata": {},
   "source": [
    "<div>\n",
    "<img src=\"1.png\" width=\"150\"/>\n",
    "</div>"
   ]
  },
  {
   "cell_type": "markdown",
   "id": "29d99db5",
   "metadata": {},
   "source": [
    "# Задание 2. \n",
    "\n",
    "**Найдите общую сумму сделок по покупке одних компаний другими в долларах. Отберите сделки, которые осуществлялись только за наличные с 2011 по 2013 год включительно.**"
   ]
  },
  {
   "cell_type": "markdown",
   "id": "3f9af7c4",
   "metadata": {},
   "source": [
    "[К содержанию](#begining)"
   ]
  },
  {
   "cell_type": "code",
   "execution_count": 2,
   "id": "468a4014",
   "metadata": {},
   "outputs": [],
   "source": [
    "# запрос\n",
    "query = \"\"\"\n",
    "SELECT SUM(price_amount)\n",
    "FROM acquisition\n",
    "WHERE term_code = 'cash'\n",
    "  AND EXTRACT(YEAR\n",
    "              FROM acquired_at) BETWEEN '2011' AND '2013'\n",
    "\"\"\""
   ]
  },
  {
   "cell_type": "markdown",
   "id": "6c595b40",
   "metadata": {},
   "source": [
    "**Результат**"
   ]
  },
  {
   "cell_type": "markdown",
   "id": "c54b71f5",
   "metadata": {},
   "source": [
    "<div>\n",
    "<img src=\"2.png\" width=\"150\"/>\n",
    "</div>"
   ]
  },
  {
   "cell_type": "markdown",
   "id": "33e8fd52",
   "metadata": {},
   "source": [
    "# Задание 3. \n",
    "\n",
    "**Отобразите имя, фамилию и названия аккаунтов людей в твиттере, у которых названия аккаунтов начинаются на 'Silver'.**"
   ]
  },
  {
   "cell_type": "markdown",
   "id": "a4248172",
   "metadata": {},
   "source": [
    "[К содержанию](#begining)"
   ]
  },
  {
   "cell_type": "code",
   "execution_count": 3,
   "id": "27050492",
   "metadata": {},
   "outputs": [],
   "source": [
    "# запрос\n",
    "query = \"\"\"\n",
    "SELECT first_name,\n",
    "       last_name,\n",
    "       twitter_username\n",
    "FROM people\n",
    "WHERE twitter_username LIKE 'Silver%'\n",
    "\"\"\""
   ]
  },
  {
   "cell_type": "markdown",
   "id": "d8b3945f",
   "metadata": {},
   "source": [
    "**Результат**"
   ]
  },
  {
   "cell_type": "markdown",
   "id": "77b7bb66",
   "metadata": {},
   "source": [
    "<div>\n",
    "<img src=\"3.png\" width=\"350\"/>\n",
    "</div>"
   ]
  },
  {
   "cell_type": "markdown",
   "id": "94bdac3a",
   "metadata": {},
   "source": [
    "# Задание 4.\n",
    "\n",
    "**Составьте таблицу, в которую войдёт дата проведения раунда, а также минимальное и максимальное значения суммы инвестиций, привлечённых в эту дату.\n",
    "Оставьте в итоговой таблице только те записи, в которых минимальное значение суммы инвестиций не равно нулю и не равно максимальному значению.**"
   ]
  },
  {
   "cell_type": "markdown",
   "id": "9d859814",
   "metadata": {},
   "source": [
    "[К содержанию](#begining)"
   ]
  },
  {
   "cell_type": "code",
   "execution_count": 4,
   "id": "2319131a",
   "metadata": {},
   "outputs": [],
   "source": [
    "# запрос\n",
    "query = \"\"\"\n",
    "SELECT funded_at,\n",
    "MAX(raised_amount) AS min_amount,\n",
    "MIN(raised_amount) AS max_amount\n",
    "FROM funding_round\n",
    "GROUP BY funded_at\n",
    "HAVING MIN(raised_amount) <> 0 AND MIN(raised_amount) <> MAX(raised_amount)\n",
    "\"\"\""
   ]
  },
  {
   "cell_type": "markdown",
   "id": "1fda834e",
   "metadata": {},
   "source": [
    "**Результат**"
   ]
  },
  {
   "cell_type": "markdown",
   "id": "0b801704",
   "metadata": {},
   "source": [
    "<div>\n",
    "<img src=\"4.png\" width=\"350\"/>\n",
    "</div>"
   ]
  },
  {
   "cell_type": "markdown",
   "id": "d6811c94",
   "metadata": {},
   "source": [
    "# Задание 5. \n",
    "\n",
    "\n",
    "**Создайте поле с категориями:**\n",
    "* Для фондов, которые инвестируют в 100 и более компаний, назначьте категорию high_activity.\n",
    "* Для фондов, которые инвестируют в 20 и более компаний до 100, назначьте категорию middle_activity.\n",
    "* Если количество инвестируемых компаний фонда не достигает 20, назначьте категорию low_activity.\n",
    "\n",
    "Отобразите все поля таблицы fund и новое поле с категориями."
   ]
  },
  {
   "cell_type": "markdown",
   "id": "8de0169c",
   "metadata": {},
   "source": [
    "[К содержанию](#begining)"
   ]
  },
  {
   "cell_type": "code",
   "execution_count": 5,
   "id": "95f15ab4",
   "metadata": {},
   "outputs": [],
   "source": [
    "# запрос\n",
    "query = \"\"\"\n",
    "SELECT *,\n",
    "       CASE\n",
    "           WHEN invested_companies >= 100 THEN 'high_activity'\n",
    "           WHEN 100 > invested_companies\n",
    "                AND invested_companies >= 20 THEN 'middle_activity'\n",
    "           ELSE 'low_activity'\n",
    "       END\n",
    "FROM fund\n",
    "\"\"\""
   ]
  },
  {
   "cell_type": "markdown",
   "id": "1f672708",
   "metadata": {},
   "source": [
    "**Результат**"
   ]
  },
  {
   "cell_type": "markdown",
   "id": "3387c17a",
   "metadata": {},
   "source": [
    "<div>\n",
    "<img src=\"5.png\" high=\"450\"/>\n",
    "</div>"
   ]
  },
  {
   "cell_type": "markdown",
   "id": "34806977",
   "metadata": {},
   "source": [
    "# Задание 6. \n",
    "\n",
    "**Для каждой из категорий, назначенных в предыдущем задании, посчитайте округлённое до ближайшего целого числа среднее количество инвестиционных раундов, в которых фонд принимал участие. Выведите на экран категории и среднее число инвестиционных раундов. Отсортируйте таблицу по возрастанию среднего.**"
   ]
  },
  {
   "cell_type": "markdown",
   "id": "23d0d869",
   "metadata": {},
   "source": [
    "[К содержанию](#begining)"
   ]
  },
  {
   "cell_type": "code",
   "execution_count": 6,
   "id": "a028a07c",
   "metadata": {},
   "outputs": [],
   "source": [
    "# запрос\n",
    "query = \"\"\"\n",
    "SELECT CASE\n",
    "           WHEN invested_companies>=100 THEN 'high_activity'\n",
    "           WHEN invested_companies>=20 THEN 'middle_activity'\n",
    "           ELSE 'low_activity'\n",
    "       END AS activity,\n",
    "       ROUND(AVG(investment_rounds))\n",
    "FROM fund\n",
    "GROUP BY activity\n",
    "ORDER BY ROUND(AVG(investment_rounds));\n",
    "\"\"\""
   ]
  },
  {
   "cell_type": "markdown",
   "id": "a0811ae6",
   "metadata": {},
   "source": [
    "**Результат**"
   ]
  },
  {
   "cell_type": "markdown",
   "id": "a050bbfd",
   "metadata": {},
   "source": [
    "<div>\n",
    "<img src=\"6.png\" width=\"350\"/>\n",
    "</div>"
   ]
  },
  {
   "cell_type": "markdown",
   "id": "47579bf5",
   "metadata": {},
   "source": [
    "# Задание 7. \n",
    "\n",
    "**Проанализируйте, в каких странах находятся фонды, которые чаще всего инвестируют в стартапы.\n",
    "Для каждой страны посчитайте минимальное, максимальное и среднее число компаний, в которые инвестировали фонды этой страны, основанные с 2010 по 2012 год включительно. Исключите страны с фондами, у которых минимальное число компаний, получивших инвестиции, равно нулю. Выгрузите десять самых активных стран-инвесторов.\n",
    "Отсортируйте таблицу по среднему количеству компаний от большего к меньшему, а затем по коду страны в лексикографическом порядке.**"
   ]
  },
  {
   "cell_type": "markdown",
   "id": "b48aefb9",
   "metadata": {},
   "source": [
    "[К содержанию](#begining)"
   ]
  },
  {
   "cell_type": "code",
   "execution_count": 7,
   "id": "22f1371f",
   "metadata": {},
   "outputs": [],
   "source": [
    "# запрос\n",
    "query = \"\"\"\n",
    "SELECT country_code,\n",
    "       MIN(invested_companies) AS min_invested_companies,\n",
    "       MAX(invested_companies) AS max_invested_companies,\n",
    "       AVG(invested_companies) AS av_invested_companies\n",
    "FROM fund\n",
    "WHERE EXTRACT(YEAR\n",
    "              FROM founded_at) BETWEEN '2010' AND '2012'\n",
    "GROUP BY country_code\n",
    "HAVING MIN(invested_companies) <> 0\n",
    "ORDER BY av_invested_companies DESC\n",
    "LIMIT 10;\n",
    "\"\"\""
   ]
  },
  {
   "cell_type": "markdown",
   "id": "4df1dbf3",
   "metadata": {},
   "source": [
    "**Результат**"
   ]
  },
  {
   "cell_type": "markdown",
   "id": "96b14b7c",
   "metadata": {},
   "source": [
    "<div>\n",
    "<img src=\"7.png\" width=\"350\"/>\n",
    "</div>"
   ]
  },
  {
   "cell_type": "markdown",
   "id": "2a816251",
   "metadata": {},
   "source": [
    "# Задание 8.\n",
    "\n",
    "**Для каждой компании найдите количество учебных заведений, которые окончили её сотрудники. Выведите название компании и число уникальных названий учебных заведений. Составьте топ-5 компаний по количеству университетов.**"
   ]
  },
  {
   "cell_type": "markdown",
   "id": "5ffd6452",
   "metadata": {},
   "source": [
    "[К содержанию](#begining)"
   ]
  },
  {
   "cell_type": "code",
   "execution_count": 8,
   "id": "994f7cad",
   "metadata": {},
   "outputs": [],
   "source": [
    "# запрос\n",
    "query = \"\"\"\n",
    "SELECT c.name,\n",
    "       COUNT(DISTINCT e.instituition) AS unique_univers\n",
    "FROM company AS c\n",
    "JOIN people AS p ON c.id = p.company_id\n",
    "JOIN education AS e ON p.id = e.person_id\n",
    "GROUP BY c.name\n",
    "ORDER BY unique_univers DESC\n",
    "LIMIT 5;\n",
    "\"\"\""
   ]
  },
  {
   "cell_type": "markdown",
   "id": "1707be05",
   "metadata": {},
   "source": [
    "**Результат**"
   ]
  },
  {
   "cell_type": "markdown",
   "id": "162efc55",
   "metadata": {},
   "source": [
    "<div>\n",
    "<img src=\"8.png\" width=\"450\"/>\n",
    "</div>"
   ]
  },
  {
   "cell_type": "markdown",
   "id": "ef16cf78",
   "metadata": {},
   "source": [
    "# Задание 9. \n",
    "\n",
    "**Составьте список с уникальными названиями закрытых компаний, для которых первый раунд финансирования оказался последним.**"
   ]
  },
  {
   "cell_type": "markdown",
   "id": "fdb50f47",
   "metadata": {},
   "source": [
    "[К содержанию](#begining)"
   ]
  },
  {
   "cell_type": "code",
   "execution_count": 9,
   "id": "bc1bb5bb",
   "metadata": {},
   "outputs": [],
   "source": [
    "# запрос\n",
    "query = \"\"\"\n",
    "SELECT DISTINCT c.name\n",
    "FROM company AS c\n",
    "RIGHT JOIN funding_round AS fr ON c.id = fr.company_id\n",
    "WHERE c.status = 'closed'\n",
    "  AND (fr.is_first_round) = 1\n",
    "  AND (fr.is_last_round) = 1\n",
    "GROUP BY c.name\n",
    "\"\"\""
   ]
  },
  {
   "cell_type": "markdown",
   "id": "9f0b1eb2",
   "metadata": {},
   "source": [
    "**Результат**"
   ]
  },
  {
   "cell_type": "markdown",
   "id": "4d74e432",
   "metadata": {},
   "source": [
    "<div>\n",
    "<img src=\"9.png\" width=\"450\"/>\n",
    "</div>"
   ]
  },
  {
   "cell_type": "markdown",
   "id": "fd1c68e5",
   "metadata": {},
   "source": [
    "# Задание 10.\n",
    "\n",
    "**Составьте таблицу, куда войдут уникальные пары с номерами сотрудников из предыдущей задачи и учебным заведением, которое окончил сотрудник.**"
   ]
  },
  {
   "cell_type": "markdown",
   "id": "707d1d36",
   "metadata": {},
   "source": [
    "[К содержанию](#begining)"
   ]
  },
  {
   "cell_type": "code",
   "execution_count": 10,
   "id": "72f5a08c",
   "metadata": {},
   "outputs": [],
   "source": [
    "# запрос\n",
    "query = \"\"\"\n",
    "WITH p AS\n",
    "  (SELECT p.id\n",
    "   FROM people AS p\n",
    "   LEFT JOIN company AS com ON p.company_id = com.id\n",
    "   WHERE com.name IN\n",
    "       (SELECT DISTINCT c.name\n",
    "        FROM company AS c\n",
    "        RIGHT JOIN funding_round AS fr ON c.id = fr.company_id\n",
    "        WHERE c.status = 'closed'\n",
    "          AND (fr.is_first_round) = 1\n",
    "          AND (fr.is_last_round) = 1\n",
    "        GROUP BY c.name))\n",
    "SELECT p.id,\n",
    "       e.instituition\n",
    "FROM p\n",
    "JOIN education AS e ON p.id = e.person_id\n",
    "GROUP BY p.id,\n",
    "         e.instituition\n",
    "\"\"\""
   ]
  },
  {
   "cell_type": "markdown",
   "id": "9aa5309e",
   "metadata": {},
   "source": [
    "**Результат**"
   ]
  },
  {
   "cell_type": "markdown",
   "id": "b52097bc",
   "metadata": {},
   "source": [
    "<div>\n",
    "<img src=\"10.png\" width=\"450\"/>\n",
    "</div>"
   ]
  },
  {
   "cell_type": "markdown",
   "id": "e5b2cb0a",
   "metadata": {},
   "source": [
    "# Задание 11. \n",
    "\n",
    "**выведите среднее число учебных заведений (всех, не только уникальных), которые окончили сотрудники Facebook*.\n",
    "*(сервис, запрещённый на территории РФ)**"
   ]
  },
  {
   "cell_type": "markdown",
   "id": "e45e41b5",
   "metadata": {},
   "source": [
    "[К содержанию](#begining)"
   ]
  },
  {
   "cell_type": "code",
   "execution_count": 11,
   "id": "f94ec95b",
   "metadata": {},
   "outputs": [],
   "source": [
    "# запрос\n",
    "query = \"\"\"\n",
    "WITH p AS\n",
    "  (SELECT p.id\n",
    "   FROM people AS p\n",
    "   LEFT JOIN company AS com ON p.company_id = com.id\n",
    "   WHERE com.name = 'Facebook')\n",
    "SELECT AVG(total_univer.instituition)\n",
    "FROM\n",
    "  (SELECT p.id,\n",
    "          COUNT(e.instituition) AS instituition\n",
    "   FROM p\n",
    "   JOIN education AS e ON p.id = e.person_id\n",
    "   GROUP BY p.id) AS total_univer\n",
    "\"\"\""
   ]
  },
  {
   "cell_type": "markdown",
   "id": "f48e95ba",
   "metadata": {},
   "source": [
    "**Результат**"
   ]
  },
  {
   "cell_type": "markdown",
   "id": "e21bf9d1",
   "metadata": {},
   "source": [
    "<div>\n",
    "<img src=\"11.png\" width=\"550\"/>\n",
    "</div>"
   ]
  },
  {
   "cell_type": "markdown",
   "id": "31ec4368",
   "metadata": {},
   "source": [
    "# Задание 12.\n",
    "\n",
    "**Составьте таблицу из полей**:\n",
    "* name_of_fund — название фонда;\n",
    "* name_of_company — название компании;\n",
    "* amount — сумма инвестиций, которую привлекла компания в раунде.\n",
    "\n",
    "В таблицу войдут данные о компаниях, в истории которых было больше шести важных этапов, а раунды финансирования проходили с 2012 по 2013 год включительно."
   ]
  },
  {
   "cell_type": "markdown",
   "id": "bcf43cb5",
   "metadata": {},
   "source": [
    "[К содержанию](#begining)"
   ]
  },
  {
   "cell_type": "code",
   "execution_count": 12,
   "id": "42801459",
   "metadata": {},
   "outputs": [],
   "source": [
    "# запрос\n",
    "query = \"\"\"\n",
    "SELECT f.name AS name_of_fund,\n",
    "       c.name AS name_of_company,\n",
    "       fr.raised_amount AS amount\n",
    "FROM investment AS i\n",
    "JOIN company AS c ON i.company_id = c.id\n",
    "JOIN fund AS f ON i.fund_id = f.id\n",
    "JOIN funding_round AS fr ON i.funding_round_id = fr.id\n",
    "WHERE EXTRACT(YEAR\n",
    "              FROM fr.funded_at) BETWEEN '2012' AND '2013'\n",
    "  AND c.milestones > 6\n",
    "\"\"\""
   ]
  },
  {
   "cell_type": "markdown",
   "id": "b51682e2",
   "metadata": {},
   "source": [
    "**Результат**"
   ]
  },
  {
   "cell_type": "markdown",
   "id": "143c735d",
   "metadata": {},
   "source": [
    "<div>\n",
    "<img src=\"12.png\" width=\"550\"/>\n",
    "</div>"
   ]
  },
  {
   "cell_type": "markdown",
   "id": "164cd1bd",
   "metadata": {},
   "source": [
    "# Задание 13.\n",
    "\n",
    "**Выгрузите таблицу, в которой будут такие поля:**\n",
    "* название компании-покупателя;\n",
    "* сумма сделки;\n",
    "* название компании, которую купили;\n",
    "* сумма инвестиций, вложенных в купленную компанию;\n",
    "* доля, которая отображает, во сколько раз сумма покупки превысила сумму вложенных в компанию инвестиций, округлённая до ближайшего целого числа.\n",
    "\n",
    "Не учитывайте те сделки, в которых сумма покупки равна нулю. Если сумма инвестиций в компанию равна нулю, исключите такую компанию из таблицы.\n",
    "\n",
    "Отсортируйте таблицу по сумме сделки от большей к меньшей, а затем по названию купленной компании в лексикографическом порядке. Ограничьте таблицу первыми десятью записями."
   ]
  },
  {
   "cell_type": "markdown",
   "id": "7fe7aedb",
   "metadata": {},
   "source": [
    "[К содержанию](#begining)"
   ]
  },
  {
   "cell_type": "code",
   "execution_count": 13,
   "id": "533a5aa7",
   "metadata": {},
   "outputs": [],
   "source": [
    "# запрос\n",
    "query = \"\"\"\n",
    "WITH buyer AS\n",
    "  (SELECT name,\n",
    "          id\n",
    "   FROM company\n",
    "   WHERE id IN\n",
    "       (SELECT acquiring_company_id\n",
    "        FROM acquisition)),\n",
    "     seller AS\n",
    "  (SELECT name,\n",
    "          id,\n",
    "          funding_total\n",
    "   FROM company\n",
    "   WHERE id IN\n",
    "       (SELECT acquired_company_id\n",
    "        FROM acquisition) )\n",
    "SELECT buyer.name AS buyer_name,\n",
    "       a.price_amount,\n",
    "       seller.name AS seller_name,\n",
    "       seller.funding_total,\n",
    "       ROUND(a.price_amount / seller.funding_total)\n",
    "FROM acquisition AS A\n",
    "LEFT JOIN buyer ON a.acquiring_company_id = buyer.id\n",
    "LEFT JOIN seller ON a.acquired_company_id = seller.id\n",
    "WHERE a.price_amount <> 0\n",
    "  AND funding_total <> 0\n",
    "ORDER BY a.price_amount DESC,\n",
    "         seller.name\n",
    "LIMIT 10;\n",
    "\"\"\""
   ]
  },
  {
   "cell_type": "markdown",
   "id": "189cdec0",
   "metadata": {},
   "source": [
    "**Результат**"
   ]
  },
  {
   "cell_type": "markdown",
   "id": "08ad043f",
   "metadata": {},
   "source": [
    "<div>\n",
    "<img src=\"13.png\" width=\"550\"/>\n",
    "</div>"
   ]
  },
  {
   "cell_type": "markdown",
   "id": "7869a758",
   "metadata": {},
   "source": [
    "# Задание 14.\n",
    "\n",
    "**Выгрузите таблицу, в которую войдут названия компаний из категории social, получившие финансирование с 2010 по 2013 год включительно. Проверьте, что сумма инвестиций не равна нулю. Выведите также номер месяца, в котором проходил раунд финансирования.**"
   ]
  },
  {
   "cell_type": "markdown",
   "id": "2b4d1e41",
   "metadata": {},
   "source": [
    "[К содержанию](#begining)"
   ]
  },
  {
   "cell_type": "code",
   "execution_count": 14,
   "id": "b7d647dc",
   "metadata": {},
   "outputs": [],
   "source": [
    "# запрос\n",
    "query = \"\"\"\n",
    "SELECT c.name,\n",
    "EXTRACT(MONTH FROM fr.funded_at)\n",
    "FROM company AS c\n",
    "LEFT JOIN funding_round AS fr ON fr.company_id = c.id\n",
    "WHERE EXTRACT(YEAR FROM fr.funded_at) BETWEEN '2010' AND '2013'\n",
    "AND c.category_code = 'social'\n",
    "\"\"\""
   ]
  },
  {
   "cell_type": "markdown",
   "id": "d5f4dd2b",
   "metadata": {},
   "source": [
    "**Результат**"
   ]
  },
  {
   "cell_type": "markdown",
   "id": "c771ea20",
   "metadata": {},
   "source": [
    "<div>\n",
    "<img src=\"14.png\" width=\"550\"/>\n",
    "</div>"
   ]
  },
  {
   "cell_type": "markdown",
   "id": "bf85260f",
   "metadata": {},
   "source": [
    "# Задание 15.\n",
    "\n",
    "**Отберите данные по месяцам с 2010 по 2013 год, когда проходили инвестиционные раунды. Сгруппируйте данные по номеру месяца и получите таблицу, в которой будут поля:**\n",
    "\n",
    "* номер месяца, в котором проходили раунды;\n",
    "* количество уникальных названий фондов из США, которые инвестировали в этом месяце;\n",
    "* количество компаний, купленных за этот месяц;\n",
    "* общая сумма сделок по покупкам в этом месяце."
   ]
  },
  {
   "cell_type": "markdown",
   "id": "e542af95",
   "metadata": {},
   "source": [
    "[К содержанию](#begining)"
   ]
  },
  {
   "cell_type": "code",
   "execution_count": 15,
   "id": "c537104d",
   "metadata": {},
   "outputs": [],
   "source": [
    "# запрос\n",
    "query = \"\"\"\n",
    "WITH mon AS\n",
    "  (SELECT EXTRACT (MONTH\n",
    "                   FROM fr.funded_at) AS month_num,\n",
    "                  COUNT(DISTINCT f.name) AS us_funds\n",
    "   FROM investment AS i\n",
    "   RIGHT JOIN\n",
    "     (SELECT id,\n",
    "             name\n",
    "      FROM fund\n",
    "      WHERE country_code = 'USA') AS f ON i.fund_id = f.id\n",
    "   LEFT JOIN funding_round AS fr ON fr.id = i.funding_round_id\n",
    "   WHERE EXTRACT(YEAR\n",
    "                 FROM fr.funded_at) BETWEEN '2010' AND '2013'\n",
    "   GROUP BY EXTRACT (MONTH\n",
    "                     FROM fr.funded_at)),\n",
    "     accom AS\n",
    "  (SELECT EXTRACT (MONTH\n",
    "                   FROM acquired_at) AS month_num,\n",
    "                  COUNT(acquired_company_id) AS acquired_companies,\n",
    "                  SUM(price_amount) AS total_price_amount\n",
    "   FROM acquisition\n",
    "   WHERE EXTRACT(YEAR\n",
    "                 FROM acquired_at) BETWEEN '2010' AND '2013'\n",
    "   GROUP BY EXTRACT (MONTH\n",
    "                     FROM acquired_at))\n",
    "SELECT mon.month_num,\n",
    "       mon.us_funds,\n",
    "       accom.acquired_companies,\n",
    "       accom.total_price_amount\n",
    "FROM mon --LEFT JOIN usf ON mon.month_num = usf.month_num\n",
    "LEFT JOIN accom ON mon.month_num = accom.month_num\n",
    "\"\"\""
   ]
  },
  {
   "cell_type": "markdown",
   "id": "5a111a8d",
   "metadata": {},
   "source": [
    "**Результат**"
   ]
  },
  {
   "cell_type": "markdown",
   "id": "f86f2723",
   "metadata": {},
   "source": [
    "<div>\n",
    "<img src=\"15.png\" width=\"550\"/>\n",
    "</div>"
   ]
  },
  {
   "cell_type": "markdown",
   "id": "0d5e3a3a",
   "metadata": {},
   "source": [
    "# Задание 16.\n",
    "\n",
    "**Составьте сводную таблицу и выведите среднюю сумму инвестиций для стран, в которых есть стартапы, зарегистрированные в 2011, 2012 и 2013 годах. Данные за каждый год должны быть в отдельном поле. Отсортируйте таблицу по среднему значению инвестиций за 2011 год от большего к меньшему.**"
   ]
  },
  {
   "cell_type": "markdown",
   "id": "2418771c",
   "metadata": {},
   "source": [
    "[К содержанию](#begining)"
   ]
  },
  {
   "cell_type": "code",
   "execution_count": 16,
   "id": "42cd8105",
   "metadata": {},
   "outputs": [],
   "source": [
    "# запрос\n",
    "query = \"\"\"\n",
    "WITH y_2011 AS\n",
    "  (SELECT country_code AS country,\n",
    "          AVG(funding_total) AS total_invest\n",
    "   FROM company\n",
    "   WHERE id IN\n",
    "       (SELECT id\n",
    "        FROM company\n",
    "        WHERE EXTRACT(YEAR\n",
    "                      FROM founded_at) = '2011')\n",
    "   GROUP BY country_code),\n",
    "     y_2012 AS\n",
    "  (SELECT country_code AS country,\n",
    "          AVG(funding_total) AS total_invest\n",
    "   FROM company\n",
    "   WHERE id IN\n",
    "       (SELECT id\n",
    "        FROM company\n",
    "        WHERE EXTRACT(YEAR\n",
    "                      FROM founded_at) = '2012')\n",
    "   GROUP BY country_code),\n",
    "     y_2013 AS\n",
    "  (SELECT country_code AS country,\n",
    "          AVG(funding_total) AS total_invest\n",
    "   FROM company\n",
    "   WHERE id IN\n",
    "       (SELECT id\n",
    "        FROM company\n",
    "        WHERE EXTRACT(YEAR\n",
    "                      FROM founded_at) = '2013')\n",
    "   GROUP BY country_code)\n",
    "SELECT y_2011.country,\n",
    "       y_2011.total_invest AS total_2011,\n",
    "       y_2012.total_invest AS total_2012,\n",
    "       y_2013.total_invest AS total_2013\n",
    "FROM y_2011\n",
    "JOIN y_2012 ON y_2011.country = y_2012.country\n",
    "JOIN y_2013 ON y_2012.country = y_2013.country\n",
    "ORDER BY total_2011 DESC\n",
    "\"\"\""
   ]
  },
  {
   "cell_type": "markdown",
   "id": "34567c0c",
   "metadata": {},
   "source": [
    "**Результат**"
   ]
  },
  {
   "cell_type": "markdown",
   "id": "9988df2c",
   "metadata": {},
   "source": [
    "<div>\n",
    "<img src=\"16.png\" width=\"550\"/>\n",
    "</div>"
   ]
  },
  {
   "cell_type": "markdown",
   "id": "1513fa90",
   "metadata": {},
   "source": [
    "[К содержанию](#begining)"
   ]
  }
 ],
 "metadata": {
  "kernelspec": {
   "display_name": "Python 3 (ipykernel)",
   "language": "python",
   "name": "python3"
  },
  "language_info": {
   "codemirror_mode": {
    "name": "ipython",
    "version": 3
   },
   "file_extension": ".py",
   "mimetype": "text/x-python",
   "name": "python",
   "nbconvert_exporter": "python",
   "pygments_lexer": "ipython3",
   "version": "3.9.7"
  },
  "toc": {
   "base_numbering": 1,
   "nav_menu": {},
   "number_sections": true,
   "sideBar": true,
   "skip_h1_title": false,
   "title_cell": "",
   "title_sidebar": "Contents",
   "toc_cell": true,
   "toc_position": {},
   "toc_section_display": true,
   "toc_window_display": true
  }
 },
 "nbformat": 4,
 "nbformat_minor": 5
}
